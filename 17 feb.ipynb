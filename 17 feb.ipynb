{
 "cells": [
  {
   "cell_type": "markdown",
   "id": "25222567",
   "metadata": {},
   "source": [
    "#1 answer\n",
    "\n",
    "MongoDB is an open-source document-oriented database that is designed to store a large scale of data and also allows you to work with that data very efficiently. It is categorized under the NoSQL (Not only SQL) database because the storage and retrieval of data in the MongoDB are not in the form of tables.\n",
    "\n",
    "Non-relational databases\n",
    "\n",
    "NoSQL Database is a non-relational Data Management System, that does not require a fixed schema.\n",
    "It avoids joins, and is easy to scale.\n",
    "The major purpose of using a NoSQL database is for distributed data stores with humongous data storage needs.\n",
    "NoSQL is used for Big data and real-time web apps.\n",
    "For example, companies like Twitter, Facebook and Google collect terabytes of user data every single day.\n",
    "MongoDB over SQL databases\n",
    "\n",
    "MongoDB is highly and easily scalable\n",
    "Maintaining NoSQL Servers is Less Expensive\n",
    "No Schema or Fixed Data model"
   ]
  },
  {
   "cell_type": "markdown",
   "id": "dbfaeadc",
   "metadata": {},
   "source": [
    "#2 answer\n",
    "\n",
    "\n",
    "Features of MongoDB\n",
    "\n",
    "Sharding\n",
    "Indexing\n",
    "Replication\n",
    "Document-Oriented\n",
    "High performance\n",
    "Ad-hoc Queries\n",
    "Schema-Less Database"
   ]
  },
  {
   "cell_type": "code",
   "execution_count": null,
   "id": "66acc872",
   "metadata": {},
   "outputs": [],
   "source": [
    "#3 answer\n",
    "\n",
    "import pymongo\n",
    "\n",
    "# Connect to DB\n",
    "client = pymongo.MongoClient(\"mongodb://localhost:27017/labDB\")\n",
    "\n",
    "# Create DB\n",
    "db = client[\"labDB\"]\n",
    "\n",
    "# Create Collection\n",
    "collection = db['Products']"
   ]
  },
  {
   "cell_type": "code",
   "execution_count": null,
   "id": "f1c655ee",
   "metadata": {},
   "outputs": [],
   "source": [
    "#4 answer\n",
    "\n",
    "d = {'companyName': 'pwskills',\n",
    "     'product': 'Affordable AI',\n",
    "     'courseOffered': 'Machine Learning with Deployment'}\n",
    "     \n",
    "rec = collection.insert_one(d)\n",
    "\n",
    "list_of_records = [\n",
    "    {'companyName': 'iNeuron',\n",
    "     'product': 'Affordable AI',\n",
    "     'courseOffered': 'Machine Learning with Deployment'},\n",
    "    \n",
    "    {'companyName': 'iNeuron',\n",
    "     'product': 'Affordable AI',\n",
    "     'courseOffered': 'Deep Learning for NLP and Computer vision'},\n",
    "    \n",
    "    {'companyName': 'iNeuron',\n",
    "     'product': 'Master Program',\n",
    "     'courseOffered': 'Data Science Masters Program'}\n",
    "]\n",
    "collection.insert_many(list_of_records)\n",
    "\n",
    "all_record = collection.find()\n",
    "for idx, record in enumerate(all_record):\n",
    "     print(f\"{idx}: {record}\")\n",
    "\n",
    "\n",
    "print(collection.find_one())"
   ]
  },
  {
   "cell_type": "markdown",
   "id": "8013ed36",
   "metadata": {},
   "source": [
    "#6 answer\n",
    "\n",
    "the sort() method specifies the order in which the query returns the matching documents from the given collection. You must apply this method to the cursor before retrieving any documents from the database.\n",
    "\n",
    "db.Collection_Name.sort({filed_name:1 or -1})\n",
    "The value is 1 or -1 that specifies an ascending or descending sort respectively.\n",
    "\n",
    "\n",
    "db.student.find().sort({age:1})"
   ]
  },
  {
   "cell_type": "markdown",
   "id": "29fbca7b",
   "metadata": {},
   "source": [
    "#7 answer\n",
    "\n",
    "delete_one()\n",
    "\n",
    "delete the first documents that match with the specified filter criteria in a collection.\n",
    " db.collection.deleteOne(filter, options)\n",
    "\n",
    "db.employees.deleteOne({ salary:7000 }) \n",
    "deleteMany()\n",
    "\n",
    "delete all the documents that match with the specified filter criteria in a collection.\n",
    " db.collection.deleteMany(filter, options)\n",
    "db.employees.deleteMany({ salary:7000 })\n",
    "drop()\n",
    "\n",
    "used to drop a collection from the database.\n",
    " db.collection.drop()\n",
    "db.employees.drop()"
   ]
  },
  {
   "cell_type": "code",
   "execution_count": null,
   "id": "622ef8a3",
   "metadata": {},
   "outputs": [],
   "source": []
  }
 ],
 "metadata": {
  "kernelspec": {
   "display_name": "Python 3 (ipykernel)",
   "language": "python",
   "name": "python3"
  },
  "language_info": {
   "codemirror_mode": {
    "name": "ipython",
    "version": 3
   },
   "file_extension": ".py",
   "mimetype": "text/x-python",
   "name": "python",
   "nbconvert_exporter": "python",
   "pygments_lexer": "ipython3",
   "version": "3.11.4"
  }
 },
 "nbformat": 4,
 "nbformat_minor": 5
}
