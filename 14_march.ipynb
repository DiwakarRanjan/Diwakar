{
  "nbformat": 4,
  "nbformat_minor": 0,
  "metadata": {
    "colab": {
      "provenance": []
    },
    "kernelspec": {
      "name": "python3",
      "display_name": "Python 3"
    },
    "language_info": {
      "name": "python"
    }
  },
  "cells": [
    {
      "cell_type": "markdown",
      "source": [
        "# 1 answer"
      ],
      "metadata": {
        "id": "cjaqvL1f4zv5"
      }
    },
    {
      "cell_type": "code",
      "source": [
        "import numpy as np\n",
        "from scipy import stats\n",
        "\n",
        "def calculate_f_value(data1, data2):\n",
        "    \"\"\"\n",
        "    Calculate the F-value and p-value for a variance ratio test (F-test).\n",
        "\n",
        "    Parameters:\n",
        "    - data1: numpy array or list, first data set\n",
        "    - data2: numpy array or list, second data set\n",
        "\n",
        "    Returns:\n",
        "    - f_value: F-value for the test\n",
        "    - p_value: p-value for the test\n",
        "    \"\"\"\n",
        "    data1 = np.array(data1)\n",
        "    data2 = np.array(data2)\n",
        "    var1 = np.var(data1, ddof=1)\n",
        "    var2 = np.var(data2, ddof=1)\n",
        "    if var2 > var1:\n",
        "        var1, var2 = var2, var1\n",
        "        data1, data2 = data2, data1\n",
        "    f_value = var1 / var2\n",
        "    df1 = len(data1) - 1\n",
        "    df2 = len(data2) - 1\n",
        "    p_value = 1 - stats.f.cdf(f_value, df1, df2)\n",
        "\n",
        "    return f_value, p_value\n"
      ],
      "metadata": {
        "id": "P-JEdGRq6upK"
      },
      "execution_count": 5,
      "outputs": []
    },
    {
      "cell_type": "code",
      "source": [
        "data1=[15,26,20,13,18]\n",
        "data2=[10,12,11,13,12]\n",
        "f_value, p_value = calculate_f_value(data1, data2)\n",
        "print(f\"F-value:{f_value}\")\n",
        "print(f\"P-value:{p_value}\")"
      ],
      "metadata": {
        "colab": {
          "base_uri": "https://localhost:8080/"
        },
        "id": "5wg0YQAr6Kzu",
        "outputId": "b6c48698-56ea-49c5-feb1-24a9515a6d93"
      },
      "execution_count": 6,
      "outputs": [
        {
          "output_type": "stream",
          "name": "stdout",
          "text": [
            "F-value:19.461538461538463\n",
            "P-value:0.00693200863541632\n"
          ]
        }
      ]
    },
    {
      "cell_type": "markdown",
      "source": [
        "# 2 answer"
      ],
      "metadata": {
        "id": "9RdF5jBB7cEw"
      }
    },
    {
      "cell_type": "code",
      "source": [
        "from scipy import stats\n",
        "\n",
        "def get_critical_f_value(alpha, dfn, dfd):\n",
        "    \"\"\"\n",
        "    Calculate the critical F-value for a two-tailed test at a given significance level.\n",
        "\n",
        "    Parameters:\n",
        "    - alpha: Significance level (e.g., 0.05 for a 5% significance level)\n",
        "    - dfn: Degrees of freedom for the numerator\n",
        "    - dfd: Degrees of freedom for the denominator\n",
        "\n",
        "    Returns:\n",
        "    - critical_f_value: Critical F-value for the given significance level and degrees of freedom\n",
        "    \"\"\"\n",
        "    # Calculate the critical F-value for a two-tailed test\n",
        "    critical_f_value = stats.f.ppf(1 - alpha / 2, dfn, dfd)\n",
        "\n",
        "    return critical_f_value\n"
      ],
      "metadata": {
        "id": "QKMCUk6Q8SAr"
      },
      "execution_count": 8,
      "outputs": []
    },
    {
      "cell_type": "code",
      "source": [
        "alpha=0.05\n",
        "dfn=3\n",
        "dfd=10\n",
        "critical_f_value=get_critical_f_value(alpha,dfn,dfd)\n",
        "print(f\"Critical F-value:{critical_f_value}\")"
      ],
      "metadata": {
        "colab": {
          "base_uri": "https://localhost:8080/"
        },
        "id": "l_LSvXEI8gLL",
        "outputId": "2e67dd59-b5e6-4b26-8265-1aae4f250649"
      },
      "execution_count": 10,
      "outputs": [
        {
          "output_type": "stream",
          "name": "stdout",
          "text": [
            "Critical F-value:4.825621493405406\n"
          ]
        }
      ]
    },
    {
      "cell_type": "markdown",
      "source": [
        "# 3 answer"
      ],
      "metadata": {
        "id": "nmy_aFp0899g"
      }
    },
    {
      "cell_type": "code",
      "source": [
        "import numpy as np\n",
        "from scipy import stats\n",
        "\n",
        "def perform_f_test(data1, data2, var1, var2, alpha):\n",
        "    \"\"\"\n",
        "    Perform an F-test to compare the variances of two normal distributions.\n",
        "\n",
        "    Parameters:\n",
        "    - data1: numpy array or list, random samples from the first distribution\n",
        "    - data2: numpy array or list, random samples from the second distribution\n",
        "    - var1: Known variance of the first distribution\n",
        "    - var2: Known variance of the second distribution\n",
        "    - alpha: Significance level\n",
        "\n",
        "    Returns:\n",
        "    - f_value: F-value for the test\n",
        "    - dfn: Degrees of freedom for the numerator\n",
        "    - dfd: Degrees of freedom for the denominator\n",
        "    - p_value: p-value for the test\n",
        "    \"\"\"\n",
        "    # Calculate the sample variances\n",
        "    sample_var1 = np.var(data1, ddof=1)\n",
        "    sample_var2 = np.var(data2, ddof=1)\n",
        "\n",
        "    # Degrees of freedom for the numerator and denominator\n",
        "    dfn = len(data1) - 1\n",
        "    dfd = len(data2) - 1\n",
        "\n",
        "    # Calculate the F-value\n",
        "    f_value = sample_var1 / sample_var2\n",
        "\n",
        "    # Calculate the p-value for the F-test\n",
        "    p_value = 2 * min(stats.f.cdf(f_value, dfn, dfd), 1 - stats.f.cdf(f_value, dfn, dfd))\n",
        "\n",
        "    return f_value, dfn, dfd, p_value\n",
        "\n",
        "# Generate random samples from two normal distributions\n",
        "np.random.seed(42)  # Set a seed for reproducibility\n",
        "data1 = np.random.normal(loc=0, scale=1, size=100)  # First distribution\n",
        "data2 = np.random.normal(loc=0, scale=1.5, size=100)  # Second distribution\n",
        "\n",
        "# Known variances of the two distributions\n",
        "variance1 = 1\n",
        "variance2 = 1.5 ** 2\n",
        "\n",
        "# Significance level\n",
        "alpha = 0.05\n",
        "\n",
        "# Perform the F-test\n",
        "f_value, dfn, dfd, p_value = perform_f_test(data1, data2, variance1, variance2, alpha)\n",
        "\n",
        "# Output the results\n",
        "print(f\"F-value: {f_value}\")\n",
        "print(f\"Degrees of freedom (numerator): {dfn}\")\n",
        "print(f\"Degrees of freedom (denominator): {dfd}\")\n",
        "print(f\"P-value: {p_value}\")\n",
        "\n",
        "# Determine if the null hypothesis is rejected or not\n",
        "if p_value < alpha:\n",
        "    print(\"Reject the null hypothesis: Variances are not equal.\")\n",
        "else:\n",
        "    print(\"Fail to reject the null hypothesis: Variances are equal.\")\n"
      ],
      "metadata": {
        "colab": {
          "base_uri": "https://localhost:8080/"
        },
        "id": "nFtSAv0Y-fhX",
        "outputId": "ee0b9e71-af32-4c3d-ed7f-0eb363ce2b67"
      },
      "execution_count": 13,
      "outputs": [
        {
          "output_type": "stream",
          "name": "stdout",
          "text": [
            "F-value: 0.4030463392763856\n",
            "Degrees of freedom (numerator): 99\n",
            "Degrees of freedom (denominator): 99\n",
            "P-value: 9.191624675736516e-06\n",
            "Reject the null hypothesis: Variances are not equal.\n"
          ]
        }
      ]
    },
    {
      "cell_type": "markdown",
      "source": [
        "# 4 answer\n",
        "\n",
        "1. Set up the null and alternative hypotheses:\n",
        "\n",
        "Null Hypothesis (H0): The variances of the two populations are equal.\n",
        "Alternative Hypothesis (Ha): The variances of the two populations are not equal.\n",
        "\n",
        "2. Calculate the F-statistic using the formula:\n",
        "\n",
        "F = (s1^2) / (s2^2)\n",
        "\n",
        "where s1^2 and s2^2 are the sample variances of the two populations.\n",
        "\n",
        "3. Determine the degrees of freedom for both the numerator and the denominator. For the numerator (dfn), it's the degrees of freedom associated with the larger variance, and for the denominator (dfd), it's the degrees of freedom associated with the smaller variance.\n",
        "\n",
        "dfn = n1 - 1\n",
        "dfd = n2 - 1\n",
        "\n",
        "In this case, n1 = n2 = 12, so dfn = dfd = 11.\n",
        "\n",
        "4. Set the significance level (alpha) to 0.05.\n",
        "\n",
        "5. Calculate the critical F-value using the scipy library, which corresponds to a 5% significance level and the degrees of freedom (11 and 11).\n",
        "\n",
        "6. Compare the calculated F-statistic to the critical F-value. If the calculated F-statistic is greater than the critical F-value, you reject the null hypothesis."
      ],
      "metadata": {
        "id": "7E7dG9Zp-tR1"
      }
    },
    {
      "cell_type": "code",
      "source": [
        "import numpy as np\n",
        "from scipy import stats\n",
        "\n",
        "variance1 = 10\n",
        "variance2 = 15\n",
        "\n",
        "n1 = n2 = 12\n",
        "\n",
        "alpha = 0.05\n",
        "\n",
        "np.random.seed(42)\n",
        "sample1 = np.random.normal(loc=0, scale=np.sqrt(variance1), size=n1)\n",
        "sample2 = np.random.normal(loc=0, scale=np.sqrt(variance2), size=n2)\n",
        "\n",
        "sample_var1 = np.var(sample1, ddof=1)\n",
        "sample_var2 = np.var(sample2, ddof=1)\n",
        "\n",
        "f_statistic = sample_var1 / sample_var2\n",
        "\n",
        "dfn = n1 - 1\n",
        "dfd = n2 - 1\n",
        "\n",
        "critical_f_value = stats.f.ppf(1 - alpha / 2, dfn, dfd)\n",
        "\n",
        "if f_statistic > critical_f_value:\n",
        "    print(f\"Reject the null hypothesis: Variances are significantly different.\")\n",
        "else:\n",
        "    print(f\"Fail to reject the null hypothesis: Variances are not significantly different.\")\n",
        "\n",
        "print(f\"Calculated F-statistic: {f_statistic}\")\n",
        "print(f\"Critical F-value: {critical_f_value}\")\n",
        "print(f\"Degrees of freedom (numerator): {dfn}\")\n",
        "print(f\"Degrees of freedom (denominator): {dfd}\")\n"
      ],
      "metadata": {
        "colab": {
          "base_uri": "https://localhost:8080/"
        },
        "id": "fMue0Ly7-pOZ",
        "outputId": "8d335a64-ee5b-474f-9ed3-7f8123982754"
      },
      "execution_count": 14,
      "outputs": [
        {
          "output_type": "stream",
          "name": "stdout",
          "text": [
            "Fail to reject the null hypothesis: Variances are not significantly different.\n",
            "Calculated F-statistic: 0.3694885544859157\n",
            "Critical F-value: 3.473699051085809\n",
            "Degrees of freedom (numerator): 11\n",
            "Degrees of freedom (denominator): 11\n"
          ]
        }
      ]
    },
    {
      "cell_type": "markdown",
      "source": [
        "# 5 answer\n",
        "\n",
        "1. Set up the null and alternative hypotheses:\n",
        "\n",
        "Null Hypothesis (H0): The claimed variance (0.005) is justified.\n",
        "Alternative Hypothesis (Ha): The claimed variance (0.005) is not justified.\n",
        "\n",
        "2. Calculate the F-statistic using the formula:\n",
        "\n",
        "F = (sample variance) / (claimed variance)\n",
        "\n",
        "where the sample variance is 0.006, and the claimed variance is 0.005.\n",
        "\n",
        "3. Determine the degrees of freedom for both the numerator and the denominator. For the numerator (dfn), it's the degrees of freedom associated with the sample variance, which is the sample size minus one (dfn = 25 - 1 = 24). For the denominator (dfd), it's the degrees of freedom associated with the claimed variance, which is one (dfd = 1).\n",
        "\n",
        "4. Set the significance level (alpha) to 0.01 (1% significance level).\n",
        "\n",
        "5. Calculate the critical F-value using the scipy library, which corresponds to a 1% significance level and the degrees of freedom (24 and 1).\n",
        "\n",
        "6. Compare the calculated F-statistic to the critical F-value. If the calculated F-statistic is greater than the critical F-value, you reject the null hypothesis."
      ],
      "metadata": {
        "id": "CiPkMqAk_jye"
      }
    },
    {
      "cell_type": "code",
      "source": [
        "from scipy import stats\n",
        "claimed_variance=0.005\n",
        "sample_variance=0.006\n",
        "n=25\n",
        "alpha=0.01\n",
        "f_statistic = sample_variance/claimed_variance\n",
        "dfn=n-1\n",
        "dfd=1\n",
        "critical_f_value=stats.f.ppf(1 - alpha, dfn, dfd)\n",
        "if f_statistic > critical_f_value:\n",
        "  print(f\"Reject the null hypothesis:claimed variance is not justified.\")\n",
        "else:\n",
        "  print(f\"Fail to reject the Null hypothesis:claimed variance is justified\")\n",
        "\n",
        "print(f\"Calculated F-statistic : {f_statistic}\")\n",
        "print(f\"Critical F-value: {critical_f_value}\")\n",
        "print(f\"Degree of freedom (numerator):{dfn}\")\n",
        "print(f\"Degree of freedom (denominator):{dfd}\")"
      ],
      "metadata": {
        "colab": {
          "base_uri": "https://localhost:8080/"
        },
        "id": "EYh5dcQ6_ivG",
        "outputId": "0135e566-bf7d-4f2d-819d-3647f06ae58a"
      },
      "execution_count": 15,
      "outputs": [
        {
          "output_type": "stream",
          "name": "stdout",
          "text": [
            "Fail to reject the Null hypothesis:claimed variance is justified\n",
            "Calculated F-statistic : 1.2\n",
            "Critical F-value: 6234.6308935330835\n",
            "Degree of freedom (numerator):24\n",
            "Degree of freedom (denominator):1\n"
          ]
        }
      ]
    },
    {
      "cell_type": "markdown",
      "source": [
        "# 6 answer\n"
      ],
      "metadata": {
        "id": "m8x19gFqCqng"
      }
    },
    {
      "cell_type": "code",
      "source": [
        "def calculate_f_distribution_mean_and_variance(dfn, dfd):\n",
        "    \"\"\"\n",
        "    Calculate the mean and variance of an F-distribution.\n",
        "\n",
        "    Parameters:\n",
        "    - dfn: Degrees of freedom for the numerator\n",
        "    - dfd: Degrees of freedom for the denominator\n",
        "\n",
        "    Returns:\n",
        "    - (mean, variance): A tuple containing the mean and variance of the F-distribution\n",
        "    \"\"\"\n",
        "    if dfd > 2:\n",
        "        mean = dfd / (dfd - 2)\n",
        "    else:\n",
        "        mean = float('inf')\n",
        "\n",
        "    if dfd > 4:\n",
        "        variance = (2 * (dfd**2) * (dfn + dfd - 2)) / ((dfn * (dfd - 2)**2 * (dfd - 4)))\n",
        "    else:\n",
        "        variance = float('inf')\n",
        "\n",
        "    return mean, variance\n",
        "\n",
        "dfn = 5\n",
        "dfd = 10\n",
        "\n",
        "mean, variance = calculate_f_distribution_mean_and_variance(dfn, dfd)\n",
        "print(f\"Mean: {mean}\")\n",
        "print(f\"Variance: {variance}\")\n"
      ],
      "metadata": {
        "colab": {
          "base_uri": "https://localhost:8080/"
        },
        "id": "OM76E53DCoQG",
        "outputId": "51034173-bf32-4313-ff62-536d8628a854"
      },
      "execution_count": 16,
      "outputs": [
        {
          "output_type": "stream",
          "name": "stdout",
          "text": [
            "Mean: 1.25\n",
            "Variance: 1.3541666666666667\n"
          ]
        }
      ]
    },
    {
      "cell_type": "markdown",
      "source": [
        "# 7 answer\n",
        "\n",
        "1. Set up the null and alternative hypotheses:\n",
        "\n",
        "Null Hypothesis (H0): The variances of the two populations are equal.\n",
        "Alternative Hypothesis (Ha): The variances of the two populations are not equal.\n",
        "\n",
        "2. Calculate the F-statistic using the formula:\n",
        "\n",
        "F = (sample variance of the first population) / (sample variance of the second population)\n",
        "\n",
        "where the sample variance of the first population is 25, and the sample variance of the second population is 20.\n",
        "\n",
        "3. Determine the degrees of freedom for both the numerator and the denominator. For the numerator (dfn), it's the degrees of freedom associated with the larger sample variance, and for the denominator (dfd), it's the degrees of freedom associated with the smaller sample variance.\n",
        "\n",
        "dfn = 15 - 1 # Degrees of freedom for the larger sample variance\n",
        "dfd = 10 - 1 # Degrees of freedom for the smaller sample variance\n",
        "\n",
        "4. Set the significance level (alpha) to 0.10 (10% significance level).\n",
        "\n",
        "5. Calculate the critical F-value using the scipy library, which corresponds to a 10% significance level and the degrees of freedom (dfn and dfd)."
      ],
      "metadata": {
        "id": "I3TIU0_FEN-w"
      }
    },
    {
      "cell_type": "code",
      "source": [
        "from scipy import stats\n",
        "sample_variance1 = 25\n",
        "sample_variance2 = 20\n",
        "dfn = 15 - 1\n",
        "dfd = 10 - 1\n",
        "alpha = 0.10\n",
        "f_statistic = sample_variance1 / sample_variance2\n",
        "critical_f_value = stats.f.ppf(1 - alpha / 2, dfn, dfd)\n",
        "if f_statistic > critical_f_value:\n",
        "    print(f\"Reject the null hypothesis: Variances are significantly different.\")\n",
        "else:\n",
        "    print(f\"Fail to reject the null hypothesis: Variances are not significantly different.\")\n",
        "\n",
        "print(f\"Calculated F-statistic: {f_statistic}\")\n",
        "print(f\"Critical F-value: {critical_f_value}\")\n",
        "print(f\"Degrees of freedom (numerator): {dfn}\")\n",
        "print(f\"Degrees of freedom (denominator): {dfd}\")\n"
      ],
      "metadata": {
        "colab": {
          "base_uri": "https://localhost:8080/"
        },
        "id": "T8o8aJDjDJKe",
        "outputId": "5d5f4ed0-1722-46b6-bfe1-41001b9a7947"
      },
      "execution_count": 17,
      "outputs": [
        {
          "output_type": "stream",
          "name": "stdout",
          "text": [
            "Fail to reject the null hypothesis: Variances are not significantly different.\n",
            "Calculated F-statistic: 1.25\n",
            "Critical F-value: 3.0254727242822095\n",
            "Degrees of freedom (numerator): 14\n",
            "Degrees of freedom (denominator): 9\n"
          ]
        }
      ]
    },
    {
      "cell_type": "markdown",
      "source": [
        "# 8 answer"
      ],
      "metadata": {
        "id": "rLnBRpUHE00v"
      }
    },
    {
      "cell_type": "code",
      "source": [
        "import numpy as np\n",
        "from scipy import stats\n",
        "waiting_times_a = np.array([24, 25, 28, 23, 22, 20, 27])\n",
        "waiting_times_b = np.array([31, 33, 35, 30, 32, 36])\n",
        "\n",
        "sample_variance_a = np.var(waiting_times_a, ddof=1)\n",
        "sample_variance_b = np.var(waiting_times_b, ddof=1)\n",
        "\n",
        "dfn = len(waiting_times_b) - 1\n",
        "dfd = len(waiting_times_a) - 1\n",
        "\n",
        "alpha = 0.05\n",
        "\n",
        "f_statistic = sample_variance_a / sample_variance_b\n",
        "\n",
        "critical_f_value = stats.f.ppf(1 - alpha / 2, dfn, dfd)\n",
        "\n",
        "if f_statistic > critical_f_value:\n",
        "    print(f\"Reject the null hypothesis: Variances are significantly different.\")\n",
        "else:\n",
        "    print(f\"Fail to reject the null hypothesis: Variances are not significantly different.\")\n",
        "\n",
        "print(f\"Calculated F-statistic: {f_statistic}\")\n",
        "print(f\"Critical F-value: {critical_f_value}\")\n",
        "print(f\"Degrees of freedom (numerator): {dfn}\")\n",
        "print(f\"Degrees of freedom (denominator): {dfd}\")\n"
      ],
      "metadata": {
        "colab": {
          "base_uri": "https://localhost:8080/"
        },
        "id": "eLelEruAEomz",
        "outputId": "39415c58-a300-4776-96a7-94625f57a35e"
      },
      "execution_count": 18,
      "outputs": [
        {
          "output_type": "stream",
          "name": "stdout",
          "text": [
            "Fail to reject the null hypothesis: Variances are not significantly different.\n",
            "Calculated F-statistic: 1.4551907719609583\n",
            "Critical F-value: 5.987565126046928\n",
            "Degrees of freedom (numerator): 5\n",
            "Degrees of freedom (denominator): 6\n"
          ]
        }
      ]
    },
    {
      "cell_type": "markdown",
      "source": [
        "# 9 answer\n",
        "\n",
        "1. Set up the null and alternative hypotheses:\n",
        "\n",
        "Null Hypothesis (H0): The variances of the test scores in both groups are equal.\n",
        "Alternative Hypothesis (Ha): The variances of the test scores in both groups are not equal.\n",
        "\n",
        "2. Calculate the sample variances for each group.\n",
        "\n",
        "3. Determine the degrees of freedom for both the numerator and the denominator. For the numerator (dfn), it's the degrees of freedom associated with the larger sample variance, and for the denominator (dfd), it's the degrees of freedom associated with the smaller sample variance.\n",
        "\n",
        "4. Set the significance level (alpha) to 0.01 (1% significance level).\n",
        "\n",
        "5. Calculate the F-statistic using the formula:\n",
        "\n",
        "F = (sample variance of Group A) / (sample variance of Group B)\n",
        "\n",
        "6. Calculate the critical F-value using the scipy library, which corresponds to a 1% significance level and the degrees of freedom (dfn and dfd).\n",
        "\n",
        "7. Compare the calculated F-statistic to the critical F-value. If the calculated F-statistic is greater than the critical F-value, you reject the null hypothesis."
      ],
      "metadata": {
        "id": "aWbVGFLTFHvO"
      }
    },
    {
      "cell_type": "code",
      "source": [
        "import numpy as np\n",
        "from scipy import stats\n",
        "\n",
        "group_a_scores = np.array([80, 85, 90, 92, 87, 83])\n",
        "group_b_scores = np.array([75, 78, 82, 79, 81, 84])\n",
        "\n",
        "sample_variance_a = np.var(group_a_scores, ddof=1)\n",
        "sample_variance_b = np.var(group_b_scores, ddof=1)\n",
        "\n",
        "dfn = len(group_b_scores) - 1\n",
        "dfd = len(group_a_scores) - 1\n",
        "\n",
        "alpha = 0.01\n",
        "\n",
        "f_statistic = sample_variance_a / sample_variance_b\n",
        "\n",
        "critical_f_value = stats.f.ppf(1 - alpha / 2, dfn, dfd)\n",
        "if f_statistic > critical_f_value:\n",
        "    print(f\"Reject the null hypothesis: Variances are significantly different.\")\n",
        "else:\n",
        "    print(f\"Fail to reject the null hypothesis: Variances are not significantly different.\")\n",
        "\n",
        "print(f\"Calculated F-statistic: {f_statistic}\")\n",
        "print(f\"Critical F-value: {critical_f_value}\")\n",
        "print(f\"Degrees of freedom (numerator): {dfn}\")\n",
        "print(f\"Degrees of freedom (denominator): {dfd}\")\n"
      ],
      "metadata": {
        "colab": {
          "base_uri": "https://localhost:8080/"
        },
        "id": "QAGOKi-xFAkP",
        "outputId": "f75bb344-35ce-4c66-bd7f-1b803a446448"
      },
      "execution_count": 19,
      "outputs": [
        {
          "output_type": "stream",
          "name": "stdout",
          "text": [
            "Fail to reject the null hypothesis: Variances are not significantly different.\n",
            "Calculated F-statistic: 1.9442622950819677\n",
            "Critical F-value: 14.939605459912224\n",
            "Degrees of freedom (numerator): 5\n",
            "Degrees of freedom (denominator): 5\n"
          ]
        }
      ]
    },
    {
      "cell_type": "code",
      "source": [],
      "metadata": {
        "id": "kMDGYTdUFjUI"
      },
      "execution_count": null,
      "outputs": []
    }
  ]
}