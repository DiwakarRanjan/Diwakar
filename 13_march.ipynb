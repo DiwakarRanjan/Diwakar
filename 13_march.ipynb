{
  "nbformat": 4,
  "nbformat_minor": 0,
  "metadata": {
    "colab": {
      "provenance": []
    },
    "kernelspec": {
      "name": "python3",
      "display_name": "Python 3"
    },
    "language_info": {
      "name": "python"
    }
  },
  "cells": [
    {
      "cell_type": "markdown",
      "source": [
        "# 1 answer\n",
        "Assumption 1: Normality of Residuals\n",
        "We can use a normality test, such as the Shapiro-Wilk test or visual inspection of a Q-Q plot, to check for normality of residuals.\n",
        "\n"
      ],
      "metadata": {
        "id": "ohB3WHfGINNb"
      }
    },
    {
      "cell_type": "code",
      "execution_count": 2,
      "metadata": {
        "colab": {
          "base_uri": "https://localhost:8080/",
          "height": 501
        },
        "id": "XBbqLS8xHxSF",
        "outputId": "4cfe25a7-450b-431a-b522-0be04f322e12"
      },
      "outputs": [
        {
          "output_type": "display_data",
          "data": {
            "text/plain": [
              "<Figure size 640x480 with 1 Axes>"
            ],
            "image/png": "[encoded data removed]"
          },
          "metadata": {}
        },
        {
          "output_type": "stream",
          "name": "stdout",
          "text": [
            "shapiro-wiki test for setosa:p-value=0.4595010578632355\n",
            "shapiro-wiki test for versicolor:p-value=0.4647378921508789\n",
            "shapiro-wiki test for virginica:p-value=0.25831347703933716\n"
          ]
        }
      ],
      "source": [
        "import seaborn as sns\n",
        "import scipy.stats as stats\n",
        "import matplotlib.pyplot as plt\n",
        "data=sns.load_dataset(\"iris\")\n",
        "sns.boxplot(x=\"species\",y=\"sepal_length\",data=data)\n",
        "plt.show()\n",
        "for species in data[\"species\"].unique():\n",
        "  subset=data[data[\"species\"]==species]\n",
        "  stat,p=stats.shapiro(subset[\"sepal_length\"])\n",
        "  print(f\"shapiro-wiki test for {species}:p-value={p}\")"
      ]
    },
    {
      "cell_type": "markdown",
      "source": [
        "Assumption 2: Homogeneity of Variances\n",
        "Levene's test or Barlett's test can be used to assess the homogeneity of variances."
      ],
      "metadata": {
        "id": "uF0kaO_MJhrt"
      }
    },
    {
      "cell_type": "code",
      "source": [
        "import scipy.stats as stats\n",
        "stat,p=stats.levene(data[data[\"species\"]==\"setosa\"][\"sepal_length\"],\n",
        "                    data[data[\"species\"]==\"versicolor\"][\"sepal_length\"],\n",
        "                    data[data[\"species\"]==\"virginica\"][\"sepal_length\"])\n",
        "print(f\"levene's test: p-value={p}\")"
      ],
      "metadata": {
        "colab": {
          "base_uri": "https://localhost:8080/"
        },
        "id": "9eTzy9J_JgXv",
        "outputId": "0d48be73-e176-4b79-bf55-bb0a67ae8f57"
      },
      "execution_count": 5,
      "outputs": [
        {
          "output_type": "stream",
          "name": "stdout",
          "text": [
            "levene's test: p-value=0.0022585277836218586\n"
          ]
        }
      ]
    },
    {
      "cell_type": "markdown",
      "source": [
        "ssumption 3: Independence\n",
        "In most cases, independence is assumed unless the experimental design violates this assumption (e.g., repeated measures).\n",
        "\n",
        "Assumption 4: Random Sampling\n",
        "Random sampling is a fundamental assumption that should be ensured during the data collection process."
      ],
      "metadata": {
        "id": "jnBs__QgKpYQ"
      }
    },
    {
      "cell_type": "markdown",
      "source": [
        "# 2 answer\n",
        "One-Way ANOVA:\n",
        "One-Way ANOVA is used when you have one categorical independent variable (factor) and one continuous dependent variable. It is used to test whether there are significant differences in the means of the dependent variable across different levels of the categorical factor.\n",
        "\n",
        "Use Cases:\n",
        "\n",
        "Comparing the performance of different teaching methods (factor: teaching method, dependent variable: student test scores).\n",
        "Analyzing the effects of different doses of a drug on patient recovery (factor: drug dose, dependent variable: recovery time)."
      ],
      "metadata": {
        "id": "Ete1IjmYKvmo"
      }
    },
    {
      "cell_type": "markdown",
      "source": [
        "Two-Way ANOVA:\n",
        "Two-Way ANOVA is used when you have two independent variables (factors) and you want to analyze how their interactions affect a dependent variable. You can use the statsmodels library to perform Two-Way ANOVA with interactions.\n",
        "\n",
        "Use Cases:\n",
        "\n",
        "Investigating how the effectiveness of a diet plan varies based on both gender and exercise frequency (factors: gender, exercise frequency; dependent variable: weight loss).\n",
        "Studying the effects of different types of fertilizer and watering frequencies on plant growth (factors: fertilizer type, watering frequency; dependent variable: plant height).\n"
      ],
      "metadata": {
        "id": "tz7TeOXAMpEX"
      }
    },
    {
      "cell_type": "markdown",
      "source": [
        "Repeated Measures ANOVA:\n",
        "Repeated Measures ANOVA is used when you have one continuous dependent variable and two or more related categorical independent variables (factors) measured on the same subjects or items across different time points or conditions. It accounts for the within-subjects correlation between measurements.\n",
        "\n",
        "Use Cases:\n",
        "\n",
        "Examining the effects of different types of therapy on depression levels measured before treatment, after 4 weeks, and after 8 weeks (factors: therapy type, time; dependent variable: depression scores).\n",
        "Analyzing the changes in students' math scores across different time points during a semester (factors: time, student; dependent variable: math scores)."
      ],
      "metadata": {
        "id": "ZpC0BZixNs98"
      }
    },
    {
      "cell_type": "markdown",
      "source": [
        "# 3 answer\n",
        "1. Between-Groups Variance (Treatment Variance):\n",
        "This component represents the variability among the group means. It quantifies the differences between the means of different groups being compared. Larger between-groups variance indicates that the group means are more spread out from each other.\n",
        "\n",
        "2. Within-Groups Variance (Error Variance):\n",
        "This component accounts for the variability within each group. It represents the random variability and measurement error inherent within each group. Smaller within-groups variance implies that the data points within each group are relatively close to the group mean.\n",
        "\n",
        "3. Total Variance:\n",
        "The total variance is the overall variability observed in the entire dataset. It's the sum of the between-groups variance and the within-groups variance.\n",
        "\n",
        "The partitioning of variance is typically presented in the form of an ANOVA table, which summarizes the sources of variation, degrees of freedom, sum of squares, mean squares, and F-ratios associated with each component. The F-ratio is calculated by dividing the mean squares of between-groups variance by the mean squares of within-groups variance.\n",
        "\n",
        "Why is it important to understand partitioning of variance?\n",
        "\n",
        "1. Identification of Significant Effects:\n",
        "Partitioning of variance allows you to assess whether the observed differences between groups are statistically significant or if they could have occurred due to random chance. Significant differences in the between-groups variance suggest that the factor being investigated has an effect on the dependent variable.\n",
        "\n",
        "2. Interpretation of Results:\n",
        "Understanding the partitioning of variance helps in interpreting ANOVA results. By analyzing the components of variance, you can explain how much of the total variability is due to systematic factors (between-groups) and how much is due to random variability (within-groups).\n",
        "\n",
        "3. Guidance for Further Analysis:\n",
        "The proportions of variance explained by between-groups and within-groups factors can guide further analysis or investigations. For example, if most of the variance is due to within-groups variability, it might indicate the need for more refined measurement methods.\n",
        "\n",
        "4. Model Selection and Improvement:\n",
        "Partitioning of variance can guide decisions related to model selection and refinement. If the between-groups variance explains a significant portion of the total variance, it indicates that the model is capturing meaningful differences in the data."
      ],
      "metadata": {
        "id": "w8H1CcBIN3qu"
      }
    },
    {
      "cell_type": "markdown",
      "source": [
        "# 4 answer"
      ],
      "metadata": {
        "id": "B1b4k1kEOrIQ"
      }
    },
    {
      "cell_type": "code",
      "source": [
        "import numpy as np\n",
        "import scipy.stats as stats\n",
        "group1 = np.array([10, 15, 12, 18, 14])\n",
        "group2 = np.array([22, 28, 25, 30, 27])\n",
        "group3 = np.array([35, 40, 38, 42, 39])\n",
        "all_data = np.concatenate((group1, group2, group3))\n",
        "overall_mean = np.mean(all_data)\n",
        "sst = np.sum((all_data - overall_mean)**2)\n",
        "group1_mean = np.mean(group1)\n",
        "group2_mean = np.mean(group2)\n",
        "group3_mean = np.mean(group3)\n",
        "sse = np.sum((group1_mean - overall_mean)**2) * len(group1) + \\\n",
        "      np.sum((group2_mean - overall_mean)**2) * len(group2) + \\\n",
        "      np.sum((group3_mean - overall_mean)**2) * len(group3)\n",
        "ssr = np.sum((group1 - group1_mean)**2) + \\\n",
        "      np.sum((group2 - group2_mean)**2) + \\\n",
        "      np.sum((group3 - group3_mean)**2)\n",
        "assert np.isclose(sst, sse + ssr)\n",
        "print(\"Total Sum of Squares (SST):\", sst)\n",
        "print(\"Explained Sum of Squares (SSE):\", sse)\n",
        "print(\"Residual Sum of Squares (SSR):\", ssr)\n"
      ],
      "metadata": {
        "colab": {
          "base_uri": "https://localhost:8080/"
        },
        "id": "G8P5gwOUNdLe",
        "outputId": "8a66a3c8-369b-47e8-db18-09348673865e"
      },
      "execution_count": 12,
      "outputs": [
        {
          "output_type": "stream",
          "name": "stdout",
          "text": [
            "Total Sum of Squares (SST): 1663.3333333333335\n",
            "Explained Sum of Squares (SSE): 1562.5333333333328\n",
            "Residual Sum of Squares (SSR): 100.8\n"
          ]
        }
      ]
    },
    {
      "cell_type": "markdown",
      "source": [
        "# 5 answer"
      ],
      "metadata": {
        "id": "k6FiGriyPMyf"
      }
    },
    {
      "cell_type": "code",
      "source": [
        "import pandas as pd\n",
        "import statsmodels.api as sm\n",
        "from statsmodels.formula.api import ols\n",
        "data = pd.DataFrame({\n",
        "    'factor1': ['A'] * 10 + ['B'] * 10 + ['A'] * 10 + ['B'] * 10,\n",
        "    'factor2': ['X'] * 20 + ['Y'] * 20,\n",
        "    'dependent_variable': [4, 5, 3, 6, 7, 5, 8, 9, 6, 5,\n",
        "                           2, 3, 2, 4, 5, 3, 6, 7, 5, 8,\n",
        "                           7, 8, 6, 9, 10, 8, 11, 12, 9, 8,\n",
        "                           3, 4, 2, 5, 6, 4, 7, 8, 5, 6]\n",
        "})\n",
        "model = ols('dependent_variable ~ factor1 * factor2', data=data).fit()\n",
        "main_effect_factor1 = model.params['factor1[T.B]']\n",
        "main_effect_factor2 = model.params['factor2[T.Y]']\n",
        "interaction_effect = model.params['factor1[T.B]:factor2[T.Y]']\n",
        "print(\"Main Effect of Factor 1:\", main_effect_factor1)\n",
        "print(\"Main Effect of Factor 2:\", main_effect_factor2)\n",
        "print(\"Interaction Effect:\", interaction_effect)"
      ],
      "metadata": {
        "colab": {
          "base_uri": "https://localhost:8080/"
        },
        "id": "jPKR36T5PBpF",
        "outputId": "7faf321a-0c39-43e2-9831-335eae3c3613"
      },
      "execution_count": 13,
      "outputs": [
        {
          "output_type": "stream",
          "name": "stdout",
          "text": [
            "Main Effect of Factor 1: -1.2999999999999996\n",
            "Main Effect of Factor 2: 2.9999999999999964\n",
            "Interaction Effect: -2.4999999999999982\n"
          ]
        }
      ]
    },
    {
      "cell_type": "markdown",
      "source": [
        "# 6 answer\n",
        "\n",
        "1. F-Statistic: The F-statistic of 5.23 indicates the ratio of the explained variability (between-group variability) to the unexplained variability (within-group variability). A larger F-statistic suggests that the group means differ more from each other compared to the variability within each group.\n",
        "\n",
        "2. p-Value: The p-value of 0.02 is the probability of obtaining an F-statistic as extreme as 5.23 (or more extreme) if the null hypothesis of equal group means is true. A p-value of 0.02 indicates that if the group means were equal, there's only a 2% chance of observing an F-statistic as large as 5.23 or larger.\n",
        "\n",
        "3. Interpretation:\n",
        "With a p-value of 0.02, which is less than the common significance level of 0.05, you have evidence to reject the null hypothesis that the group means are equal. In other words:\n",
        "\n",
        "The differences between the groups are statistically significant.\n",
        "At least one group mean is significantly different from the others.\n",
        "The observed differences are unlikely to have occurred due to random chance alone."
      ],
      "metadata": {
        "id": "6kDj2Ek7Pu8V"
      }
    },
    {
      "cell_type": "markdown",
      "source": [
        "# 7 answer\n",
        "Listwise Deletion:\n",
        "Listwise deletion involves removing cases (participants) that have any missing values. This method can lead to a reduction in sample size, potentially leading to biased results if the missing data are not missing completely at random.\n",
        "\n",
        "2. Pairwise Deletion:\n",
        "Pairwise deletion involves using all available data for each analysis, including cases with missing values only for specific time points or conditions. This method uses different sample sizes for different comparisons, potentially affecting the overall validity of the analysis and making it difficult to compare results across different conditions.\n",
        "\n",
        "3. Mean Imputation:\n",
        "Mean imputation involves replacing missing values with the mean of the observed values for that variable. This method can lead to an underestimation of the standard error, potentially resulting in inflated Type I error rates and narrower confidence intervals.\n",
        "\n",
        "4. Last Observation Carried Forward (LOCF):\n",
        "LOCF involves carrying forward the last observed value for a participant for subsequent time points. This method assumes that missing values remain constant over time, which may not be accurate, especially if there are fluctuations in the data.\n",
        "5. Multiple Imputation:\n",
        "Multiple imputation involves creating multiple datasets where missing values are imputed multiple times using statistical techniques. This method provides more accurate estimates of uncertainty and accounts for the variability introduced by imputation.\n",
        "\n",
        "6. Mixed Effects Models:\n",
        "Using mixed effects models (also known as hierarchical linear models or multilevel models) is a sophisticated approach that can handle missing data by estimating parameters for both fixed effects and random effects. This approach is often preferred as it utilizes all available information and provides unbiased parameter estimates.\n",
        "\n",
        "Bias: Listwise deletion, mean imputation, and LOCF can introduce bias if the missing data are not missing completely at random. These methods may lead to underestimation or overestimation of effects and incorrect conclusions.\n",
        "\n",
        "Efficiency: Pairwise deletion can result in lower efficiency and reduced power since different analyses are conducted on subsets of the data.\n",
        "\n",
        "Precision: Mean imputation can lead to artificially reduced variability, resulting in overly precise estimates and narrower confidence intervals.\n",
        "\n",
        "Validity: LOCF may distort the true trajectories of variables over time if missing data are not systematically related to the true values.\n",
        "\n",
        "Complexity: Multiple imputation and mixed effects models are more sophisticated approaches but may require more computational resources and assumptions about the missing data mechanism."
      ],
      "metadata": {
        "id": "emTrV08sQKzR"
      }
    },
    {
      "cell_type": "markdown",
      "source": [
        "# 8 answer\n",
        "\n",
        "1. Tukey's Honestly Significant Difference (HSD):\n",
        "Tukey's HSD test is used to compare all possible pairs of group means. It controls the familywise error rate, ensuring that the overall Type I error rate remains at a specified level.\n",
        "\n",
        "2. Bonferroni Correction:\n",
        "Bonferroni correction adjusts the significance level for multiple comparisons. It divides the desired significance level (alpha) by the number of comparisons being made. It is a conservative method that helps control the familywise error rate.\n",
        "\n",
        "3. Dunnett's Test:\n",
        "Dunnett's test is used when you have one control group and want to compare it to other treatment groups. It adjusts for multiple comparisons while focusing on comparisons with the control group.\n",
        "\n",
        "4. Holm-Bonferroni Method:\n",
        "The Holm-Bonferroni method adjusts the p-values based on the most significant comparison first, then the second most significant, and so on. This approach provides control over the familywise error rate while being less conservative than Bonferroni.\n",
        "\n",
        "5. Sidak Correction:\n",
        "Similar to Bonferroni, the Sidak correction adjusts the significance level for multiple comparisons. It provides a less conservative alternative to Bonferroni by considering the joint probabilities of the multiple tests."
      ],
      "metadata": {
        "id": "4D0Uabc8Qkhq"
      }
    },
    {
      "cell_type": "code",
      "source": [
        "import numpy as np\n",
        "import scipy.stats as stats\n",
        "from statsmodels.stats.multicomp import pairwise_tukeyhsd\n",
        "group1_scores = np.array([85, 88, 96, 88, 90])\n",
        "group2_scores = np.array([76, 80, 68, 68, 69])\n",
        "group3_scores = np.array([32, 88, 94, 95, 99])\n",
        "f_statistic, p_value = stats.f_oneway(group1_scores, group2_scores, group3_scores)\n",
        "if p_value < 0.05:\n",
        "    data = np.concatenate([group1_scores, group2_scores, group3_scores])\n",
        "    group_labels = ['Group 1'] * len(group1_scores) + ['Group 2'] * len(group2_scores) + ['Group 3'] * len(group3_scores)\n",
        "    tukey_results = pairwise_tukeyhsd(data, group_labels, alpha=0.05)\n",
        "    print(tukey_results)\n"
      ],
      "metadata": {
        "id": "BCDfc4EBPuQB"
      },
      "execution_count": 15,
      "outputs": []
    },
    {
      "cell_type": "markdown",
      "source": [
        "# 9 answer"
      ],
      "metadata": {
        "id": "72_JIZqiRO9Z"
      }
    },
    {
      "cell_type": "code",
      "source": [
        "import numpy as np\n",
        "import scipy.stats as stats\n",
        "diet_A = np.array([3.2, 2.8, 4.1, 3.5, 2.9, 3.0, 3.7, 3.6, 3.8, 2.5,\n",
        "                   2.1, 2.7, 3.5, 2.9, 2.4, 3.1, 3.3, 3.8, 3.6, 2.8,\n",
        "                   3.7, 3.4, 3.0, 2.6, 2.9, 3.2, 3.3, 2.7, 2.5, 3.6,\n",
        "                   3.1, 3.4, 2.8, 3.7, 3.6, 3.0, 2.4, 2.9, 3.2, 2.7,\n",
        "                   3.5, 3.4, 3.1, 2.8, 3.3, 2.6, 3.6, 3.7, 3.2, 2.9])\n",
        "diet_B = np.array([2.1, 2.5, 2.8, 2.2, 2.6, 2.3, 2.7, 2.5, 2.4, 2.6,\n",
        "                   2.2, 2.1, 2.7, 2.3, 2.4, 2.5, 2.6, 2.8, 2.2, 2.3,\n",
        "                   2.7, 2.6, 2.5, 2.8, 2.4, 2.2, 2.1, 2.5, 2.3, 2.6,\n",
        "                   2.4, 2.7, 2.8, 2.2, 2.5, 2.1, 2.3, 2.4, 2.6, 2.7,\n",
        "                   2.8, 2.2, 2.5, 2.4, 2.3, 2.6, 2.7, 2.8, 2.1, 2.5])\n",
        "diet_C = np.array([1.5, 1.8, 2.0, 1.6, 1.9, 1.7, 1.8, 2.1, 2.2, 2.0,\n",
        "                   1.7, 1.5, 1.9, 2.0, 1.8, 2.1, 2.2, 2.0, 1.6, 1.9,\n",
        "                   1.7, 1.5, 1.8, 2.0, 1.6, 1.9, 2.1, 2.2, 2.0, 1.7,\n",
        "                   1.8, 2.0, 1.6, 1.9, 2.1, 2.2, 2.0, 1.7, 1.8, 2.0,\n",
        "                   1.6, 1.9, 2.1, 2.2, 2.0, 1.7, 1.8, 2.0, 1.6, 1.9])\n",
        "f_statistic, p_value = stats.f_oneway(diet_A, diet_B, diet_C)\n",
        "print(\"F-Statistic:\", f_statistic)\n",
        "print(\"p-value:\", p_value)\n",
        "if p_value < 0.05:\n",
        "    print(\"There are significant differences between the mean weight loss of the three diets.\")\n",
        "else:\n",
        "    print(\"There is no significant difference between the mean weight loss of the three diets.\")\n"
      ],
      "metadata": {
        "colab": {
          "base_uri": "https://localhost:8080/"
        },
        "id": "vT3YxLacRChN",
        "outputId": "c909ca2c-a309-43a6-cb34-7469bdaf0e9b"
      },
      "execution_count": 16,
      "outputs": [
        {
          "output_type": "stream",
          "name": "stdout",
          "text": [
            "F-Statistic: 207.8956433779626\n",
            "p-value: 1.4037597241307886e-43\n",
            "There are significant differences between the mean weight loss of the three diets.\n"
          ]
        }
      ]
    },
    {
      "cell_type": "markdown",
      "source": [
        "# 10 answer"
      ],
      "metadata": {
        "id": "zdFs3aY2Rc02"
      }
    },
    {
      "cell_type": "code",
      "source": [
        "import numpy as np\n",
        "import pandas as pd\n",
        "import scipy.stats as stats\n",
        "\n",
        "# Sample data for the analysis\n",
        "data = pd.DataFrame({\n",
        "    'software': ['A', 'B', 'C'] * 20,\n",
        "    'experience': ['novice'] * 30 + ['experienced'] * 30,\n",
        "    'completion_time': [15, 20, 18, 22, 17, 19, 23, 21, 16, 18,\n",
        "                        30, 25, 28, 29, 32, 27, 24, 26, 31, 28,\n",
        "                        12, 10, 13, 11, 14, 16, 18, 15, 17, 20,\n",
        "                        26, 24, 28, 30, 27, 29, 32, 31, 29, 30,\n",
        "                        18, 16, 20, 19, 22, 21, 23, 25, 24, 26]\n",
        "})\n",
        "\n",
        "# Perform two-way ANOVA\n",
        "model = stats.f_oneway(data[data['software'] == 'A']['completion_time'],\n",
        "                       data[data['software'] == 'B']['completion_time'],\n",
        "                       data[data['software'] == 'C']['completion_time'])\n",
        "\n",
        "f_statistic = model.statistic\n",
        "p_value = model.pvalue\n",
        "\n",
        "print(\"F-Statistic:\", f_statistic)\n",
        "print(\"p-value:\", p_value)\n",
        "\n",
        "# Interpret the results\n",
        "if p_value < 0.05:\n",
        "    print(\"There are significant differences in task completion time among the software programs.\")\n",
        "else:\n",
        "    print(\"There are no significant differences in task completion time among the software programs.\")\n"
      ],
      "metadata": {
        "id": "4Vp47bLjSpPt"
      },
      "execution_count": null,
      "outputs": []
    },
    {
      "cell_type": "markdown",
      "source": [
        "# 11 answer\n"
      ],
      "metadata": {
        "id": "BkFZH-oRRrkp"
      }
    },
    {
      "cell_type": "code",
      "source": [
        "import numpy as np\n",
        "import pandas as pd\n",
        "import scipy.stats as stats\n",
        "from statsmodels.stats.multicomp import pairwise_tukeyhsd\n",
        "np.random.seed(42)  # For reproducibility\n",
        "control_group_scores = np.random.normal(70, 10, 100)  # Mean: 70, Std Dev: 10\n",
        "experimental_group_scores = np.random.normal(75, 10, 100)  # Mean: 75, Std Dev: 10\n",
        "t_statistic, p_value = stats.ttest_ind(control_group_scores, experimental_group_scores)\n",
        "print(\"T-Statistic:\", t_statistic)\n",
        "print(\"p-value:\", p_value)\n",
        "if p_value < 0.05:\n",
        "    print(\"There is a significant difference in test scores between the two groups.\")\n",
        "    print(\"Follow up with a post-hoc test to determine specific group differences.\")\n",
        "else:\n",
        "    print(\"There is no significant difference in test scores between the two groups.\")\n",
        "if p_value < 0.05:\n",
        "    all_scores = np.concatenate((control_group_scores, experimental_group_scores))\n",
        "    group_labels = ['Control'] * 100 + ['Experimental'] * 100\n",
        "    tukey_results = pairwise_tukeyhsd(all_scores, group_labels, alpha=0.05)\n",
        "    print(tukey_results)\n"
      ],
      "metadata": {
        "colab": {
          "base_uri": "https://localhost:8080/"
        },
        "id": "DsThcPidSs7m",
        "outputId": "36d092ad-a8a9-4ca0-e768-e132b6799f78"
      },
      "execution_count": 20,
      "outputs": [
        {
          "output_type": "stream",
          "name": "stdout",
          "text": [
            "T-Statistic: -4.754695943505281\n",
            "p-value: 3.819135262679478e-06\n",
            "There is a significant difference in test scores between the two groups.\n",
            "Follow up with a post-hoc test to determine specific group differences.\n",
            "  Multiple Comparison of Means - Tukey HSD, FWER=0.05   \n",
            "========================================================\n",
            " group1    group2    meandiff p-adj lower  upper  reject\n",
            "--------------------------------------------------------\n",
            "Control Experimental   6.2615   0.0 3.6645 8.8585   True\n",
            "--------------------------------------------------------\n"
          ]
        }
      ]
    },
    {
      "cell_type": "markdown",
      "source": [
        "# 12 answer"
      ],
      "metadata": {
        "id": "4QBm665tS4hQ"
      }
    },
    {
      "cell_type": "code",
      "source": [
        "import numpy as np\n",
        "import pandas as pd\n",
        "import scipy.stats as stats\n",
        "from statsmodels.stats.multicomp import pairwise_tukeyhsd\n",
        "np.random.seed(42)\n",
        "store_A_sales = np.random.randint(1000, 1500, 30)\n",
        "store_B_sales = np.random.randint(800, 1200, 30)\n",
        "store_C_sales = np.random.randint(1200, 1700, 30)\n",
        "all_sales = np.concatenate((store_A_sales, store_B_sales, store_C_sales))\n",
        "data = pd.DataFrame({\n",
        "    'store': ['A'] * 30 + ['B'] * 30 + ['C'] * 30,\n",
        "    'sales': all_sales\n",
        "})\n",
        "f_statistic, p_value = stats.f_oneway(store_A_sales, store_B_sales, store_C_sales)\n",
        "\n",
        "print(\"F-Statistic:\", f_statistic)\n",
        "print(\"p-value:\", p_value)\n",
        "if p_value < 0.05:\n",
        "    print(\"There are significant differences in sales between the three stores.\")\n",
        "    print(\"Follow up with a post-hoc test to determine specific store differences.\")\n",
        "else:\n",
        "    print(\"There are no significant differences in sales between the three stores.\")\n",
        "if p_value < 0.05:\n",
        "    tukey_results = pairwise_tukeyhsd(all_sales, data['store'], alpha=0.05)\n",
        "    print(tukey_results)\n"
      ],
      "metadata": {
        "colab": {
          "base_uri": "https://localhost:8080/"
        },
        "id": "5TpQHVv3TM9m",
        "outputId": "258f6662-2dec-416c-b4ad-7616c73ea900"
      },
      "execution_count": 23,
      "outputs": [
        {
          "output_type": "stream",
          "name": "stdout",
          "text": [
            "F-Statistic: 90.46628898138925\n",
            "p-value: 5.623118674142666e-22\n",
            "There are significant differences in sales between the three stores.\n",
            "Follow up with a post-hoc test to determine specific store differences.\n",
            "  Multiple Comparison of Means - Tukey HSD, FWER=0.05   \n",
            "========================================================\n",
            "group1 group2  meandiff p-adj   lower     upper   reject\n",
            "--------------------------------------------------------\n",
            "     A      B -260.5667   0.0 -344.3208 -176.8126   True\n",
            "     A      C  211.0333   0.0  127.2792  294.7874   True\n",
            "     B      C     471.6   0.0  387.8459  555.3541   True\n",
            "--------------------------------------------------------\n"
          ]
        }
      ]
    },
    {
      "cell_type": "code",
      "source": [],
      "metadata": {
        "id": "m7Ki38oNTPTk"
      },
      "execution_count": null,
      "outputs": []
    }
  ]
}