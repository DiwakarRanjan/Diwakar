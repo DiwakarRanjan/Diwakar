{
 "cells": [
  {
   "cell_type": "markdown",
   "id": "38c305ef",
   "metadata": {},
   "source": [
    "1 answer\n",
    "\n",
    "Abstraction is a fundamental concept in Object-Oriented Programming (OOP) that focuses on simplifying complex reality by modeling classes, objects, and operations with a clear separation between what something does and how it's implemented internally. It allows you to hide the unnecessary details and show only the essential features of an object or system."
   ]
  },
  {
   "cell_type": "code",
   "execution_count": 4,
   "id": "2492a02b",
   "metadata": {},
   "outputs": [
    {
     "name": "stdout",
     "output_type": "stream",
     "text": [
      "Car engine started\n",
      "Motorcycle engine started\n",
      "Truck engine started\n",
      "Bus goes accident\n"
     ]
    }
   ],
   "source": [
    "# Abstract class defining the blueprint for a vehicle\n",
    "class Vehicle:\n",
    "    def __init__(self, speed, fuel_efficiency):\n",
    "        self.speed = speed\n",
    "        self.fuel_efficiency = fuel_efficiency\n",
    "    \n",
    "    # Abstract method to start the engine\n",
    "    def start_engine(self):\n",
    "        pass\n",
    "\n",
    "\n",
    "class Car(Vehicle):\n",
    "    def start_engine(self):\n",
    "        print(\"Car engine started\")\n",
    "\n",
    "\n",
    "class Motorcycle(Vehicle):\n",
    "    def start_engine(self):\n",
    "        print(\"Motorcycle engine started\")\n",
    "\n",
    "\n",
    "class Truck(Vehicle):\n",
    "    def start_engine(self):\n",
    "        print(\"Truck engine started\")\n",
    "        \n",
    "class Bus(Vehicle):\n",
    "    def start_engine(self):\n",
    "        print(\"Bus goes accident\")\n",
    "\n",
    "\n",
    "car = Car(speed=120, fuel_efficiency=25)\n",
    "motorcycle = Motorcycle(speed=80, fuel_efficiency=40)\n",
    "truck = Truck(speed=60, fuel_efficiency=10)\n",
    "bus=Bus(speed=80, fuel_efficiency=20)\n",
    "\n",
    "car.start_engine()        \n",
    "motorcycle.start_engine() \n",
    "truck.start_engine()      \n",
    "bus.start_engine() "
   ]
  },
  {
   "cell_type": "markdown",
   "id": "02167b59",
   "metadata": {},
   "source": [
    "# 2 answer \n",
    "\n",
    "Abstraction:- \n",
    "\n",
    "\n",
    "Abstraction is the process of hiding the internal details of an application from the outer world. Abstraction is used to describe things in simple terms. It's used to create a boundary between the application and the client programs.\n"
   ]
  },
  {
   "cell_type": "code",
   "execution_count": 14,
   "id": "91335a5b",
   "metadata": {},
   "outputs": [
    {
     "name": "stdout",
     "output_type": "stream",
     "text": [
      "circle area: 254.46878999999998\n",
      "rectangle area: 120\n"
     ]
    }
   ],
   "source": [
    "# example of abstraction\n",
    "class shape:\n",
    "    def area(self):\n",
    "        pass\n",
    "class circle(shape):\n",
    "    def __init__(self, radius):\n",
    "        self.radius = radius\n",
    "        \n",
    "    def area(self):\n",
    "        return 3.14159 * self.radius ** 2\n",
    "class rectangle(shape):\n",
    "    def __init__(self,width,height):\n",
    "        self.width =width\n",
    "        self.height =height\n",
    "    \n",
    "    def area(self):\n",
    "        return self.width * self.height\n",
    "        \n",
    "circle = circle(radius=9)\n",
    "rectangle=rectangle(width=15,height=8)\n",
    "\n",
    "print(\"circle area:\",circle.area())\n",
    "print(\"rectangle area:\",rectangle.area())"
   ]
  },
  {
   "cell_type": "markdown",
   "id": "282db611",
   "metadata": {},
   "source": [
    "2 answer\n",
    "\n",
    "Encaptulation:- \n",
    "    \n",
    "Encapsulation is the concept of bundling data (attributes) and the methods (functions) that operate on the data into a single unit, called a class. It restricts direct access to some of the object's components and hides the internal details from the outside world. Encapsulation helps in ensuring data integrity and providing a controlled interface for interacting with the object."
   ]
  },
  {
   "cell_type": "code",
   "execution_count": 15,
   "id": "ac3098e6",
   "metadata": {},
   "outputs": [
    {
     "name": "stdout",
     "output_type": "stream",
     "text": [
      "initial amount available: 50000\n",
      "amount available in account after deposit 58000\n",
      "insufficient funds\n",
      "amount available after withdraw 57400\n",
      "insufficient funds\n"
     ]
    }
   ],
   "source": [
    "# example of en captulation \n",
    "class Bankaccount:\n",
    "    def __init__(self,account_number,balance):\n",
    "        self.account_number=account_number\n",
    "        self.balance=balance\n",
    "        \n",
    "    def deposit(self,amount):\n",
    "        self.balance += amount\n",
    "    def withdraw(self,amount):\n",
    "        if amount <= self.balance:\n",
    "            self.balance -=amount\n",
    "        print(\"insufficient funds\")\n",
    "        \n",
    "account = Bankaccount(account_number = \"752245221\" , balance =50000)\n",
    "print(\"initial amount available:\",account.balance)\n",
    "\n",
    "account.deposit(8000)\n",
    "print(\"amount available in account after deposit\",account.balance)\n",
    "\n",
    "account.withdraw(600)\n",
    "print(\"amount available after withdraw\",account.balance)\n",
    "\n",
    "account.withdraw(80000)"
   ]
  },
  {
   "cell_type": "markdown",
   "id": "1a4cc10d",
   "metadata": {},
   "source": [
    "3 answer\n",
    "\n",
    "The 'abc' module in the Python library provides the infrastructure for defining custom abstract base classes. Abstract class cannot be instantiated in python. An Abstract method can be call by its subclasses.12-Mar-2021\n",
    "\n",
    "\n",
    "The main purpose of using abc module is :-\n",
    "1. defining interface\n",
    "2. enforcing structure\n",
    "3. documentation and design\n",
    "4. runtime and checking"
   ]
  },
  {
   "cell_type": "markdown",
   "id": "0c7f3cd8",
   "metadata": {},
   "source": [
    "4 answer\n",
    "\n",
    "\n",
    "\n",
    "Here's a step-by-step approach to achieving data abstraction in Python:\n",
    "\n",
    "Define an Abstract Base Class (ABC): Create an abstract base class using the abc module. This class will declare the abstract methods that define the interface for your data abstraction.\n",
    "\n",
    "Declare Abstract Methods: Inside the abstract base class, declare abstract methods. These methods represent the operations you want to perform on the data, but their actual implementation will be left to the concrete subclasses.\n",
    "\n",
    "Inherit from the Abstract Base Class: Create concrete subclasses that inherit from the abstract base class. These subclasses will provide concrete implementations for the abstract methods.\n",
    "\n",
    "Implement the Abstract Methods: In each concrete subclass, implement the abstract methods declared in the abstract base class. This is where the actual data manipulation logic resides.\n",
    "\n",
    "Use the Concrete Subclasses: Use instances of the concrete subclasses to interact with the data. You can access the data and invoke the methods through the interface defined by the abstract base class."
   ]
  },
  {
   "cell_type": "markdown",
   "id": "aef92e04",
   "metadata": {},
   "source": [
    "5 answer\n",
    "\n",
    "No, you cannot create an instance of an abstract class in Python. Abstract classes are designed to be incomplete and are meant to be subclassed by concrete classes. They define a common interface and possibly some default behavior, but they lack complete implementations for some methods. As a result, attempting to create an instance of an abstract class would be ambiguous and could lead to unexpected behavior."
   ]
  }
 ],
 "metadata": {
  "kernelspec": {
   "display_name": "Python 3 (ipykernel)",
   "language": "python",
   "name": "python3"
  },
  "language_info": {
   "codemirror_mode": {
    "name": "ipython",
    "version": 3
   },
   "file_extension": ".py",
   "mimetype": "text/x-python",
   "name": "python",
   "nbconvert_exporter": "python",
   "pygments_lexer": "ipython3",
   "version": "3.11.4"
  }
 },
 "nbformat": 4,
 "nbformat_minor": 5
}
