{
 "cells": [
  {
   "cell_type": "raw",
   "id": "31a0e92e-c0d0-42e3-911a-1b7d4e038851",
   "metadata": {},
   "source": [
    "1 answer\n",
    "\n",
    "\n",
    "Mean: The mean is the average value of a dataset. \n",
    "It is calculated by adding up all the values in the dataset and dividing by the total number of values.\n",
    "\n",
    "Median: The median is the middle value in a dataset. \n",
    "It is found by arranging the values in ascending order and selecting the middle value if there are an odd number of values, or by taking the average of the two middle values if there are an even number of values.\n",
    "\n",
    "Mode: The mode is the most frequent value in a dataset. \n",
    "It is found by identifying the value that occurs most often in the dataset. A dataset may have more than one mode, or no mode at all if all the values occur with equal frequency."
   ]
  },
  {
   "cell_type": "raw",
   "id": "32399e5d-bf0c-4345-a477-fc21eca8660f",
   "metadata": {},
   "source": [
    "2 answer\n",
    "\n",
    "\n",
    "a.  The mean, also known as the average, is the sum of all the values in the data set divided by the total number of values. It is sensitive to outliers, which means that if there are extreme values in        the data set, the mean will be affected by them. The formula for the mean is:\n",
    "\n",
    "mean = (sum of values) / (number of values)\n",
    "\n",
    "b.  The median is the middle value of a data set when the values are arranged in order. If there is an even number of values, the median is the average of the two middle values. The median is less          sensitive to outliers than the mean. To find the median, you need to sort the values in the data set and find the middle value.\n",
    "\n",
    "c.  The mode is the most frequently occurring value in a data set. There can be more than one mode, or no mode at all. The mode is useful when you want to find the most common value in the data set. The mode can be used for both categorical and quantitative data.\n",
    "\n",
    "All three measures are used to provide a summary of the central tendency of the data set, and which one to use depends on the specific characteristics of the data set. For example, if the data set has outliers, the median may be a better measure of central tendency than the mean. If the data set has a skewed distribution, the mode may not be a useful measure of central tendency, and the median or mean may be more appropriate. It is important to consider the characteristics of the data set when choosing a measure of central tendency."
   ]
  },
  {
   "cell_type": "code",
   "execution_count": 10,
   "id": "8fc9fa4f-60c0-42f6-bd20-931277adadb6",
   "metadata": {},
   "outputs": [
    {
     "name": "stdout",
     "output_type": "stream",
     "text": [
      "Mean:  177.01875\n",
      "Median:  177.0\n",
      "Mode:  178\n"
     ]
    }
   ],
   "source": [
    "## 3 answer\n",
    "import statistics as np\n",
    "\n",
    "data = [178, 177, 176, 177, 178.2, 178, 175, 179, 180, 175, 178.9, 176.2, 177, 172.5, 178, 176.5]\n",
    "\n",
    "mean = np.mean(data)\n",
    "median = np.median(data)\n",
    "mode = np.mode(data)\n",
    "\n",
    "print(\"Mean: \", mean)\n",
    "print(\"Median: \", median)\n",
    "print(\"Mode: \", mode)"
   ]
  },
  {
   "cell_type": "code",
   "execution_count": 12,
   "id": "6168ce0b-0157-452e-b82d-539ed365457f",
   "metadata": {},
   "outputs": [
    {
     "name": "stdout",
     "output_type": "stream",
     "text": [
      "standard deviation 1.7885814036548633\n"
     ]
    },
    {
     "name": "stderr",
     "output_type": "stream",
     "text": [
      "/tmp/ipykernel_203/3467456410.py:4: DeprecationWarning: scipy.std is deprecated and will be removed in SciPy 2.0.0, use numpy.std instead\n",
      "  stde= sc.std(data)\n"
     ]
    }
   ],
   "source": [
    "## 4 answer\n",
    "import scipy as sc\n",
    "data=[178,177,176,177,178.2,178,175,179,180,175,178.9,176.2,177,172.5,178,176.5]\n",
    "stde= sc.std(data)\n",
    "print(\"standard deviation\",stde)"
   ]
  },
  {
   "cell_type": "raw",
   "id": "a1e12cb0-29c5-4653-b87c-0a70437c4a20",
   "metadata": {},
   "source": [
    " 5 answer\n",
    "Measures of dispersion are used to describe how much the data is spread out from the central tendency. Three commonly used measures of dispersion are range, variance, and standard deviation.\n",
    "\n",
    "The range is the simplest measure of dispersion and represents the difference between the maximum and minimum values in the data set. It gives an idea of how spread out the data is, but it is affected by outliers and is not as informative as other measures. For example, the range of the following data set: {2, 5, 8, 10, 12} is 10-2=8.\n",
    "\n",
    "The variance is the average of the squared differences from the mean, and it gives a more precise measure of the spread of the data set. A higher variance indicates that the data is more spread out, while a lower variance indicates that the data is clustered around the mean. The formula for variance is:\n",
    "\n",
    "variance = (sum of (data point - mean)^2) / (number of data points - 1)\n",
    "\n",
    "For example, consider the following data set: {3, 5, 7, 9, 11}. The mean of this data set is 7. The variance can be calculated as follows:\n",
    "\n",
    "variance = ((3-7)^2 + (5-7)^2 + (7-7)^2 + (9-7)^2 + (11-7)^2) / 4\n",
    "= (16 + 4 + 0 + 4 + 16) / 4\n",
    "= 10\n",
    "\n",
    "The standard deviation is the square root of the variance and is often used as a more intuitive measure of dispersion. The standard deviation measures how much the data deviates from the mean, and it is expressed in the same units as the original data. A higher standard deviation indicates that the data is more spread out, while a lower standard deviation indicates that the data is clustered around the mean. The formula for standard deviation is:\n",
    "\n",
    "standard deviation = square root of variance\n",
    "\n",
    "Using the same example data set as above, the standard deviation can be calculated as:\n",
    "\n",
    "standard deviation = square root of variance = square root of 10 = 3.16\n",
    "\n",
    "Therefore, the standard deviation of the data set {3, 5, 7, 9, 11} is 3.16, indicating that the data is moderately spread out around the mean value of 7."
   ]
  },
  {
   "cell_type": "raw",
   "id": "5b814f09-00de-4f91-9fc3-dc17fde6f6df",
   "metadata": {},
   "source": [
    "6 answer \n",
    "A Venn diagram is a graphical representation of the relationships between different sets of data. \n",
    "It consists of overlapping circles or other shapes that are used to show the similarities and differences between sets."
   ]
  },
  {
   "cell_type": "code",
   "execution_count": 23,
   "id": "b6bc209f-f7df-43c1-bd41-65513a551567",
   "metadata": {},
   "outputs": [
    {
     "name": "stdout",
     "output_type": "stream",
     "text": [
      "{0, 2, 3, 4, 5, 6, 7, 8, 10}\n",
      "{2, 6}\n"
     ]
    }
   ],
   "source": [
    "## 7 answer\n",
    " ##(i) The union of sets A and B is the set of all elements that are in A, or in B, or in both. In python, we can use the \"|\" operator to find the union of sets:\n",
    "\n",
    "A = {2, 3, 4, 5, 6, 7}\n",
    "B = {0, 2, 6, 8, 10}\n",
    "union = A | B\n",
    "print(union)   # Output: {0, 2, 3, 4, 5, 6, 7, 8, 10}\n",
    " ## (ii) The intersection of sets A and B is the set of all elements that are in both A and B. In python, we can use the \"&\" operator to find the intersection of sets:\n",
    "\n",
    "\n",
    "A = {2, 3, 4, 5, 6, 7}\n",
    "B = {0, 2, 6, 8, 10}\n",
    "intersection = A & B\n",
    "print(intersection)   # Output: {2, 6}"
   ]
  },
  {
   "cell_type": "raw",
   "id": "01029807-025a-410d-8f94-9645ef1ae44b",
   "metadata": {},
   "source": [
    "## 8 answer\n",
    "Skewness in data is a measure of the asymmetry of a distribution. A dataset is said to be skewed if the distribution of the data is not symmetrical. In other words, if the two sides of a histogram are not mirror images of each other, then the data is skewed.\n",
    "\n",
    "There are two types of skewness: positive skewness and negative skewness.\n",
    "\n",
    "Positive skewness: A dataset is said to be positively skewed when the tail of the distribution is longer on the right-hand side than on the left-hand side. In this case, the mean is greater than the median.\n",
    "\n",
    "Negative skewness: A dataset is said to be negatively skewed when the tail of the distribution is longer on the left-hand side than on the right-hand side. In this case, the mean is less than the median."
   ]
  },
  {
   "cell_type": "raw",
   "id": "3a4d2eff-0c64-4945-b57c-5577bc4f9764",
   "metadata": {},
   "source": [
    "## 9 answer\n",
    "If a dataset is right-skewed, then the median will be less than the mean. This is because the skewness is caused by a few extremely high values, which pull the mean towards the right-hand tail of the distribution. The median, on the other hand, is less affected by these extreme values, and is more representative of the center of the dataset.\n",
    "\n"
   ]
  },
  {
   "cell_type": "raw",
   "id": "9877560b-eed6-4d2d-9501-1fd2cdb30e38",
   "metadata": {},
   "source": [
    "## 10 answer\n",
    "Covariance measures the degree to which two variables are linearly associated with each other. It indicates the direction of the relationship between the two variables, whether positive or negative, and its strength. If the covariance is positive, it means that the two variables tend to move together in the same direction. If it is negative, it means that the two variables tend to move in opposite directions. However, the magnitude of the covariance is not standardized, so it is difficult to compare the covariance of different pairs of variables that may have different scales.\n",
    "\n",
    "Correlation, on the other hand, is a standardized measure of the relationship between two variables. It measures the strength and direction of the linear relationship between two variables on a scale of -1 to 1. If the correlation coefficient is close to +1, it indicates a strong positive relationship, while a correlation coefficient close to -1 indicates a strong negative relationship. If the correlation coefficient is close to 0, it indicates that there is no linear relationship between the two variables."
   ]
  },
  {
   "cell_type": "code",
   "execution_count": 14,
   "id": "d0d0d5a9-5c3f-4072-986a-f1ded2c380f2",
   "metadata": {},
   "outputs": [
    {
     "name": "stdout",
     "output_type": "stream",
     "text": [
      "The sample mean is: 85.0\n"
     ]
    }
   ],
   "source": [
    "## 11 answer\n",
    "# The formula for calculating the sample mean is:\n",
    "\n",
    "# sample mean = (sum of all values in the sample) / (number of values in the sample)\n",
    "dataset = [80, 85, 90, 75, 95]\n",
    "\n",
    "\n",
    "sample_mean = sum(dataset) / len(dataset)\n",
    "print(\"The sample mean is:\", sample_mean)"
   ]
  },
  {
   "cell_type": "raw",
   "id": "3dc488f9-5895-476f-afe0-2d1776078c88",
   "metadata": {},
   "source": [
    "## 12 answer\n",
    "For a normal distribution, the three measures of central tendency: mean, median, and mode are all equal to each other. This is because a normal distribution is symmetric around its mean, and the mean is the exact center of the distribution. The median, which is the value that separates the lower and upper half of the data, is also equal to the mean because of this symmetry. Additionally, since a normal distribution has a single peak, the mode is also equal to the mean and median."
   ]
  },
  {
   "cell_type": "raw",
   "id": "4cc7f12c-e5b2-46b5-824f-478fdf59bf61",
   "metadata": {},
   "source": [
    "## 13 answer\n",
    "Covariance measures the degree to which two variables are linearly associated with each other. It indicates the direction of the relationship between the two variables, whether positive or negative, and its strength. If the covariance is positive, it means that the two variables tend to move together in the same direction. If it is negative, it means that the two variables tend to move in opposite directions. However, the magnitude of the covariance is not standardized, so it is difficult to compare the covariance of different pairs of variables that may have different scales.\n",
    "\n",
    "Correlation, on the other hand, is a standardized measure of the relationship between two variables. It measures the strength and direction of the linear relationship between two variables on a scale of -1 to 1. If the correlation coefficient is close to +1, it indicates a strong positive relationship, while a correlation coefficient close to -1 indicates a strong negative relationship. If the correlation coefficient is close to 0, it indicates that there is no linear relationship between the two variables."
   ]
  },
  {
   "cell_type": "code",
   "execution_count": null,
   "id": "932b0589-37fa-44ba-9730-70990c74c946",
   "metadata": {},
   "outputs": [],
   "source": [
    "## 14 answer\n",
    "# Outliers are data points that are significantly different from other data points in a dataset. Outliers can affect measures of central tendency and dispersion in different ways:\n",
    "\n",
    "# Measures of central tendency: Outliers can significantly affect the mean, but have little effect on the median and mode. \n",
    "#The mean is sensitive to outliers because it takes into account the magnitude of # each data point. If an outlier has a very large or very small value, \n",
    "#it can significantly shift the mean away from the central value of the rest of the data. \n",
    "#On the other hand, the median and mode only # consider the position or frequency of data points, respectively, and are not influenced as much by outliers.\n",
    "\n",
    "#Measures of dispersion: Outliers can significantly affect the range and standard deviation, but have little effect on the interquartile range. \n",
    "# The range is the difference between the largest and smallest # values in a dataset, so an outlier with an extreme value can greatly increase the range. \n",
    "#The standard deviation, which measures how much the data points vary from the mean, can also be affected by #outliers because it takes into account the magnitude of each data point. \n",
    "#However, the interquartile range, which measures the range of the middle 50% of the data, is not affected as much by outliers #because it only considers the middle 50% of the data, \n",
    "#which is less likely to be affected by outliers.\n",
    "import numpy as np\n",
    "\n",
    "# Generate a dataset with outliers\n",
    "data = np.concatenate([np.random.normal(0, 1, size=100), np.random.normal(10, 1, size=10)])\n",
    "\n",
    "# Calculate measures of central tendency and dispersion\n",
    "mean = np.mean(data)\n",
    "median = np.median(data)\n",
    "mode = np.mode(data)\n",
    "range = np.ptp(data)\n",
    "iqr = np.percentile(data, 75) - np.percentile(data, 25)\n",
    "std = np.std(data)\n",
    "\n",
    "# Print results\n",
    "print(\"Mean:\", mean)\n",
    "print(\"Median:\", median)\n",
    "print(\"Mode:\", mode)\n",
    "print(\"Range:\", range)\n",
    "print(\"Interquartile range:\", iqr)\n",
    "print(\"Standard deviation:\", std)"
   ]
  },
  {
   "cell_type": "code",
   "execution_count": null,
   "id": "7ef40eca-635e-48ed-b131-8da1a5bdda41",
   "metadata": {},
   "outputs": [],
   "source": []
  }
 ],
 "metadata": {
  "kernelspec": {
   "display_name": "Python 3 (ipykernel)",
   "language": "python",
   "name": "python3"
  },
  "language_info": {
   "codemirror_mode": {
    "name": "ipython",
    "version": 3
   },
   "file_extension": ".py",
   "mimetype": "text/x-python",
   "name": "python",
   "nbconvert_exporter": "python",
   "pygments_lexer": "ipython3",
   "version": "3.10.8"
  }
 },
 "nbformat": 4,
 "nbformat_minor": 5
}
