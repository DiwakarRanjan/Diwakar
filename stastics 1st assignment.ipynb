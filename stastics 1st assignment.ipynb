{
 "cells": [
  {
   "cell_type": "code",
   "execution_count": 1,
   "id": "e6d7e145-6c24-4688-8d61-8ffa61deaadb",
   "metadata": {},
   "outputs": [],
   "source": [
    "# 1 answer\n",
    "#  Statistics is a branch of mathematics that deals with the collection, analysis, interpretation, presentation, and organization of data. \n",
    "#  It involves the use of mathematical and statistical methods to analyze and draw conclusions from data."
   ]
  },
  {
   "cell_type": "code",
   "execution_count": 3,
   "id": "8eae3a5b-da90-49f8-825d-304ad5a59b95",
   "metadata": {},
   "outputs": [],
   "source": [
    "#2 answer\n",
    "#There are two main types of statistics: descriptive statistics and inferential statistics.\n",
    "\n",
    "# Descriptive Statistics:\n",
    "#     Descriptive statistics involves the collection, organization, and presentation of data in order to describe and summarize it. \n",
    "#     It provides a summary of the data using measures such as mean, median, mode, range, and standard deviation.\n",
    "# Example: Suppose a researcher wants to describe the distribution of heights among a group of individuals. \n",
    "#          They can use descriptive statistics to calculate the mean height, median height, range of heights, and standard deviation of heights among the group.\n",
    "\n",
    "#Inferential Statistics:\n",
    "#Inferential statistics involves making inferences and predictions about a population based on data collected from a sample. \n",
    "#  It allows us to generalize the results from a sample to the larger population from which the sample was drawn.\n",
    "# Example: Suppose a company wants to estimate the average income of its customers. \n",
    "#         It can take a random sample of its customers, calculate the average income of the sample, and use inferential statistics to estimate the average income of all its customers. This estimation is made with a confidence interval or hypothesis test, that provides the level of uncertainty or evidence to support the inference.\n",
    "\n",
    "# Both types of statistics are important and complementary in statistical analysis. \n",
    "#Descriptive statistics provides a summary of the data, while inferential statistics allows us to make predictions about a population based on sample data."
   ]
  },
  {
   "cell_type": "code",
   "execution_count": 4,
   "id": "5ab26625-6d53-4d86-877d-2309245cbb49",
   "metadata": {},
   "outputs": [],
   "source": [
    "#3 answer\n",
    "# 1 Nominal Data:\n",
    "# Nominal data is categorical data where each value represents a different category or attribute. Nominal data cannot be ordered or ranked, and the only meaningful operation that can be applied is counting.\n",
    "# Example: Gender (male, female, non-binary), Eye color (blue, brown, green), Religion (Christianity, Islam, Buddhism)\n",
    "\n",
    "# 2 Ordinal Data:\n",
    "# Ordinal data is categorical data that can be ranked or ordered. The differences between the categories cannot be measured, but the ranking can be used to compare the categories.\n",
    "#Example: Educational level (high school, college, graduate), Income level (low, middle, high), Rating scale (poor, fair, good, excellent)\n",
    "\n",
    "# 3 Interval Data:\n",
    "# Interval data is numerical data where the intervals between the values are equal, but there is no true zero point. The mathematical operations that can be applied include addition, subtraction, and multiplication by a constant.\n",
    "# Example: Temperature measured in Celsius or Fahrenheit, Time (24-hour clock), SAT score (200-800)\n",
    "\n",
    "# 4 Ratio Data:\n",
    "# Ratio data is numerical data where there is a true zero point, and the ratios between the values are meaningful. The mathematical operations that can be applied include addition, subtraction, multiplication, and division.\n",
    "# Example: Height, Weight, Income, Distance\n",
    "\n"
   ]
  },
  {
   "cell_type": "code",
   "execution_count": 5,
   "id": "0eecdda4-746f-4879-a275-c23a81b0c3a6",
   "metadata": {},
   "outputs": [],
   "source": [
    "# 4 answer\n",
    "# (i) Grading in exam: Qualitative (Ordinal)\n",
    "# (ii) Colour of mangoes: Qualitative (Nominal)\n",
    "# (iii) Height data of a class: Quantitative (Continuous and Interval)\n",
    "# (iv) Number of mangoes exported by a farm: Quantitative (Discrete and Ratio)"
   ]
  },
  {
   "cell_type": "code",
   "execution_count": 6,
   "id": "405f9da5-c8a8-459e-a685-a089fbd8b2de",
   "metadata": {},
   "outputs": [],
   "source": [
    "# 5 answer\n",
    "# Nominal level of measurement:\n",
    "# Nominal data is categorical data where each value represents a different category or attribute. Nominal data cannot be ordered or ranked, and the only meaningful operation that can be applied is counting.\n",
    "# Examples include gender (male, female, non-binary), eye color (blue, brown, green), and religion (Christianity, Islam, Buddhism).\n",
    "\n",
    "# Ordinal level of measurement:\n",
    "# Ordinal data is categorical data that can be ranked or ordered. The differences between the categories cannot be measured, but the ranking can be used to compare the categories. \n",
    "# Examples include educational level (high school, college, graduate), income level (low, middle, high), and rating scale (poor, fair, good, excellent).\n",
    "\n",
    "# Interval level of measurement:\n",
    "# Interval data is numerical data where the intervals between the values are equal, but there is no true zero point. The mathematical operations that can be applied include addition, subtraction, and multiplication by a constant. \n",
    "# Examples include temperature measured in Celsius or Fahrenheit, time (24-hour clock), and SAT score (200-800).\n",
    "\n",
    "# Ratio level of measurement:\n",
    "# Ratio data is numerical data where there is a true zero point, and the ratios between the values are meaningful. The mathematical operations that can be applied include addition, subtraction, multiplication, and division. \n",
    "# Examples include height, weight, income, and number of siblings."
   ]
  },
  {
   "cell_type": "code",
   "execution_count": 7,
   "id": "a73f25af-7acb-40ff-bd36-f567927b295f",
   "metadata": {},
   "outputs": [],
   "source": [
    "# 6 answer\n",
    "# the level of measurement is crucial when analyzing data because it determines the appropriate statistical methods that can be used to analyze the data.\n",
    "# Using an inappropriate statistical method for a particular level of measurement can result in incorrect conclusions and inaccurate interpretations of the results.\n",
    "\n",
    "# For example, let's consider two different types of data: nominal data and ratio data.\n",
    "# Nominal data is categorical data where the values represent different categories or attributes, while ratio data is numerical data where there is a true zero point and the ratios between the values are meaningful.\n",
    "\n",
    "# Suppose we want to analyze the difference in heights between two groups of individuals: a group of males and a group of females.\n",
    "# We measure their heights in centimeters and obtain the following data:\n",
    "\n",
    "# Group 1 (males): 175, 178, 180, 183, 185\n",
    "# Group 2 (females): 160, 162, 165, 168, 170\n",
    "# If we treat this data as nominal data, we could use a chi-square test to compare the frequencies of the different height categories between the two groups. However, this would be inappropriate as height is a continuous variable and not categorical.\n",
    "\n",
    "# On the other hand, if we treat this data as ratio data, we could use a t-test to compare the mean heights between the two groups. \n",
    "# This would be a more appropriate statistical method as we are interested in comparing the actual values of height, and the ratios between these values are meaningful."
   ]
  },
  {
   "cell_type": "code",
   "execution_count": null,
   "id": "3debc853-4f1f-4c39-9951-6cb710bdcebd",
   "metadata": {},
   "outputs": [],
   "source": [
    "# 7 answer\n",
    "# Nominal data is categorical data where each value represents a different category or attribute. These categories cannot be ordered or ranked, and the only meaningful operation that can be applied is counting. \n",
    "\n",
    "# Ordinal data, on the other hand, is categorical data that can be ranked or ordered. The differences between the categories cannot be measured, but the ranking can be used to compare the categories. "
   ]
  },
  {
   "cell_type": "code",
   "execution_count": null,
   "id": "cae4806b-3636-48a7-b2aa-8598d80f4ac7",
   "metadata": {},
   "outputs": [],
   "source": [
    "#8 answer\n",
    "# A box plot, also known as a box-and-whisker plot, is commonly used to display data in terms of range."
   ]
  },
  {
   "cell_type": "code",
   "execution_count": null,
   "id": "f220f94a-cdd6-4ace-9708-6c0919e957e9",
   "metadata": {},
   "outputs": [],
   "source": [
    "#9 answer\n",
    "# Descriptive statistics refers to methods of summarizing and describing data. \n",
    " # It involves analyzing and presenting data in a way that is easily understandable. Descriptive statistics are used to describe the central tendency, variability, and distribution of a dataset. \n",
    "# Example of descriptive statistics: The mean, median, mode, standard deviation, and range are all examples of descriptive statistics. For instance, a researcher may use descriptive statistics to summarize the test scores of a group of students, by calculating the mean, median, and standard deviation.\n",
    "\n",
    "# Inferential statistics, on the other hand, involves making generalizations about a larger population based on a sample. \n",
    "# Inferential statistics are used to test hypotheses, estimate population parameters, and to make predictions about future events based on current data. It involves drawing conclusions from a sample and applying them to a larger population.\n",
    "\n",
    "# Example of inferential statistics: A researcher may use inferential statistics to investigate whether a new medication is more effective than a placebo.\n",
    "# In this case, the researcher would randomly assign participants to receive either the medication or a placebo, measure the outcomes, and use inferential statistics to determine whether the medication is more effective than the placebo"
   ]
  },
  {
   "cell_type": "code",
   "execution_count": null,
   "id": "07f125b2-6c0b-4083-b518-404123bd2a19",
   "metadata": {},
   "outputs": [],
   "source": [
    "#10 answer\n",
    "Measures of Central Tendency:\n",
    "\n",
    "Mean: The mean is the average value of a dataset, obtained by adding up all the values and dividing by the number of observations. The mean is useful for describing the typical value of a dataset.\n",
    "Median: The median is the middle value of a dataset when it is arranged in numerical order. The median is useful for describing the central value of a dataset when there are extreme values or outliers present.\n",
    "Mode: The mode is the most frequently occurring value in a dataset. The mode is useful for describing the most common value or values in a dataset.\n",
    "Measures of Variability:\n",
    "\n",
    "Range: The range is the difference between the maximum and minimum values in a dataset. The range is useful for describing the spread of a dataset, but it is sensitive to extreme values.\n",
    "Variance: The variance is a measure of how spread out the data is from the mean. It is calculated by taking the sum of the squared differences between each value and the mean, and dividing by the number of observations minus one. The variance is useful for describing the degree of variability in a dataset.\n",
    "Standard deviation: The standard deviation is the square root of the variance. It measures the average amount by which each value in the dataset deviates from the mean. The standard deviation is useful for describing the spread of a dataset, and it is more interpretable than the variance because it is in the same units as the original data"
   ]
  }
 ],
 "metadata": {
  "kernelspec": {
   "display_name": "Python 3 (ipykernel)",
   "language": "python",
   "name": "python3"
  },
  "language_info": {
   "codemirror_mode": {
    "name": "ipython",
    "version": 3
   },
   "file_extension": ".py",
   "mimetype": "text/x-python",
   "name": "python",
   "nbconvert_exporter": "python",
   "pygments_lexer": "ipython3",
   "version": "3.10.8"
  }
 },
 "nbformat": 4,
 "nbformat_minor": 5
}
