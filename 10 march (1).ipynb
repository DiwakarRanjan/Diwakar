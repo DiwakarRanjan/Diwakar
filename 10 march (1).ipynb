{
 "cells": [
  {
   "cell_type": "raw",
   "id": "104acfa3-0eae-44bb-9c85-0aba8709b7cb",
   "metadata": {},
   "source": [
    "##1 answer\n",
    "There are two types of estimation: point estimation and interval estimation.\n",
    "\n",
    "Point Estimate: A point estimate is a single value that is used to estimate an unknown population parameter. The most common point estimate is the sample mean, which is used to estimate the population mean. Other point estimates include the sample proportion, which is used to estimate the population proportion, and the sample standard deviation, which is used to estimate the population standard deviation. A point estimate is usually calculated as the sample statistic, such as the sample mean, that best represents the population parameter of interest.\n",
    "\n",
    "Interval Estimate: An interval estimate is a range of values that is used to estimate an unknown population parameter. An interval estimate includes a lower and upper bound, and is often referred to as a confidence interval. A confidence interval provides information about the precision of the estimate and the level of confidence we have in the estimate. For example, a 95% confidence interval for the population mean represents a range of values that we are 95% confident contains the true population mean. The width of the interval depends on the sample size, the level of confidence, and the variability of the data."
   ]
  },
  {
   "cell_type": "code",
   "execution_count": 1,
   "id": "534654b6-6c74-424b-baf6-ee04194683ec",
   "metadata": {},
   "outputs": [],
   "source": [
    "##2 answer\n",
    "import math\n",
    "\n",
    "def estimate_population_mean(sample_mean, sample_std_dev, sample_size):\n",
    "    # calculate the standard error of the mean\n",
    "    std_error = sample_std_dev / math.sqrt(sample_size)\n",
    "    \n",
    "    # calculate the margin of error using a 95% confidence level (z-value of 1.96)\n",
    "    margin_of_error = 1.96 * std_error\n",
    "    \n",
    "    # calculate the lower and upper bounds of the confidence interval\n",
    "    lower_bound = sample_mean - margin_of_error\n",
    "    upper_bound = sample_mean + margin_of_error\n",
    "    \n",
    "    # return the estimated population mean and the confidence interval\n",
    "    return (sample_mean, lower_bound, upper_bound)\n"
   ]
  },
  {
   "cell_type": "code",
   "execution_count": 2,
   "id": "e3a1e973-a40f-4050-b5f7-27ab1bffaaab",
   "metadata": {},
   "outputs": [
    {
     "name": "stdout",
     "output_type": "stream",
     "text": [
      "Estimated Population Mean:  50.0\n",
      "95% Confidence Interval: [ 48.04 ,  51.96 ]\n"
     ]
    }
   ],
   "source": [
    "sample_mean = 50.0\n",
    "sample_std_dev = 10.0\n",
    "sample_size = 100\n",
    "\n",
    "estimated_mean, lower_bound, upper_bound = estimate_population_mean(sample_mean, sample_std_dev, sample_size)\n",
    "\n",
    "print(\"Estimated Population Mean: \", estimated_mean)\n",
    "print(\"95% Confidence Interval: [\", lower_bound, \", \", upper_bound, \"]\")\n"
   ]
  },
  {
   "cell_type": "raw",
   "id": "2e14dd8d-a934-4f73-a22a-c392d32c046c",
   "metadata": {},
   "source": [
    "## 3 answer\n",
    "Hypothesis testing is a statistical method used to determine whether a hypothesis about a population parameter is supported by sample data.\n",
    " \n",
    " \n",
    "Hypothesis testing is used in many areas of research and business to make decisions based on data. For example, in medicine, researchers might use hypothesis testing to determine whether a new drug is effective in treating a particular disease. In business, analysts might use hypothesis testing to determine whether a new marketing campaign is effective in increasing sales.\n",
    "\n",
    "The importance of hypothesis testing lies in its ability to provide a systematic and objective approach to making decisions based on data. By formulating a clear hypothesis and collecting and analyzing data, researchers can make informed decisions that are supported by evidence. Hypothesis testing also provides a framework for determining the reliability of research findings, helping to ensure that research is conducted and reported in a rigorous and transparent manner."
   ]
  },
  {
   "cell_type": "raw",
   "id": "ee207b20-1542-408e-8848-cf57bb335932",
   "metadata": {},
   "source": [
    "## 4 answer\n",
    "Null hypothesis (H0): The average weight of male college students is not significantly different from the average weight of female college students.\n",
    "\n",
    "Alternative hypothesis (Ha): The average weight of male college students is greater than the average weight of female college students.\n",
    "\n",
    "In this hypothesis, we are interested in comparing the average weight of male and female college students. The null hypothesis assumes that there is no significant difference between the two groups, while the alternative hypothesis proposes that male college students are, on average, heavier than female college students. This hypothesis could be tested by collecting data on the weights of male and female college students and analyzing the results using a statistical test."
   ]
  },
  {
   "cell_type": "code",
   "execution_count": null,
   "id": "4f099877-fae3-4be2-967e-05fe759a5f59",
   "metadata": {},
   "outputs": [],
   "source": [
    "## 5 answer\n",
    "import scipy.stats as st\n",
    "\n",
    "\n",
    "\n",
    "sample1 = [22, 19, 25, 18, 20, 23, 21, 24, 22, 23]\n",
    "sample2 = [18, 17, 19, 16, 20, 15, 18, 19, 17, 16]\n",
    "\n",
    "\n",
    "mean1 = sum(sample1) / len(sample1)\n",
    "mean2 = sum(sample2) / len(sample2)\n",
    "std1 = st.stdev(sample1)\n",
    "std2 = st.stdev(sample2)\n",
    "\n",
    "t_stat, p_value = stats.ttest_ind(sample1, sample2)\n",
    "\n",
    "\n",
    "df = len(sample1) + len(sample2) - 2\n",
    "\n",
    "\n",
    "alpha = 0.05\n",
    "\n",
    "\n",
    "if (t_stat > st.t.ppf(alpha / 2, df)) and (t_stat < st.t.ppf(1 - alpha / 2, df)):\n",
    "    print(\"The difference between the two population means is not statistically significant.\")\n",
    "else:\n",
    "    print(\"The difference between the two population means is statistically significant.\")\n",
    "\n",
    "print(\"Sample 1 mean:\", mean1)\n",
    "print(\"Sample 2 mean:\", mean2)\n",
    "print(\"Sample 1 standard deviation:\", std1)\n",
    "print(\"Sample 2 standard deviation:\", std2)\n",
    "print(\"T-test statistic:\", t_stat)\n",
    "print(\"P-value:\", p_value)"
   ]
  },
  {
   "cell_type": "raw",
   "id": "141d54b5-1a62-4995-bb93-e46ed95ee1e0",
   "metadata": {},
   "source": [
    "## 6 answer\n",
    "A null hypothesis is a statement that assumes there is no significant difference or relationship between two variables in a population. An alternative hypothesis, on the other hand, is a statement that proposes that there is a significant difference or relationship between two variables in a population.\n",
    "Here are some examples of null and alternative hypotheses:\n",
    "\n",
    "a. Null hypothesis: The average height of male and female students is the same.\n",
    "Alternative hypothesis: The average height of male students is different from the average height of female students.\n",
    "\n",
    "b. Null hypothesis: There is no significant difference in test scores between students who study alone and those who study in groups.\n",
    "Alternative hypothesis: Students who study in groups have higher test scores than those who study alone.\n",
    "\n",
    "c. Null hypothesis: The new drug has no effect on reducing blood pressure.\n",
    "Alternative hypothesis: The new drug is effective in reducing blood pressure."
   ]
  },
  {
   "cell_type": "raw",
   "id": "a2f32e9e-e6c7-4d7c-88db-ed7e3f94cbb2",
   "metadata": {},
   "source": [
    "## 7 answer\n",
    "The following are the steps involved in hypothesis testing:\n",
    "\n",
    "State the null and alternative hypotheses: The first step in hypothesis testing is to define the null and alternative hypotheses. The null hypothesis represents the status quo, while the alternative hypothesis represents the claim that is being tested.\n",
    "\n",
    "Choose the appropriate test statistic: The next step is to choose the appropriate test statistic that will be used to compare the sample data to the null hypothesis.\n",
    "\n",
    "Set the level of significance: The level of significance, denoted by alpha, represents the probability of rejecting the null hypothesis when it is actually true. It is typically set at 0.05, which means that there is a 5% chance of rejecting the null hypothesis when it is true.\n",
    "\n",
    "Collect the sample data: The next step is to collect the sample data and calculate the test statistic.\n",
    "\n",
    "Calculate the p-value: The p-value is the probability of obtaining a test statistic as extreme or more extreme than the one observed, assuming that the null hypothesis is true.\n",
    "\n",
    "Make a decision: Using the level of significance and the p-value, we can make a decision about whether to reject or fail to reject the null hypothesis. If the p-value is less than or equal to the level of significance, we reject the null hypothesis. Otherwise, we fail to reject the null hypothesis.\n",
    "\n",
    "Interpret the results: Finally, we interpret the results and draw conclusions based on the decision made in step 6. If we reject the null hypothesis, we accept the alternative hypothesis and conclude that there is evidence to support the claim being tested. If we fail to reject the null hypothesis, we do not have enough evidence to support the claim being tested."
   ]
  },
  {
   "cell_type": "raw",
   "id": "ca577f02-e3e2-435b-be78-496dff08fd55",
   "metadata": {},
   "source": [
    "## 8 answer\n",
    "In hypothesis testing, the p-value is the probability of obtaining a test statistic as extreme or more extreme than the one observed, assuming that the null hypothesis is true. In other words, it measures the strength of the evidence against the null hypothesis.\n",
    "\n",
    "The significance of the p-value lies in its ability to help us make decisions about whether to reject or fail to reject the null hypothesis. If the p-value is less than or equal to the level of significance (usually set at 0.05), we reject the null hypothesis. This means that we have strong evidence against the null hypothesis and can conclude that the alternative hypothesis is true.\n",
    "\n",
    "On the other hand, if the p-value is greater than the level of significance, we fail to reject the null hypothesis. This means that we do not have enough evidence to support the alternative hypothesis and cannot conclude that it is true. However, it is important to note that failing to reject the null hypothesis does not necessarily mean that the null hypothesis is true, but rather that we do not have enough evidence to reject it.\n"
   ]
  },
  {
   "cell_type": "code",
   "execution_count": 8,
   "id": "1ce6f759-fc5e-47e3-b2ed-1afa198924eb",
   "metadata": {},
   "outputs": [
    {
     "data": {
      "image/png": "[encoded data removed]",
      "text/plain": [
       "<Figure size 640x480 with 1 Axes>"
      ]
     },
     "metadata": {},
     "output_type": "display_data"
    }
   ],
   "source": [
    "## 9 answer\n",
    "import numpy as np\n",
    "import matplotlib.pyplot as plt\n",
    "from scipy.stats import t\n",
    "\n",
    "# Set degrees of freedom\n",
    "df = 10\n",
    "\n",
    "# Set x-axis range\n",
    "x = np.linspace(-4, 4, 1000)\n",
    "\n",
    "# Calculate y-values of the t-distribution\n",
    "y = t.pdf(x, df)\n",
    "\n",
    "# Plot the t-distribution\n",
    "plt.plot(x, y)\n",
    "\n",
    "# Add labels and title\n",
    "plt.xlabel('x')\n",
    "plt.ylabel('Probability density')\n",
    "plt.title(f\"Student's t-distribution (df={df})\")\n",
    "\n",
    "# Show the plot\n",
    "plt.show()\n"
   ]
  },
  {
   "cell_type": "code",
   "execution_count": 9,
   "id": "0b5b7d67-1b54-4045-b3c5-e2b19f82fa7f",
   "metadata": {},
   "outputs": [
    {
     "name": "stdout",
     "output_type": "stream",
     "text": [
      "t-test statistic: -4.798710516605924\n",
      "p-value: 5.720153592626522e-06\n"
     ]
    }
   ],
   "source": [
    "##10 answer\n",
    "import numpy as np\n",
    "from scipy.stats import ttest_ind\n",
    "\n",
    "# Generate two random samples\n",
    "sample1 = np.random.normal(loc=10, scale=2, size=50)\n",
    "sample2 = np.random.normal(loc=12, scale=2, size=50)\n",
    "\n",
    "# Calculate the t-test statistic and p-value\n",
    "t_statistic, p_value = ttest_ind(sample1, sample2, equal_var=True)\n",
    "\n",
    "# Print the results\n",
    "print(f\"t-test statistic: {t_statistic}\")\n",
    "print(f\"p-value: {p_value}\")\n"
   ]
  },
  {
   "cell_type": "raw",
   "id": "4928a2de-57d6-404d-9a19-c3fbb4f3a689",
   "metadata": {},
   "source": [
    "##11 answer\n",
    "The Student's t-distribution is a probability distribution that is used in hypothesis testing when the sample size is small (typically less than 30) and the population standard deviation is unknown. It is a family of distributions that depend on a parameter called the degrees of freedom (df).\n",
    "\n",
    "The t-distribution is similar in shape to the normal distribution but has heavier tails, which means that it has more probability in the tails than the normal distribution. As the sample size increases, the t-distribution approaches the normal distribution.\n",
    "\n",
    "The t-distribution is used in hypothesis testing to calculate the t-test statistic, which is used to determine whether two sample means are significantly different from each other. Specifically, the t-test is used when we want to compare the means of two populations when the sample size is small and/or the population standard deviation is unknown. The t-distribution provides critical values for the t-test, which are used to calculate the p-value and determine whether the difference in means is statistically significant."
   ]
  },
  {
   "cell_type": "raw",
   "id": "896f519f-5405-42ac-8a77-189d3079fde4",
   "metadata": {},
   "source": [
    "## 12 answer\n",
    "The formula for the t-statistic is:\n",
    "\n",
    "t = (x̄ - μ) / (s / sqrt(n))\n",
    "\n",
    "where:\n",
    "\n",
    "x̄ is the sample mean\n",
    "μ is the hypothesized population mean\n",
    "s is the sample standard deviation\n",
    "n is the sample size\n",
    "The t-statistic measures the difference between the sample mean and the hypothesized population mean in terms of the standard error of the mean. A larger t-value indicates a larger difference between the sample mean and the hypothesized population mean, and therefore stronger evidence against the null hypothesis."
   ]
  },
  {
   "cell_type": "code",
   "execution_count": 10,
   "id": "603ec128-afa5-4ec0-8cae-1fe39283e0eb",
   "metadata": {},
   "outputs": [
    {
     "name": "stdout",
     "output_type": "stream",
     "text": [
      "Sample Mean: 500\n",
      "Sample Standard Deviation: 50\n",
      "Sample Size: 50\n",
      "Confidence Level: 0.95\n",
      "Degrees of Freedom: 49\n",
      "T-value: 2.009575234489209\n",
      "Margin of Error: 14.20984275611866\n",
      "95% Confidence Interval: (485.79015724388137, 514.2098427561186)\n"
     ]
    }
   ],
   "source": [
    "## 13 answer\n",
    "import numpy as np\n",
    "from scipy.stats import t\n",
    "\n",
    "# sample data\n",
    "sample_mean = 500\n",
    "sample_std = 50\n",
    "n = 50\n",
    "alpha = 0.05\n",
    "\n",
    "# calculate t-value and margin of error\n",
    "t_value = t.ppf(1 - alpha/2, n-1)\n",
    "margin_of_error = t_value * sample_std / np.sqrt(n)\n",
    "\n",
    "# calculate confidence interval\n",
    "lower_ci = sample_mean - margin_of_error\n",
    "upper_ci = sample_mean + margin_of_error\n",
    "\n",
    "# print results\n",
    "print(f\"Sample Mean: {sample_mean}\")\n",
    "print(f\"Sample Standard Deviation: {sample_std}\")\n",
    "print(f\"Sample Size: {n}\")\n",
    "print(f\"Confidence Level: {1-alpha}\")\n",
    "print(f\"Degrees of Freedom: {n-1}\")\n",
    "print(f\"T-value: {t_value}\")\n",
    "print(f\"Margin of Error: {margin_of_error}\")\n",
    "print(f\"95% Confidence Interval: ({lower_ci}, {upper_ci})\")\n",
    "\n"
   ]
  },
  {
   "cell_type": "code",
   "execution_count": 11,
   "id": "bf6c00e8-638a-425c-a90d-11ef64985311",
   "metadata": {},
   "outputs": [
    {
     "name": "stdout",
     "output_type": "stream",
     "text": [
      "Reject the null hypothesis. The sample provides enough evidence to support the alternative hypothesis at the 5.0% significance level.\n"
     ]
    }
   ],
   "source": [
    "##14 answer\n",
    "import scipy.stats as stats\n",
    "\n",
    "\n",
    "null_hypothesis = 10\n",
    "alternative_hypothesis = 'less'\n",
    "\n",
    "\n",
    "sample_mean = 8\n",
    "sample_std = 3\n",
    "\n",
    "\n",
    "n = 100\n",
    "\n",
    "\n",
    "df = n - 1\n",
    "\n",
    "\n",
    "t_stat = (sample_mean - null_hypothesis) / (sample_std / (n ** 0.5))\n",
    "\n",
    "\n",
    "p_value = stats.t.cdf(t_stat, df)\n",
    "\n",
    "\n",
    "alpha = 0.05\n",
    "if p_value < alpha:\n",
    "    print(f\"Reject the null hypothesis. The sample provides enough evidence to support the alternative hypothesis at the {alpha*100}% significance level.\")\n",
    "else:\n",
    "    print(f\"Fail to reject the null hypothesis. The sample does not provide enough evidence to support the alternative hypothesis at the {alpha*100}% significance level.\")\n"
   ]
  },
  {
   "cell_type": "code",
   "execution_count": 12,
   "id": "a8ff1518-d3c7-48fe-94db-1d09e32e6c8a",
   "metadata": {},
   "outputs": [
    {
     "name": "stdout",
     "output_type": "stream",
     "text": [
      "Fail to reject the null hypothesis. The sample does not provide enough evidence to support the alternative hypothesis at the 1.0% significance level.\n"
     ]
    }
   ],
   "source": [
    "##15 answer\n",
    "import scipy.stats as stats\n",
    "\n",
    "\n",
    "null_hypothesis = 5\n",
    "alternative_hypothesis = 'less'\n",
    "\n",
    "\n",
    "sample_mean = 4.8\n",
    "sample_std = 0.5\n",
    "\n",
    "\n",
    "n = 25\n",
    "\n",
    "df = n - 1\n",
    "\n",
    "\n",
    "t_stat = (sample_mean - null_hypothesis) / (sample_std / (n ** 0.5))\n",
    "\n",
    "p_value = stats.t.cdf(t_stat, df)\n",
    "\n",
    "alpha = 0.01\n",
    "if p_value < alpha:\n",
    "    print(f\"Reject the null hypothesis. The sample provides enough evidence to support the alternative hypothesis at the {alpha*100}% significance level.\")\n",
    "else:\n",
    "    print(f\"Fail to reject the null hypothesis. The sample does not provide enough evidence to support the alternative hypothesis at the {alpha*100}% significance level.\")\n"
   ]
  },
  {
   "cell_type": "code",
   "execution_count": 13,
   "id": "4802ee80-0bf7-4cbc-ba25-24ea4aa0235a",
   "metadata": {},
   "outputs": [
    {
     "name": "stdout",
     "output_type": "stream",
     "text": [
      "Fail to reject the null hypothesis. The sample does not provide enough evidence to support the alternative hypothesis at the 1.0% significance level.\n"
     ]
    }
   ],
   "source": [
    "## 16 answer\n",
    "import scipy.stats as stats\n",
    "\n",
    "\n",
    "null_hypothesis = 0\n",
    "alternative_hypothesis = 'two-sided'\n",
    "\n",
    "\n",
    "n1 = 30\n",
    "group1_mean = 80\n",
    "group1_std = 10\n",
    "\n",
    "n2 = 40\n",
    "group2_mean = 75\n",
    "group2_std = 8\n",
    "\n",
    "\n",
    "df = n1 + n2 - 2\n",
    "\n",
    "\n",
    "sp = (((n1 - 1) * (group1_std ** 2)) + ((n2 - 1) * (group2_std ** 2))) / df\n",
    "sp = sp ** 0.5\n",
    "\n",
    "\n",
    "t_stat = (group1_mean - group2_mean) / (sp * ((1 / n1) + (1 / n2)) ** 0.5)\n",
    "\n",
    "\n",
    "p_value = stats.t.sf(abs(t_stat), df) * 2\n",
    "\n",
    "\n",
    "alpha = 0.01\n",
    "if p_value < alpha:\n",
    "    print(f\"Reject the null hypothesis. The sample provides enough evidence to support the alternative hypothesis at the {alpha*100}% significance level.\")\n",
    "else:\n",
    "    print(f\"Fail to reject the null hypothesis. The sample does not provide enough evidence to support the alternative hypothesis at the {alpha*100}% significance level.\")\n"
   ]
  },
  {
   "cell_type": "code",
   "execution_count": 14,
   "id": "c0d22c6d-f2d7-4a65-8ccf-a04d47b41c61",
   "metadata": {},
   "outputs": [
    {
     "name": "stdout",
     "output_type": "stream",
     "text": [
      "The population mean number of ads watched by viewers during a TV program is estimated to be between 3.43 and 4.57 with 99% confidence.\n"
     ]
    }
   ],
   "source": [
    "##17 answer\n",
    "import scipy.stats as stats\n",
    "\n",
    "\n",
    "n = 50\n",
    "sample_mean = 4\n",
    "sample_std = 1.5\n",
    "\n",
    "\n",
    "df = n - 1\n",
    "\n",
    "std_error = sample_std / (n ** 0.5)\n",
    "\n",
    "\n",
    "t_value = stats.t.ppf(0.995, df)\n",
    "\n",
    "margin_of_error = t_value * std_error\n",
    "\n",
    "lower_bound = sample_mean - margin_of_error\n",
    "upper_bound = sample_mean + margin_of_error\n",
    "\n",
    "print(f\"The population mean number of ads watched by viewers during a TV program is estimated to be between {lower_bound:.2f} and {upper_bound:.2f} with 99% confidence.\")\n"
   ]
  },
  {
   "cell_type": "code",
   "execution_count": null,
   "id": "e358ba79-47ac-4355-9da4-4bd1e97c57d5",
   "metadata": {},
   "outputs": [],
   "source": []
  }
 ],
 "metadata": {
  "kernelspec": {
   "display_name": "Python 3 (ipykernel)",
   "language": "python",
   "name": "python3"
  },
  "language_info": {
   "codemirror_mode": {
    "name": "ipython",
    "version": 3
   },
   "file_extension": ".py",
   "mimetype": "text/x-python",
   "name": "python",
   "nbconvert_exporter": "python",
   "pygments_lexer": "ipython3",
   "version": "3.10.8"
  }
 },
 "nbformat": 4,
 "nbformat_minor": 5
}
