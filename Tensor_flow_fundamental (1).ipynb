{
  "nbformat": 4,
  "nbformat_minor": 0,
  "metadata": {
    "colab": {
      "provenance": []
    },
    "kernelspec": {
      "name": "python3",
      "display_name": "Python 3"
    },
    "language_info": {
      "name": "python"
    }
  },
  "cells": [
    {
      "cell_type": "markdown",
      "source": [
        "#Part 1 :-\n",
        "\n",
        "(1). Different Data Structures in TensorFlow:\n",
        "\n",
        "TensorFlow primarily uses tensors as its fundamental data structure. Tensors are multi-dimensional arrays that can represent scalars, vectors, matrices, and higher-dimensional data. Some common data structures used in TensorFlow are:\n",
        "\n",
        "1. tf.Tensor: This is the fundamental data structure in TensorFlow. It can have various data types (e.g., float32, int64) and multiple dimensions. For example:"
      ],
      "metadata": {
        "id": "q6GzBo_jHChV"
      }
    },
    {
      "cell_type": "code",
      "source": [
        "import tensorflow as tf\n",
        "tensor = tf.constant([1, 2, 3])\n"
      ],
      "metadata": {
        "id": "b7RTL8fIHUts"
      },
      "execution_count": 1,
      "outputs": []
    },
    {
      "cell_type": "markdown",
      "source": [
        "2. tf.Variable: Variables are special tensors that can be modified during training. They are typically used for model parameters. For example:"
      ],
      "metadata": {
        "id": "Vy_-YK8HHWJl"
      }
    },
    {
      "cell_type": "code",
      "source": [
        "import tensorflow as tf\n",
        "variable = tf.Variable([1, 2, 3], dtype=tf.float32)\n"
      ],
      "metadata": {
        "id": "_I8PtIqRHbu_"
      },
      "execution_count": 2,
      "outputs": []
    },
    {
      "cell_type": "markdown",
      "source": [
        "3. tf.constant: Constants are tensors with fixed values that do not change during execution. They are used for input data or hyperparameters. For example:"
      ],
      "metadata": {
        "id": "pzXhTE2LHdS5"
      }
    },
    {
      "cell_type": "code",
      "source": [
        "import tensorflow as tf\n",
        "constant = tf.constant([4, 5, 6], dtype=tf.float32)\n"
      ],
      "metadata": {
        "id": "_XLPj0YxHhZ1"
      },
      "execution_count": 3,
      "outputs": []
    },
    {
      "cell_type": "markdown",
      "source": [
        "4. tf.placeholder (deprecated in TensorFlow 2.x): Placeholders were used in TensorFlow 1.x to feed data into the computation graph dynamically. They have been replaced by other mechanisms like tf.data.Dataset in TensorFlow 2.x.\n",
        "\n",
        "5. tf.SparseTensor: Sparse tensors are used to represent data with a large number of zeros efficiently. They store only non-zero values along with their indices.\n",
        "\n",
        "6. tf.RaggedTensor: Ragged tensors represent data with non-uniform dimensions along one or more axes. They are useful for sequences or variable-length data.\n",
        "\n",
        "(2).Difference between TensorFlow Constant and TensorFlow Variable:\n",
        "\n",
        "The main difference between TensorFlow constants and variables is their mutability:\n",
        "\n",
        "TensorFlow Constant: Constants are immutable; their values cannot change once defined. They are typically used for fixed input data or hyperparameters.\n",
        "\n",
        "Example:\n",
        "\n"
      ],
      "metadata": {
        "id": "6svXlzebHinu"
      }
    },
    {
      "cell_type": "code",
      "source": [
        "import tensorflow as tf\n",
        "constant = tf.constant([1, 2, 3], dtype=tf.float32)\n"
      ],
      "metadata": {
        "id": "VZ-P2Tw0H3-g"
      },
      "execution_count": 4,
      "outputs": []
    },
    {
      "cell_type": "markdown",
      "source": [
        "TensorFlow Variable: Variables are mutable; their values can change during training. They are typically used for model parameters, and their values are updated through gradient descent or other optimization algorithms.\n",
        "\n",
        "Example:"
      ],
      "metadata": {
        "id": "3ivYi7YGH4zO"
      }
    },
    {
      "cell_type": "code",
      "source": [
        "import tensorflow as tf\n",
        "variable = tf.Variable([1, 2, 3], dtype=tf.float32)\n"
      ],
      "metadata": {
        "id": "40QOdAB3H7rC"
      },
      "execution_count": 5,
      "outputs": []
    },
    {
      "cell_type": "markdown",
      "source": [
        "(3). Matrix Addition, Multiplication, and Element-wise Operations in TensorFlow:\n",
        "\n",
        "1. Matrix Addition:-\n"
      ],
      "metadata": {
        "id": "ecNl2Ck2H-Gl"
      }
    },
    {
      "cell_type": "code",
      "source": [
        "import tensorflow as tf\n",
        "A = tf.constant([[1, 2], [3, 4]])\n",
        "B = tf.constant([[5, 6], [7, 8]])\n",
        "result = tf.add(A, B)\n"
      ],
      "metadata": {
        "id": "N4aQwJHiIFYb"
      },
      "execution_count": 6,
      "outputs": []
    },
    {
      "cell_type": "markdown",
      "source": [
        "2. Matrix Multiplication:-"
      ],
      "metadata": {
        "id": "Og9RYzo6IIXk"
      }
    },
    {
      "cell_type": "code",
      "source": [
        "import tensorflow as tf\n",
        "A = tf.constant([[1, 2], [3, 4]])\n",
        "B = tf.constant([[5, 6], [7, 8]])\n",
        "result = tf.add(A, B)\n"
      ],
      "metadata": {
        "id": "NIiZBxvuIN0E"
      },
      "execution_count": 7,
      "outputs": []
    },
    {
      "cell_type": "markdown",
      "source": [
        "3. Element-wise Operations:-"
      ],
      "metadata": {
        "id": "RlLYlSViIQek"
      }
    },
    {
      "cell_type": "code",
      "source": [
        "import tensorflow as tf\n",
        "A = tf.constant([1, 2, 3])\n",
        "B = tf.constant([4, 5, 6])\n",
        "result = tf.multiply(A, B)\n"
      ],
      "metadata": {
        "id": "UxysulEDIXQu"
      },
      "execution_count": 8,
      "outputs": []
    },
    {
      "cell_type": "markdown",
      "source": [
        "# Part 2:-\n",
        "# Task :-1"
      ],
      "metadata": {
        "id": "IWZVegbDJNXX"
      }
    },
    {
      "cell_type": "code",
      "source": [
        "import tensorflow as tf\n",
        "\n",
        "# Create a 2x2 matrix A with random values from a normal distribution\n",
        "A = tf.random.normal([2, 2])\n",
        "\n",
        "# Display matrix A\n",
        "print(\"Matrix A:\")\n",
        "print(A.numpy())\n",
        "\n",
        "# Create a 4x4 Gaussian matrix B with random values from a truncated normal distribution\n",
        "B = tf.truncated_normal([4, 4])\n",
        "\n",
        "# Display matrix B\n",
        "print(\"\\nMatrix B:\")\n",
        "print(B.numpy())\n",
        "\n",
        "# Create a 2x2 matrix C with values drawn from a normal distribution with mean 2 and standard deviation 0.1\n",
        "mean = 2.0\n",
        "stddev = 0.1\n",
        "C = tf.random.normal([2, 2], mean=mean, stddev=stddev)\n",
        "\n",
        "# Display matrix C\n",
        "print(\"\\nMatrix C:\")\n",
        "print(C.numpy())\n",
        "\n",
        "# Perform matrix addition between A and B to get D\n",
        "D = tf.add(A, B)\n",
        "\n",
        "# Display matrix D\n",
        "print(\"\\nMatrix D (Result of Addition):\")\n",
        "print(D.numpy())\n",
        "\n",
        "# Perform matrix multiplication between C and D to get E\n",
        "E = tf.matmul(C, D)\n",
        "\n",
        "# Display matrix E\n",
        "print(\"\\nMatrix E (Result of Multiplication):\")\n",
        "print(E.numpy())\n"
      ],
      "metadata": {
        "id": "hecLqwXYJMjv"
      },
      "execution_count": 12,
      "outputs": []
    },
    {
      "cell_type": "markdown",
      "source": [
        "# Task:-2"
      ],
      "metadata": {
        "id": "QINMsWelJSqy"
      }
    },
    {
      "cell_type": "code",
      "source": [
        "import tensorflow as tf\n",
        "\n",
        "# Create a 2x2 matrix F with random values from a uniform distribution between 0 and 1\n",
        "F = tf.random.uniform([2, 2])\n",
        "\n",
        "# Display matrix F\n",
        "print(\"Matrix F:\")\n",
        "print(F.numpy())\n",
        "\n",
        "# Calculate the transpose of matrix F and store the result in matrix G\n",
        "G = tf.transpose(F)\n",
        "\n",
        "# Display matrix G (Transpose of F)\n",
        "print(\"\\nMatrix G (Transpose of F):\")\n",
        "print(G.numpy())\n",
        "\n",
        "# Calculate the element-wise exponential of matrix F and store the result in matrix H\n",
        "H = tf.exp(F)\n",
        "\n",
        "# Display matrix H (Element-wise Exponential of F)\n",
        "print(\"\\nMatrix H (Element-wise Exponential of F):\")\n",
        "print(H.numpy())\n",
        "\n",
        "# Create a matrix I by concatenating matrix F and matrix G horizontally (side by side)\n",
        "I = tf.concat([F, G], axis=1)\n",
        "\n",
        "# Display matrix I\n",
        "print(\"\\nMatrix I (Concatenated Horizontally):\")\n",
        "print(I.numpy())\n",
        "\n",
        "# Create a matrix J by concatenating matrix F and matrix H vertically (on top of each other)\n",
        "J = tf.concat([F, H], axis=0)\n",
        "\n",
        "# Display matrix J\n",
        "print(\"\\nMatrix J (Concatenated Vertically):\")\n",
        "print(J.numpy())\n"
      ],
      "metadata": {
        "id": "jIfLdqOWJeP-",
        "colab": {
          "base_uri": "https://localhost:8080/"
        },
        "outputId": "12899458-3145-4ab3-fa42-d9caf5c52942"
      },
      "execution_count": 10,
      "outputs": [
        {
          "output_type": "stream",
          "name": "stdout",
          "text": [
            "Matrix F:\n",
            "[[0.589018   0.6788355 ]\n",
            " [0.5897194  0.03303993]]\n",
            "\n",
            "Matrix G (Transpose of F):\n",
            "[[0.589018   0.5897194 ]\n",
            " [0.6788355  0.03303993]]\n",
            "\n",
            "Matrix H (Element-wise Exponential of F):\n",
            "[[1.8022177 1.9715805]\n",
            " [1.8034823 1.0335919]]\n",
            "\n",
            "Matrix I (Concatenated Horizontally):\n",
            "[[0.589018   0.6788355  0.589018   0.5897194 ]\n",
            " [0.5897194  0.03303993 0.6788355  0.03303993]]\n",
            "\n",
            "Matrix J (Concatenated Vertically):\n",
            "[[0.589018   0.6788355 ]\n",
            " [0.5897194  0.03303993]\n",
            " [1.8022177  1.9715805 ]\n",
            " [1.8034823  1.0335919 ]]\n"
          ]
        }
      ]
    }
  ]
}