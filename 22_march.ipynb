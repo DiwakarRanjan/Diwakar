{
  "nbformat": 4,
  "nbformat_minor": 0,
  "metadata": {
    "colab": {
      "provenance": []
    },
    "kernelspec": {
      "name": "python3",
      "display_name": "Python 3"
    },
    "language_info": {
      "name": "python"
    }
  },
  "cells": [
    {
      "cell_type": "markdown",
      "source": [
        "# 1 answer"
      ],
      "metadata": {
        "id": "aoJb_2LDRmfz"
      }
    },
    {
      "cell_type": "code",
      "execution_count": null,
      "metadata": {
        "colab": {
          "base_uri": "https://localhost:8080/"
        },
        "id": "IXiqgPFoRL9K",
        "outputId": "10d3d6b9-511f-47f4-d7ee-519e25223c11"
      },
      "outputs": [
        {
          "output_type": "stream",
          "name": "stdout",
          "text": [
            "Pearson Correlation Coefficient:1.00\n",
            "Correlation Strength: positive\n"
          ]
        }
      ],
      "source": [
        "import numpy as np\n",
        "from scipy.stats import pearsonr\n",
        "\n",
        "study_time=[20,25,30,35,40]\n",
        "exam_score=[70,75,80,85,90]\n",
        "\n",
        "correlation_coefficient,p_value=pearsonr(study_time,exam_score)\n",
        "\n",
        "if correlation_coefficient >0:\n",
        "  correlation_strength =\"positive\"\n",
        "\n",
        "elif correlation_coefficient <0:\n",
        "  correlation_strength =\"negative\"\n",
        "\n",
        "else:\n",
        "  correlation_strength=\"very weak or no\"\n",
        "\n",
        "print(f\"Pearson Correlation Coefficient:{correlation_coefficient:.2f}\")\n",
        "print(f\"Correlation Strength: {correlation_strength}\")"
      ]
    },
    {
      "cell_type": "markdown",
      "source": [
        "Here's what the code does:\n",
        "\n",
        "1. It imports the necessary libraries, NumPy for mathematical operations and SciPy's pearsonr function for calculating the Pearson correlation coefficient.\n",
        "\n",
        "2. It calculates the Pearson correlation coefficient and stores it in the correlation_coefficient variable.\n",
        "\n",
        "3. It interprets the result by determining whether the correlation is positive, negative, or very weak/no based on the sign and magnitude of the coefficient.\n",
        "\n",
        "4. Finally, it prints the Pearson correlation coefficient and its interpretation\n"
      ],
      "metadata": {
        "id": "WPTVKLZbTwB3"
      }
    },
    {
      "cell_type": "markdown",
      "source": [
        "# 2 answer"
      ],
      "metadata": {
        "id": "Z9brq7BpTvy3"
      }
    },
    {
      "cell_type": "code",
      "source": [
        "import numpy as np\n",
        "from scipy.stats import spearmanr\n",
        "\n",
        "sleep=[4,6,9,8,4]\n",
        "job_satisfaction=[4,6,9,8,5]\n",
        "\n",
        "correlation_coefficient, p_value = spearmanr(sleep, job_satisfaction)\n",
        "\n",
        "if correlation_coefficient >0:\n",
        "  correlation_strength=\"positive\"\n",
        "\n",
        "elif correlation_coefficient <0:\n",
        "  correlation_strength=\"negative\"\n",
        "\n",
        "else:\n",
        "  correlation_strength=\"no\"\n",
        "\n",
        "print(f\"Spearman's Rank Correlation Coefficient:{correlation_coefficient:.2f}\")\n",
        "print(f\"Correlation Strength:{correlation_strength}\")\n",
        "\n"
      ],
      "metadata": {
        "colab": {
          "base_uri": "https://localhost:8080/"
        },
        "id": "DQleirgvTH0e",
        "outputId": "8be51ff8-4649-4dee-c7b1-cea0937143c9"
      },
      "execution_count": 4,
      "outputs": [
        {
          "output_type": "stream",
          "name": "stdout",
          "text": [
            "Spearman's Rank Correlation Coefficient:0.97\n",
            "Correlation Strength:positive\n"
          ]
        }
      ]
    },
    {
      "cell_type": "markdown",
      "source": [
        "Here's what the code does:\n",
        "\n",
        "1. It imports the necessary library, scipy.stats, for calculating Spearman's rank correlation.\n",
        "\n",
        "2. It calculates Spearman's rank correlation coefficient and stores it in the correlation_coefficient variable.\n",
        "\n",
        "3. It interprets the result by determining whether the correlation is positive, negative, or no correlation based on the sign and magnitude of the coefficient.\n",
        "\n",
        "4. Finally, it prints the Spearman's rank correlation coefficient and its interpretation."
      ],
      "metadata": {
        "id": "B3dT1sJrYcfe"
      }
    },
    {
      "cell_type": "markdown",
      "source": [
        "# 3 answer"
      ],
      "metadata": {
        "id": "jTbkiOuOYsM2"
      }
    },
    {
      "cell_type": "code",
      "source": [
        "import numpy as np\n",
        "from scipy.stats import pearsonr, spearmanr\n",
        "\n",
        "exercise_hours = [2, 4, 3, 5, 6, 1, 2, 3, 4, 5, 2, 1, 3, 4, 5, 6, 3, 2, 4, 1,\n",
        "                  5, 2, 4, 3, 6, 1, 3, 5, 2, 4, 1, 3, 6, 5, 2, 4, 1, 3, 5, 6,\n",
        "                  2, 4, 3, 5, 1, 6, 2, 4, 3, 5]\n",
        "bmi = [24.3, 28.7, 26.1, 30.5, 31.2, 22.7, 25.0, 26.5, 29.8, 30.1, 24.9, 21.8, 26.7, 29.3, 30.2, 32.0, 25.9, 26.1, 28.4, 22.2,\n",
        "       31.6, 24.4, 27.5, 27.0, 30.8, 20.5, 27.2, 29.9, 24.6, 28.3, 21.0, 26.2, 31.7, 31.0, 23.5, 27.8, 21.5, 25.8, 30.4, 31.9,\n",
        "       23.9, 29.0, 26.8, 31.3, 22.0, 30.6, 24.5, 28.2, 27.1, 30.7]\n",
        "\n",
        "pearson_correlation,_=pearsonr(exercise_hours,bmi)\n",
        "spearman_correlation, _ = spearmanr(exercise_hours, bmi)\n",
        "\n",
        "print(f\"Pearson Correlation Coefficient:{pearson_correlation:.2f}\")\n",
        "print(f\"Spearman's Rank Correlation Coefficient: {spearman_correlation:.2f}\")"
      ],
      "metadata": {
        "id": "8axE5ZDqV6xM",
        "colab": {
          "base_uri": "https://localhost:8080/"
        },
        "outputId": "6cbe6cc9-c2b9-4d77-89ec-a5de87e74f36"
      },
      "execution_count": 7,
      "outputs": [
        {
          "output_type": "stream",
          "name": "stdout",
          "text": [
            "Pearson Correlation Coefficient:0.97\n",
            "Spearman's Rank Correlation Coefficient: 0.98\n"
          ]
        }
      ]
    },
    {
      "cell_type": "markdown",
      "source": [
        "Here's what the code does:\n",
        "\n",
        "1. It imports the necessary functions, pearsonr and spearmanr, from the scipy.stats library.\n",
        "\n",
        "2. It calculates both the Pearson correlation coefficient and Spearman's rank correlation coefficient between exercise hours and BMI.\n",
        "\n",
        "3. It prints out the results of both correlation coefficients."
      ],
      "metadata": {
        "id": "JDvkN350bZK3"
      }
    },
    {
      "cell_type": "markdown",
      "source": [
        "# 4 answer"
      ],
      "metadata": {
        "id": "1qfhGbafb5kh"
      }
    },
    {
      "cell_type": "code",
      "source": [
        "import numpy as np\n",
        "from scipy.stats import pearsonr\n",
        "\n",
        "tv_hours = [3, 2, 4, 5, 1, 2, 3, 4, 2, 1, 3, 2, 4, 5, 1, 2, 3, 4, 2, 1,\n",
        "            4, 3, 5, 2, 1, 3, 2, 4, 5, 1, 2, 3, 4, 2, 1, 3, 5, 4, 2, 1,\n",
        "            5, 3, 2, 4, 1, 2, 3, 4, 2, 1]\n",
        "physical_activity = [60, 75, 45, 30, 90, 80, 70, 50, 70, 95, 55, 85, 40, 35, 100, 75, 65, 55, 80, 90,\n",
        "                    40, 50, 25, 85, 95, 60, 70, 45, 30, 90, 80, 70, 50, 70, 30, 25, 35, 70, 90, 85,\n",
        "                    20, 60, 75, 45, 100, 80, 70, 50, 70, 95]\n",
        "\n",
        "correlation_coefficient, p_value = pearsonr(tv_hours, physical_activity)\n",
        "\n",
        "print(f\"Pearson Correlation Coefficient: {correlation_coefficient:.2f}\")\n"
      ],
      "metadata": {
        "colab": {
          "base_uri": "https://localhost:8080/"
        },
        "id": "HPRHJI42bVcp",
        "outputId": "a276564a-ba37-4bf3-eca2-757f04945daf"
      },
      "execution_count": 8,
      "outputs": [
        {
          "output_type": "stream",
          "name": "stdout",
          "text": [
            "Pearson Correlation Coefficient: -0.84\n"
          ]
        }
      ]
    },
    {
      "cell_type": "markdown",
      "source": [
        "Here's what the code does:\n",
        "\n",
        "1. It imports the necessary function, pearsonr, from the scipy.stats library.\n",
        "\n",
        "2. It calculates the Pearson correlation coefficient between TV hours and physical activity.\n",
        "\n",
        "3. It prints out the Pearson correlation coefficient."
      ],
      "metadata": {
        "id": "9MGpDqdHc-e9"
      }
    },
    {
      "cell_type": "markdown",
      "source": [
        "# 5 answer"
      ],
      "metadata": {
        "id": "bZDvpMpDdHyO"
      }
    },
    {
      "cell_type": "code",
      "source": [
        "\n",
        "survey_results = [\n",
        "    {\"Age\": 25, \"SoftDrink\": \"Coke\"},\n",
        "    {\"Age\": 42, \"SoftDrink\": \"Pepsi\"},\n",
        "    {\"Age\": 37, \"SoftDrink\": \"Mountain Dew\"},\n",
        "    {\"Age\": 19, \"SoftDrink\": \"Coke\"},\n",
        "    {\"Age\": 31, \"SoftDrink\": \"Pepsi\"},\n",
        "    {\"Age\": 28, \"SoftDrink\": \"Coke\"}\n",
        "]\n",
        "\n",
        "total_age = sum(result[\"Age\"] for result in survey_results)\n",
        "mean_age = total_age / len(survey_results)\n",
        "\n",
        "soft_drink_counts = {}\n",
        "for result in survey_results:\n",
        "    soft_drink = result[\"SoftDrink\"]\n",
        "    if soft_drink in soft_drink_counts:\n",
        "        soft_drink_counts[soft_drink] += 1\n",
        "    else:\n",
        "        soft_drink_counts[soft_drink] = 1\n",
        "\n",
        "most_preferred_soft_drink = max(soft_drink_counts, key=soft_drink_counts.get)\n",
        "\n",
        "print(f\"Mean Age: {mean_age:.1f} years\")\n",
        "print(\"Soft Drink Preferences:\")\n",
        "for soft_drink, count in soft_drink_counts.items():\n",
        "    print(f\"{soft_drink}: {count} participants\")\n",
        "print(f\"Most Preferred Soft Drink: {most_preferred_soft_drink}\")\n"
      ],
      "metadata": {
        "colab": {
          "base_uri": "https://localhost:8080/"
        },
        "id": "Y_Jzh-K8dHDv",
        "outputId": "07e05da2-11c3-476d-cd9e-cd7f0dafa27e"
      },
      "execution_count": 9,
      "outputs": [
        {
          "output_type": "stream",
          "name": "stdout",
          "text": [
            "Mean Age: 30.3 years\n",
            "Soft Drink Preferences:\n",
            "Coke: 3 participants\n",
            "Pepsi: 2 participants\n",
            "Mountain Dew: 1 participants\n",
            "Most Preferred Soft Drink: Coke\n"
          ]
        }
      ]
    },
    {
      "cell_type": "markdown",
      "source": [
        "# 6 answer"
      ],
      "metadata": {
        "id": "Veyw0rSVgilx"
      }
    },
    {
      "cell_type": "code",
      "source": [
        "import numpy as np\n",
        "from scipy.stats import pearsonr\n",
        "\n",
        "sales_calls_per_day = [10, 8, 12, 14, 9, 11, 13, 15, 7, 9, 12, 14, 10, 8, 11, 13, 16, 9, 7, 10,\n",
        "                        12, 14, 8, 11, 15, 10, 13, 12, 9, 7]\n",
        "sales_per_week = [50, 45, 60, 65, 48, 55, 62, 68, 42, 49, 58, 63, 50, 45, 52, 61, 70, 46, 40, 51,\n",
        "                   57, 64, 44, 53, 67, 48, 61, 58, 47, 43]\n",
        "\n",
        "correlation_coefficient,p_value=pearsonr(sales_calls_per_day, sales_per_week)\n",
        "print(f\"Pearson Correlation Coefficient:{correlation_coefficient:.2f}\")"
      ],
      "metadata": {
        "colab": {
          "base_uri": "https://localhost:8080/"
        },
        "id": "RIpyX1ncgj99",
        "outputId": "ef5422bb-ffaf-4904-f5ec-4b68d4ea8391"
      },
      "execution_count": 10,
      "outputs": [
        {
          "output_type": "stream",
          "name": "stdout",
          "text": [
            "Pearson Correlation Coefficient:0.99\n"
          ]
        }
      ]
    }
  ]
}