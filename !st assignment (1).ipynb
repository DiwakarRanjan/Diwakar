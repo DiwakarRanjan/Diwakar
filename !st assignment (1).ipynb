{
 "cells": [
  {
   "cell_type": "code",
   "execution_count": 2,
   "id": "e2e775ab-88cd-432c-9555-5cb50c7a503a",
   "metadata": {},
   "outputs": [
    {
     "name": "stdout",
     "output_type": "stream",
     "text": [
      "diwakar\n",
      "rahul\n",
      "raushan\n"
     ]
    }
   ],
   "source": [
    "# 1 answer\n",
    "# in for loop\n",
    "#  for loop is used for iterating over a sequence (if it is either list,tuple,a dictonary or string)\n",
    "# example\n",
    "name=['diwakar','rahul','raushan']\n",
    "for i in name:\n",
    "    print(i)"
   ]
  },
  {
   "cell_type": "code",
   "execution_count": 3,
   "id": "c9ec674c-ed0b-47de-9b59-54de71667f7f",
   "metadata": {},
   "outputs": [
    {
     "name": "stdout",
     "output_type": "stream",
     "text": [
      "Diwakar\n",
      "Diwakar\n",
      "Diwakar\n"
     ]
    }
   ],
   "source": [
    "# 1 answer\n",
    "# for while loop\n",
    "# in while loop we have to provide condition before execution\n",
    "# example\n",
    "count =0\n",
    "while (count<3):\n",
    "    count=count+1\n",
    "    print(\"Diwakar\")"
   ]
  },
  {
   "cell_type": "code",
   "execution_count": null,
   "id": "96f7b86f-89a8-412d-922b-39b7217ce8f1",
   "metadata": {},
   "outputs": [],
   "source": []
  },
  {
   "cell_type": "code",
   "execution_count": 13,
   "id": "c4215453-8a9e-4ba5-a01a-1bc4145c5947",
   "metadata": {},
   "outputs": [
    {
     "name": "stdout",
     "output_type": "stream",
     "text": [
      "55\n",
      "3628800\n"
     ]
    }
   ],
   "source": [
    "#2 answer\n",
    "# using while loop\n",
    "add = 0\n",
    "product = 1\n",
    "counter= 1\n",
    "\n",
    "while counter <= 10:\n",
    "    add += counter\n",
    "    product *= counter\n",
    "    counter += 1\n",
    "\n",
    "print( add)\n",
    "print( product)"
   ]
  },
  {
   "cell_type": "code",
   "execution_count": 14,
   "id": "79dbfff7-a6d0-4e9d-a69e-2ac2541e0904",
   "metadata": {},
   "outputs": [
    {
     "name": "stdout",
     "output_type": "stream",
     "text": [
      "55\n",
      "3628800\n"
     ]
    }
   ],
   "source": [
    "#2 answer\n",
    "# using for loop\n",
    "add = 0\n",
    "product = 1\n",
    "\n",
    "for i in range(1, 11):\n",
    "    add += i\n",
    "    product *= i\n",
    "\n",
    "print(add)\n",
    "print(product)"
   ]
  },
  {
   "cell_type": "code",
   "execution_count": 15,
   "id": "af61128e-6ff0-4c77-a9cf-8c3ac4970764",
   "metadata": {},
   "outputs": [
    {
     "name": "stdin",
     "output_type": "stream",
     "text": [
      "enter the units 310\n"
     ]
    },
    {
     "name": "stdout",
     "output_type": "stream",
     "text": [
      "bill 2250.0\n"
     ]
    }
   ],
   "source": [
    "# 3 answer\n",
    "# electricity Bill\n",
    "units=int(input(\"enter the units\"))\n",
    "if units<=100:\n",
    "    payamount=units*4.5\n",
    "elif units<=200:\n",
    "    payamount=100*4.5+units-100*6\n",
    "elif units<=300:\n",
    "    payamount=100*4.5+200-100*6+units-200*10\n",
    "elif units>300:\n",
    "    payamount=(100*4.5)+(200-100)*6+(300-200)*10+(units-300)*20\n",
    "print('bill',payamount)"
   ]
  },
  {
   "cell_type": "code",
   "execution_count": 18,
   "id": "f4524e19-aa1c-4738-bb92-489ed87be6a1",
   "metadata": {},
   "outputs": [
    {
     "name": "stdout",
     "output_type": "stream",
     "text": [
      "[8, 64, 125, 216, 512, 1000, 1728, 2744, 3375, 4096, 5832, 8000, 10648, 13824, 15625, 17576, 21952, 27000, 32768, 39304, 42875, 46656, 54872, 64000, 74088, 85184, 91125, 97336, 110592, 125000, 140608, 157464, 166375, 175616, 195112, 216000, 238328, 262144, 274625, 287496, 314432, 343000, 373248, 405224, 421875, 438976, 474552, 512000, 551368, 592704, 614125, 636056, 681472, 729000, 778688, 830584, 857375, 884736, 941192, 1000000]\n"
     ]
    }
   ],
   "source": [
    "#4 answer\n",
    "# cube of 100 number\n",
    "# using for loop\n",
    "numbers =[]\n",
    "divisible = []\n",
    "\n",
    "for i in range(1, 101):\n",
    "    numbers.append(i)\n",
    "    cube = i ** 3\n",
    "    if cube % 4 == 0 or cube % 5 == 0:\n",
    "         divisible.append(cube)\n",
    "\n",
    "print( divisible)"
   ]
  },
  {
   "cell_type": "code",
   "execution_count": 19,
   "id": "65cf504a-f120-4532-9fed-99d0b8bbf50a",
   "metadata": {},
   "outputs": [
    {
     "name": "stdout",
     "output_type": "stream",
     "text": [
      "[8, 64, 125, 216, 512, 1000, 1728, 2744, 3375, 4096, 5832, 8000, 10648, 13824, 15625, 17576, 21952, 27000, 32768, 39304, 42875, 46656, 54872, 64000, 74088, 85184, 91125, 97336, 110592, 125000, 140608, 157464, 166375, 175616, 195112, 216000, 238328, 262144, 274625, 287496, 314432, 343000, 373248, 405224, 421875, 438976, 474552, 512000, 551368, 592704, 614125, 636056, 681472, 729000, 778688, 830584, 857375, 884736, 941192, 1000000]\n"
     ]
    }
   ],
   "source": [
    "#4 answer\n",
    "# cube of 100 number\n",
    "# using for loop\n",
    "numbers = []\n",
    "divisible = []\n",
    "i = 1\n",
    "\n",
    "while i <= 100:\n",
    "    numbers.append(i)\n",
    "    cube = i ** 3\n",
    "    if cube % 4 == 0 or cube % 5 == 0:\n",
    "         divisible.append(cube)\n",
    "    i += 1\n",
    "\n",
    "print( divisible)"
   ]
  },
  {
   "cell_type": "code",
   "execution_count": 5,
   "id": "600adddb-024e-4694-9ff2-21a68632de3c",
   "metadata": {},
   "outputs": [
    {
     "name": "stdout",
     "output_type": "stream",
     "text": [
      "type 12\n"
     ]
    }
   ],
   "source": [
    "#5 answer\n",
    "# filter vowel\n",
    "string = \"I want to become a data scientist\"\n",
    "vowels = \"aeiouAEIOU\"\n",
    "counter = 0\n",
    "\n",
    "for char in string:\n",
    "    if char in vowels:\n",
    "        counter += 1\n",
    "\n",
    "print('type',counter)"
   ]
  },
  {
   "cell_type": "code",
   "execution_count": null,
   "id": "f6a506ba-cbf9-434e-957a-599b5137728d",
   "metadata": {},
   "outputs": [],
   "source": []
  },
  {
   "cell_type": "code",
   "execution_count": null,
   "id": "a8c2d06d-0a23-4e13-996e-fa62bcaf1711",
   "metadata": {},
   "outputs": [],
   "source": []
  }
 ],
 "metadata": {
  "kernelspec": {
   "display_name": "Python 3 (ipykernel)",
   "language": "python",
   "name": "python3"
  },
  "language_info": {
   "codemirror_mode": {
    "name": "ipython",
    "version": 3
   },
   "file_extension": ".py",
   "mimetype": "text/x-python",
   "name": "python",
   "nbconvert_exporter": "python",
   "pygments_lexer": "ipython3",
   "version": "3.10.8"
  }
 },
 "nbformat": 4,
 "nbformat_minor": 5
}
