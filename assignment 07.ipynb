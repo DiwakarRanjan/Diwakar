{
 "cells": [
  {
   "cell_type": "code",
   "execution_count": 27,
   "id": "c147fbbc-5c34-4190-895a-8e2be14b3dc8",
   "metadata": {},
   "outputs": [
    {
     "name": "stdin",
     "output_type": "stream",
     "text": [
      "Enter a password:  jyrchkrmtrj\n"
     ]
    },
    {
     "name": "stdout",
     "output_type": "stream",
     "text": [
      "Invalid Password\n"
     ]
    }
   ],
   "source": [
    "#1 answer\n",
    "\n",
    "import re\n",
    "\n",
    "def check_password(password):\n",
    "    \n",
    "    if len(password) != 10:\n",
    "        return \"Invalid Password\"\n",
    "\n",
    "    \n",
    "    uppercase_count = 0\n",
    "    lowercase_count = 0\n",
    "    for char in password:\n",
    "        if char.isupper():\n",
    "            uppercase_count += 1\n",
    "        elif char.islower():\n",
    "            lowercase_count += 1\n",
    "\n",
    "    if uppercase_count < 2 or lowercase_count < 2:\n",
    "        return \"Invalid Password\"\n",
    "\n",
    "    \n",
    "    if not re.search(r'\\d', password) or len(re.findall(r'[!@#$%^&*]', password)) < 3:\n",
    "        return \"Invalid Password\"\n",
    "\n",
    "    return \"Valid Password\"\n",
    "\n",
    "\n",
    "password = input(\"Enter a password: \")\n",
    "result = check_password(password)\n",
    "print(result)\n"
   ]
  },
  {
   "cell_type": "markdown",
   "id": "3e69501d-31d5-42f9-b391-3c2964e77a61",
   "metadata": {},
   "source": [
    " 2 answer\n",
    "\n",
    "Solve the below-given questions using at least one of the following: \n",
    "\n",
    "1. Lambda function\n",
    " \n",
    "  "
   ]
  },
  {
   "cell_type": "code",
   "execution_count": 19,
   "id": "428eb635-cb96-46a4-b8e9-d6e15cc10822",
   "metadata": {},
   "outputs": [
    {
     "name": "stdout",
     "output_type": "stream",
     "text": [
      "True\n"
     ]
    }
   ],
   "source": [
    "# Check if the string starts with a particular letter\n",
    "print((lambda x,y:x[0]==y)('Diwakar','D'))"
   ]
  },
  {
   "cell_type": "code",
   "execution_count": 20,
   "id": "11e6737c-320d-4a57-97c3-d4c0749582a5",
   "metadata": {},
   "outputs": [
    {
     "name": "stdout",
     "output_type": "stream",
     "text": [
      "True\n"
     ]
    }
   ],
   "source": [
    "# Check if the string is numeric\n",
    "print((lambda x:x .isnumeric())('111'))"
   ]
  },
  {
   "cell_type": "code",
   "execution_count": 21,
   "id": "439527a9-7ee2-4f52-9bed-dbec558f0ea9",
   "metadata": {},
   "outputs": [],
   "source": [
    "# Sort a list of tuples having fruit names and their quantity. [(\"mango\",99),(\"orange\",80), (\"grapes\", 1000)]\n",
    "nlist= [(\"mango\",99),(\"orange\",80), (\"grapes\", 1000)]\n",
    "nlist.sort(key=lambda x:x [1])"
   ]
  },
  {
   "cell_type": "code",
   "execution_count": 22,
   "id": "b88867c0-9797-4442-ad22-a17fb60d25a5",
   "metadata": {},
   "outputs": [
    {
     "data": {
      "text/plain": [
       "[1, 4, 9, 16, 25, 36, 49, 64, 81, 100]"
      ]
     },
     "execution_count": 22,
     "metadata": {},
     "output_type": "execute_result"
    }
   ],
   "source": [
    "# Find the squares of numbers from 1 to 10\n",
    "[i*i for i in range (1,10+1)]"
   ]
  },
  {
   "cell_type": "code",
   "execution_count": 23,
   "id": "00cc7e37-49fe-4011-b1ad-d41ad78501f8",
   "metadata": {},
   "outputs": [
    {
     "data": {
      "text/plain": [
       "[1, 8, 27, 64, 125, 216, 343, 512, 729, 1000]"
      ]
     },
     "execution_count": 23,
     "metadata": {},
     "output_type": "execute_result"
    }
   ],
   "source": [
    "# Find the cube root of numbers from 1 to 10\n",
    "[i*i*i for i in range (1,10+1)]"
   ]
  },
  {
   "cell_type": "code",
   "execution_count": 24,
   "id": "55ce7e70-bd9b-4dc6-8a17-e7cf792e3b11",
   "metadata": {},
   "outputs": [
    {
     "name": "stdout",
     "output_type": "stream",
     "text": [
      "True\n"
     ]
    }
   ],
   "source": [
    "#  Check if a given number is even\n",
    "print ((lambda x:x%2==0)(10))"
   ]
  },
  {
   "cell_type": "code",
   "execution_count": 25,
   "id": "3701983b-3e51-4bf4-a0fc-0a8aed217a72",
   "metadata": {},
   "outputs": [
    {
     "data": {
      "text/plain": [
       "[1, 3, 5, 7, 9]"
      ]
     },
     "execution_count": 25,
     "metadata": {},
     "output_type": "execute_result"
    }
   ],
   "source": [
    "#  Filter odd numbers from the given list.\n",
    "\n",
    "nlist=[1,2,3,4,5,6,7,8,9,10]\n",
    "list (filter(lambda x:x %2!=0,nlist))"
   ]
  },
  {
   "cell_type": "code",
   "execution_count": 26,
   "id": "3265c06c-47d6-46cf-b0c9-f63b56a0a762",
   "metadata": {},
   "outputs": [
    {
     "name": "stdout",
     "output_type": "stream",
     "text": [
      "[1, 2, 3, 4, 5, 6, 0]\n",
      "[-1, -2, -3, -4, -5, 0]\n"
     ]
    }
   ],
   "source": [
    "# Sort a list of integers into positive and negative integers lists.\n",
    "\n",
    "nlist=[1,2,3,4,5,6,-1,-2,-3,-4,-5,0]\n",
    "print(list(filter(lambda x:x>=0,nlist)))\n",
    "print(list(filter(lambda x:x<=0,nlist)))"
   ]
  },
  {
   "cell_type": "code",
   "execution_count": null,
   "id": "2e972ba9-9366-4ac2-bce0-ed29b5aa0249",
   "metadata": {},
   "outputs": [],
   "source": []
  },
  {
   "cell_type": "code",
   "execution_count": null,
   "id": "b34c7987-a798-4a48-b09a-9d8e2c764f3d",
   "metadata": {},
   "outputs": [],
   "source": []
  }
 ],
 "metadata": {
  "kernelspec": {
   "display_name": "Python 3 (ipykernel)",
   "language": "python",
   "name": "python3"
  },
  "language_info": {
   "codemirror_mode": {
    "name": "ipython",
    "version": 3
   },
   "file_extension": ".py",
   "mimetype": "text/x-python",
   "name": "python",
   "nbconvert_exporter": "python",
   "pygments_lexer": "ipython3",
   "version": "3.10.8"
  }
 },
 "nbformat": 4,
 "nbformat_minor": 5
}
