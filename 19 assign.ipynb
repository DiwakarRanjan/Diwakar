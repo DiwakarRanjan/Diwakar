{
 "cells": [
  {
   "cell_type": "markdown",
   "id": "eeaf2cc7",
   "metadata": {},
   "source": [
    "#1 answer\n",
    "\n",
    "Flask is a popular Python web framework, meaning it is a third-party Python library used for developing web applications.\n",
    "\n",
    "Flask is a lightweight WSGI web application framework. It is designed to make getting started quick and easy with the ability to scale up to complex applications."
   ]
  },
  {
   "cell_type": "code",
   "execution_count": null,
   "id": "3e21ea86",
   "metadata": {},
   "outputs": [
    {
     "name": "stdout",
     "output_type": "stream",
     "text": [
      " * Serving Flask app '__main__'\n",
      " * Debug mode: off\n"
     ]
    },
    {
     "name": "stderr",
     "output_type": "stream",
     "text": [
      "WARNING: This is a development server. Do not use it in a production deployment. Use a production WSGI server instead.\n",
      " * Running on all addresses (0.0.0.0)\n",
      " * Running on http://127.0.0.1:5000\n",
      " * Running on http://192.168.29.75:5000\n",
      "Press CTRL+C to quit\n",
      "127.0.0.1 - - [25/Aug/2023 02:27:12] \"GET / HTTP/1.1\" 200 -\n",
      "127.0.0.1 - - [25/Aug/2023 02:27:12] \"GET /favicon.ico HTTP/1.1\" 404 -\n",
      "192.168.29.75 - - [25/Aug/2023 02:27:18] \"GET / HTTP/1.1\" 200 -\n",
      "192.168.29.75 - - [25/Aug/2023 02:27:18] \"GET /favicon.ico HTTP/1.1\" 404 -\n"
     ]
    }
   ],
   "source": [
    "#2 answer\n",
    "from flask import Flask\n",
    "\n",
    "app = Flask(__name__)\n",
    "\n",
    "@app.route(\"/\")\n",
    "def hello_world():\n",
    "    return \"<h1>Hello, World!</h1>\"\n",
    "\n",
    "if __name__==\"__main__\":\n",
    "    app.run(host=\"0.0.0.0\")"
   ]
  },
  {
   "cell_type": "markdown",
   "id": "ae5cec5d",
   "metadata": {},
   "source": [
    "#3 answer\n",
    "\n",
    "App Routing means mapping the URLs to a specific function that will handle the logic for that URL. Modern web frameworks use more meaningful URLs to help users remember the URLs and make navigation simpler.\n",
    "\n",
    "On the top of the function we want to map, wll add @app.route(\"</path>\"). In above example /(root) is mapped to hello_word function."
   ]
  },
  {
   "cell_type": "code",
   "execution_count": null,
   "id": "5636910e",
   "metadata": {},
   "outputs": [],
   "source": [
    "#4 answer\n",
    "\n",
    "from flask import Flask\n",
    "\n",
    "app = Flask(__name__)\n",
    "\n",
    "@app.route(\"/\")\n",
    "def company():\n",
    "    data = '''<p>Name: ABC Corporation <br>\n",
    "    Location: India <br>\n",
    "    Contact Detail: 999-999-9999<p>\n",
    "    '''\n",
    "    return data\n",
    "\n",
    "\n",
    "@app.route('/welcome')\n",
    "def welcome():\n",
    "    return \"Welcome to ABC Corporation\"\n",
    "\n",
    "if __name__==\"__main__\":\n",
    "    app.run(host=\"0.0.0.0\")"
   ]
  },
  {
   "cell_type": "code",
   "execution_count": null,
   "id": "5c52031f",
   "metadata": {},
   "outputs": [],
   "source": [
    "/welcome"
   ]
  },
  {
   "cell_type": "code",
   "execution_count": null,
   "id": "66125923",
   "metadata": {},
   "outputs": [],
   "source": [
    "/"
   ]
  },
  {
   "cell_type": "code",
   "execution_count": null,
   "id": "b49639ee",
   "metadata": {},
   "outputs": [],
   "source": [
    "# 5 answer\n",
    "\n",
    "from flask import *\n",
    "\n",
    "app = Flask(__name__)\n",
    "\n",
    "@app.route(\"/\")\n",
    "def company():\n",
    "    data = '''\n",
    "    <a href=\"{{ url_for('welcome') }}\"> Welcome Page </a>\n",
    "    <p>Name: ABC Corporation <br>\n",
    "    Location: India <br>\n",
    "    Contact Detail: 999-999-9999<br><p>\n",
    "    '''\n",
    "    return data\n",
    "\n",
    "\n",
    "@app.route('/home')\n",
    "def home():\n",
    "    return redirect(url_for('company')) \n",
    "\n",
    "if __name__==\"__main__\":\n",
    "    app.run(host=\"0.0.0.0\")"
   ]
  },
  {
   "cell_type": "code",
   "execution_count": null,
   "id": "ed501688",
   "metadata": {},
   "outputs": [],
   "source": []
  }
 ],
 "metadata": {
  "kernelspec": {
   "display_name": "Python 3 (ipykernel)",
   "language": "python",
   "name": "python3"
  },
  "language_info": {
   "codemirror_mode": {
    "name": "ipython",
    "version": 3
   },
   "file_extension": ".py",
   "mimetype": "text/x-python",
   "name": "python",
   "nbconvert_exporter": "python",
   "pygments_lexer": "ipython3",
   "version": "3.11.4"
  }
 },
 "nbformat": 4,
 "nbformat_minor": 5
}
