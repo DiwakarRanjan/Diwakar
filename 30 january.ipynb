{
 "cells": [
  {
   "cell_type": "code",
   "execution_count": 16,
   "id": "8561df99-a7bf-4e6f-bf78-c92f9797118a",
   "metadata": {},
   "outputs": [
    {
     "name": "stdin",
     "output_type": "stream",
     "text": [
      " 85\n"
     ]
    },
    {
     "name": "stdout",
     "output_type": "stream",
     "text": [
      "B\n"
     ]
    }
   ],
   "source": [
    "#1 answer\n",
    "def get_grade(percentage):\n",
    "    if percentage > 90:\n",
    "        return 'A'\n",
    "    elif percentage > 80:\n",
    "        return 'B'\n",
    "    elif percentage >= 60:\n",
    "        return 'C'\n",
    "    else:\n",
    "        return 'D'\n",
    "\n",
    "percentage = int(input())\n",
    "print(get_grade(percentage))"
   ]
  },
  {
   "cell_type": "code",
   "execution_count": 17,
   "id": "f88aabe2-d779-450c-8fe0-fe4bd26c6315",
   "metadata": {},
   "outputs": [
    {
     "name": "stdin",
     "output_type": "stream",
     "text": [
      " 500\n"
     ]
    },
    {
     "name": "stdout",
     "output_type": "stream",
     "text": [
      "25.0\n"
     ]
    }
   ],
   "source": [
    "#2 answer\n",
    "def get_road_tax(price):\n",
    "    if price > 100000:\n",
    "        return 0.15 * price\n",
    "    elif price > 50000:\n",
    "        return 0.1 * price\n",
    "    else:\n",
    "        return 0.05 * price\n",
    "\n",
    "price = int(input())\n",
    "print(get_road_tax(price))"
   ]
  },
  {
   "cell_type": "code",
   "execution_count": 19,
   "id": "bf4cf2c6-8a39-4304-aae4-6b74339f3946",
   "metadata": {},
   "outputs": [
    {
     "name": "stdin",
     "output_type": "stream",
     "text": [
      " Agra\n"
     ]
    },
    {
     "data": {
      "text/plain": [
       "'Taj Mahal'"
      ]
     },
     "execution_count": 19,
     "metadata": {},
     "output_type": "execute_result"
    }
   ],
   "source": [
    "#3 answer\n",
    "def get_city_monuments(city):\n",
    "    if city == 'Delhi':\n",
    "        return 'Red Fort'\n",
    "    elif city == 'Agra':\n",
    "        return 'Taj Mahal'\n",
    "    elif city == 'Jaipur':\n",
    "        return 'Jal Mahal'\n",
    "\n",
    "city = input()\n",
    "get_city_monuments(city)"
   ]
  },
  {
   "cell_type": "code",
   "execution_count": 20,
   "id": "1be1c521-252d-4c95-988b-16b2af4cb331",
   "metadata": {},
   "outputs": [
    {
     "name": "stdin",
     "output_type": "stream",
     "text": [
      " 50\n"
     ]
    },
    {
     "name": "stdout",
     "output_type": "stream",
     "text": [
      "13\n"
     ]
    }
   ],
   "source": [
    "#4 answe\n",
    "number = int(input())\n",
    "if number > 10:\n",
    "    print((number-10)//3)\n",
    "else:\n",
    "    print(0)"
   ]
  },
  {
   "cell_type": "code",
   "execution_count": null,
   "id": "0bb7717e-138d-47ab-a5ab-692d73ab80e9",
   "metadata": {},
   "outputs": [],
   "source": [
    "#5 answer\n",
    "We use do while when we want to execute the body of the at least once.\n",
    "And until some condition false, then we should go for while loop."
   ]
  },
  {
   "cell_type": "code",
   "execution_count": 21,
   "id": "64089427-ccef-4c5c-be5d-8f189dcf371b",
   "metadata": {},
   "outputs": [
    {
     "name": "stdout",
     "output_type": "stream",
     "text": [
      "\n",
      "1 \n",
      "2 2 \n",
      "3 3 3 \n",
      "4 4 4 4 \n",
      "5 5 5 5 5 \n"
     ]
    }
   ],
   "source": [
    "#6 answer\n",
    "i = 0\n",
    "while i < 6 :\n",
    "    j = 0\n",
    "    while j < i:\n",
    "        print(i, end=' ')\n",
    "        j += 1\n",
    "    i += 1\n",
    "    print('')"
   ]
  },
  {
   "cell_type": "code",
   "execution_count": 22,
   "id": "a684199d-61a1-4d7e-a609-a093e222f411",
   "metadata": {},
   "outputs": [
    {
     "name": "stdout",
     "output_type": "stream",
     "text": [
      "10 9 8 7 6 5 4 3 2 1 0 "
     ]
    }
   ],
   "source": [
    "#7 answer\n",
    "i = 10\n",
    "while i >= 0:\n",
    "    print(i, end=' ')\n",
    "    i -= 1"
   ]
  },
  {
   "cell_type": "code",
   "execution_count": 23,
   "id": "7dbd0e83-ab43-436f-bf5b-48b9fd79f05f",
   "metadata": {},
   "outputs": [
    {
     "name": "stdout",
     "output_type": "stream",
     "text": [
      "10 9 8 7 6 5 4 3 2 1 0 "
     ]
    }
   ],
   "source": [
    "#8 answer\n",
    "i = 10\n",
    "while i >= 0:\n",
    "    print(i, end=' ')\n",
    "    i -= 1"
   ]
  },
  {
   "cell_type": "code",
   "execution_count": null,
   "id": "dee20e84-a01e-492b-95e0-0c88795386e2",
   "metadata": {},
   "outputs": [],
   "source": []
  }
 ],
 "metadata": {
  "kernelspec": {
   "display_name": "Python 3 (ipykernel)",
   "language": "python",
   "name": "python3"
  },
  "language_info": {
   "codemirror_mode": {
    "name": "ipython",
    "version": 3
   },
   "file_extension": ".py",
   "mimetype": "text/x-python",
   "name": "python",
   "nbconvert_exporter": "python",
   "pygments_lexer": "ipython3",
   "version": "3.10.8"
  }
 },
 "nbformat": 4,
 "nbformat_minor": 5
}
