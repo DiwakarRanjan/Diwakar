{
 "cells": [
  {
   "cell_type": "code",
   "execution_count": 4,
   "id": "3d52bb19-3c4b-4be9-9d4a-198d3166fff8",
   "metadata": {},
   "outputs": [
    {
     "name": "stdout",
     "output_type": "stream",
     "text": [
      "Requirement already satisfied: bokeh in /opt/conda/lib/python3.10/site-packages (3.0.3)\n",
      "Requirement already satisfied: PyYAML>=3.10 in /opt/conda/lib/python3.10/site-packages (from bokeh) (6.0)\n",
      "Requirement already satisfied: xyzservices>=2021.09.1 in /opt/conda/lib/python3.10/site-packages (from bokeh) (2022.9.0)\n",
      "Requirement already satisfied: tornado>=5.1 in /opt/conda/lib/python3.10/site-packages (from bokeh) (6.1)\n",
      "Requirement already satisfied: numpy>=1.11.3 in /opt/conda/lib/python3.10/site-packages (from bokeh) (1.23.5)\n",
      "Requirement already satisfied: packaging>=16.8 in /opt/conda/lib/python3.10/site-packages (from bokeh) (22.0)\n",
      "Requirement already satisfied: contourpy>=1 in /opt/conda/lib/python3.10/site-packages (from bokeh) (1.0.6)\n",
      "Requirement already satisfied: pandas>=1.2 in /opt/conda/lib/python3.10/site-packages (from bokeh) (1.5.2)\n",
      "Requirement already satisfied: pillow>=7.1.0 in /opt/conda/lib/python3.10/site-packages (from bokeh) (9.2.0)\n",
      "Requirement already satisfied: Jinja2>=2.9 in /opt/conda/lib/python3.10/site-packages (from bokeh) (3.1.2)\n",
      "Requirement already satisfied: MarkupSafe>=2.0 in /opt/conda/lib/python3.10/site-packages (from Jinja2>=2.9->bokeh) (2.1.1)\n",
      "Requirement already satisfied: python-dateutil>=2.8.1 in /opt/conda/lib/python3.10/site-packages (from pandas>=1.2->bokeh) (2.8.2)\n",
      "Requirement already satisfied: pytz>=2020.1 in /opt/conda/lib/python3.10/site-packages (from pandas>=1.2->bokeh) (2022.6)\n",
      "Requirement already satisfied: six>=1.5 in /opt/conda/lib/python3.10/site-packages (from python-dateutil>=2.8.1->pandas>=1.2->bokeh) (1.16.0)\n",
      "Note: you may need to restart the kernel to use updated packages.\n"
     ]
    }
   ],
   "source": [
    "pip install bokeh"
   ]
  },
  {
   "cell_type": "code",
   "execution_count": null,
   "id": "0212976e-b3bd-4088-bc4d-a33c363b41e3",
   "metadata": {},
   "outputs": [],
   "source": [
    "# 1 answer\n",
    "# Install bokeh\n",
    "# !pip install bokeh\n",
    "\n",
    "from bokeh.plotting import figure, output_notebook, show\n",
    "  \n",
    "# output to notebook\n",
    "output_notebook()\n",
    "\n",
    "# create figure\n",
    "p = figure(plot_width = 400, plot_height = 400)\n",
    "\n",
    "# add a circle renderer with\n",
    "# size, color and alpha\n",
    "p.circle([1, 2, 3, 4, 5], [4, 7, 1, 6, 3], \n",
    "         size = 10, color = \"navy\", alpha = 0.5)\n",
    "\n",
    "# show the results\n",
    "show(p)"
   ]
  },
  {
   "cell_type": "markdown",
   "id": "18844a74-ea2f-4d64-8ba5-8658624373a8",
   "metadata": {},
   "source": [
    "# 2 answer\n",
    " In Bokeh, Glyphs are visual shapes that are used to represent the data points in a plot.\n",
    " They define the basic geometry of the plot, such as the shape, size, and color of the markers used to represent the data.\n"
   ]
  },
  {
   "cell_type": "code",
   "execution_count": null,
   "id": "6eab87ed-5aec-4bef-b939-f2ad8dab1786",
   "metadata": {},
   "outputs": [],
   "source": [
    "from bokeh.plotting import figure, show, output_file\n",
    "\n",
    "a = [1, 2, 3, 4, 5, 6, 7, 8, 9, 10]\n",
    "b = [2, 4, 6, 8, 10, 12, 14, 16, 18, 20]\n",
    "\n",
    "my_plot = figure(title=\"simple line chart\", x_axis_label=\"X-Axis\",\n",
    "\t\t\t\ty_axis_label=\"Y-Axis\")\n",
    "my_plot.line(a, b, line_width=3)\n",
    "\n",
    "# display output in file -- glyphs in Bokeh\n",
    "output_file(\"line.html\")\n",
    "show(my_plot)"
   ]
  },
  {
   "cell_type": "code",
   "execution_count": null,
   "id": "ad66c826-f151-4bb6-aa0c-2fdb5ddb710b",
   "metadata": {},
   "outputs": [],
   "source": [
    "# 3 answer\n",
    "from bokeh.plotting import figure, show\n",
    "from bokeh.io import output_notebook\n",
    "\n",
    "\n",
    "x1 = [1, 3, 4, 5, 6]\n",
    "y1 = [6, 7, 8, 9, 4]\n",
    "\n",
    "# Add axes and title label\n",
    "p = figure(title=\"Drawing multiple lines\",\tx_axis_label=\"X-Axis\", y_axis_label=\"Y-Axis\")\n",
    "\n",
    "# change appearance in  x-axis\n",
    "p.xaxis.axis_line_width = 3\n",
    "p.xaxis.axis_line_color = \"red\"\n",
    "\n",
    "# change appearance in y-axis\n",
    "p.yaxis.major_label_text_color = \"orange\"\n",
    "p.yaxis.major_label_orientation = \"vertical\"\n",
    "\n",
    "# change legand label\n",
    "p.line(x1, y1, legend_label=\"line 1\", line_color=\"red\", line_width=1)\n",
    "output_notebook()\n",
    "show(p)"
   ]
  },
  {
   "cell_type": "markdown",
   "id": "01a51e2b-74f0-4ad2-8315-c4beaa2ce54c",
   "metadata": {},
   "source": [
    "# 4 answer\n",
    " Bokeh server makes it easy to create interactive web applications that connect front-end UI events to running Python code.\n",
    "     "
   ]
  },
  {
   "cell_type": "code",
   "execution_count": null,
   "id": "0de09089-401b-4e77-aeaf-42e61c05dac3",
   "metadata": {},
   "outputs": [],
   "source": [
    "from bokeh.layouts import column\n",
    "from bokeh.models import ColorPicker\n",
    "from bokeh.plotting import figure, show\n",
    "\n",
    "plot = figure(x_range=(0, 1), y_range=(0, 1), width=350, height=350)\n",
    "line = plot.line(x=(0,1), y=(0,1), color=\"black\", line_width=4)\n",
    "\n",
    "picker = ColorPicker(title=\"Line Color\")\n",
    "picker.js_link('color', line.glyph, 'line_color')\n",
    "\n",
    "show(column(plot, picker))"
   ]
  },
  {
   "cell_type": "markdown",
   "id": "f20f9099-d88b-49a9-b040-d91018c63952",
   "metadata": {},
   "source": [
    "# 5 answer\n",
    "Embedding Bokeh content\n",
    "Ways to embed standalone Bokeh documents and Bokeh applications into web pages.\n",
    "\n",
    "Standalone documents\n",
    "These documents don’t require a Bokeh server to work. They may have many tools and interactions such as custom JavaScript callbacks but are otherwise nothing but HTML, CSS, and JavaScript. These documents can be embedded into other HTML pages as one large document or as a set of sub-components with individual templating.\n",
    "\n",
    "Bokeh applications\n",
    "These applications require a Bokeh server to work. Having a Bokeh server lets you connect events and tools to real-time Python callbacks that execute on the server. For more information about creating and running Bokeh apps, see Running a Bokeh server."
   ]
  },
  {
   "cell_type": "code",
   "execution_count": null,
   "id": "ea89e44f-c7ac-4c0a-b999-0e42ecf2ac2d",
   "metadata": {},
   "outputs": [],
   "source": []
  }
 ],
 "metadata": {
  "kernelspec": {
   "display_name": "Python 3 (ipykernel)",
   "language": "python",
   "name": "python3"
  },
  "language_info": {
   "codemirror_mode": {
    "name": "ipython",
    "version": 3
   },
   "file_extension": ".py",
   "mimetype": "text/x-python",
   "name": "python",
   "nbconvert_exporter": "python",
   "pygments_lexer": "ipython3",
   "version": "3.10.8"
  }
 },
 "nbformat": 4,
 "nbformat_minor": 5
}
