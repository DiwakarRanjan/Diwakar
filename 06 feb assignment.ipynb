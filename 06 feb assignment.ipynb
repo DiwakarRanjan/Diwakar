{
 "cells": [
  {
   "cell_type": "code",
   "execution_count": null,
   "id": "a832596d",
   "metadata": {},
   "outputs": [],
   "source": [
    "#1 answer\n",
    "def get_flat_list_product(list1):\n",
    "    flat_list = []\n",
    "    for i in list1:\n",
    "        if type(i) in [list, set, tuple]:\n",
    "            for j in i:\n",
    "                if type(j) in [int, float]:\n",
    "                    flat_list.append(j)\n",
    "        elif type(i) == dict:\n",
    "            for j in i:\n",
    "                if type(j) in [int, float]:\n",
    "                    flat_list.append(j)\n",
    "                values = i[j]\n",
    "                if type(values) in [int, float]:\n",
    "                    flat_list.append(values)\n",
    "                elif type(values) in [list, set, tuple]:\n",
    "                    for k in values:\n",
    "                        if type(k) in [int, float]:\n",
    "                            flat_list.append(k)\n",
    "        elif type(i) in [int, float]:\n",
    "            flat_list.append(i)\n",
    "    print(flat_list)\n",
    "    flat_list = get_flat_list(list1)\n",
    "    return reduce(lambda x, y: x * y, flat_list)\n",
    "\n",
    "list1 = [1,2,3,4, [44,55,66, True], False, (34,56,78,89,34), {1,2,3,3,2,1}, {1:34, \"key2\": [55, 67, 78, 89], 4: (45,\n",
    "22, 61, 34)}, [56, 'data science'], 'Machine Learning']\n",
    "print(get_flat_list_product(list1))"
   ]
  },
  {
   "cell_type": "code",
   "execution_count": 6,
   "id": "442e5218",
   "metadata": {},
   "outputs": [
    {
     "name": "stdout",
     "output_type": "stream",
     "text": [
      "r$dzmg$gl$yvxlnv$z$wzgz$hxrvmgrhg.\n"
     ]
    }
   ],
   "source": [
    "# 2 answer\n",
    "def encrypted_data(my_input):\n",
    "    my_input = my_input.lower()\n",
    "    new_str = ''\n",
    "    for i in my_input:\n",
    "        letter = i\n",
    "        if 96 <= ord(i) <= 122:\n",
    "            letter = chr(122 - (ord(i) - 97))\n",
    "        elif i == ' ':\n",
    "            letter = '$'\n",
    "        new_str += letter\n",
    "    return new_str\n",
    "\n",
    "my_input = 'I want to become a Data Scientist.'\n",
    "print(encrypted_data(my_input))"
   ]
  },
  {
   "cell_type": "code",
   "execution_count": null,
   "id": "e51a08af",
   "metadata": {},
   "outputs": [],
   "source": []
  }
 ],
 "metadata": {
  "kernelspec": {
   "display_name": "Python 3 (ipykernel)",
   "language": "python",
   "name": "python3"
  },
  "language_info": {
   "codemirror_mode": {
    "name": "ipython",
    "version": 3
   },
   "file_extension": ".py",
   "mimetype": "text/x-python",
   "name": "python",
   "nbconvert_exporter": "python",
   "pygments_lexer": "ipython3",
   "version": "3.11.4"
  }
 },
 "nbformat": 4,
 "nbformat_minor": 5
}
