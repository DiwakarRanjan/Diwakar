{
 "cells": [
  {
   "cell_type": "raw",
   "id": "cd8a1a8c-43f2-4280-a8e8-2d5bbf83570a",
   "metadata": {},
   "source": [
    "# 1 answer\n",
    "A probability density function (PDF) is a mathematical function that describes the probability distribution of a continuous random variable. The PDF represents the relative likelihood of different outcomes occurring in a random process.\n",
    "\n",
    "The PDF is defined as the derivative of the cumulative distribution function (CDF) of a random variable. Mathematically, the PDF of a continuous random variable X is denoted as f(x), and it is defined as:\n",
    "\n",
    "f(x) = d/dx F(x)\n",
    "\n",
    "where F(x) is the CDF of X.\n",
    "\n",
    "The PDF can take on any non-negative value, but its integral over the entire range of the random variable must equal one. This means that the total area under the curve of the PDF is equal to one.\n",
    "\n",
    "The PDF is a fundamental concept in probability theory and statistics, and it is used to model and analyze a wide range of phenomena, from the behavior of physical systems to financial markets to human populations. "
   ]
  },
  {
   "cell_type": "raw",
   "id": "ace23248-6d7c-429f-a076-9a31c0975e26",
   "metadata": {},
   "source": [
    "## 2 answer\n",
    "There are several types of probability distributions, each with its own set of properties and applications. Some of the most common types of probability distributions include:\n",
    "\n",
    "Bernoulli distribution: A probability distribution that describes the outcomes of a binary experiment, where there are only two possible outcomes, such as success or failure.\n",
    "\n",
    "Binomial distribution: A probability distribution that describes the number of successes in a fixed number of independent Bernoulli trials.\n",
    "\n",
    "Normal distribution: A probability distribution that is often used to model natural phenomena, such as the heights of individuals in a population. It is characterized by a bell-shaped curve and has several important properties, including symmetry, a mean of zero, and a standard deviation of one.\n",
    "\n",
    "Poisson distribution: A probability distribution that describes the number of events that occur in a fixed interval of time or space, given the average rate of occurrence."
   ]
  },
  {
   "cell_type": "code",
   "execution_count": 2,
   "id": "3f3f0700-cfe8-4cf6-80c2-187759022509",
   "metadata": {},
   "outputs": [],
   "source": [
    "## 3 answer\n",
    "import math\n",
    "\n",
    "def normal_pdf(x, mean, std_dev):\n",
    "    \"\"\"\n",
    "    Calculates the probability density function of a normal distribution\n",
    "    with the given mean and standard deviation at the given point x.\n",
    "    \"\"\"\n",
    "    exponent = -((x - mean)**2) / (2 * std_dev**2)\n",
    "    coefficient = 1 / (std_dev * math.sqrt(2 * math.pi))\n",
    "    pdf = coefficient * math.exp(exponent)\n",
    "    return pdf"
   ]
  },
  {
   "cell_type": "code",
   "execution_count": 3,
   "id": "02b25133-c294-4e80-b979-201f615b63a9",
   "metadata": {},
   "outputs": [
    {
     "name": "stdout",
     "output_type": "stream",
     "text": [
      "0.24197072451914337\n"
     ]
    }
   ],
   "source": [
    "## to use function \n",
    "pdf_at_1 = normal_pdf(1, 0, 1)\n",
    "print(pdf_at_1)"
   ]
  },
  {
   "cell_type": "code",
   "execution_count": 5,
   "id": "511c2520-7df0-48c0-b024-317382c9ba9a",
   "metadata": {},
   "outputs": [
    {
     "name": "stdout",
     "output_type": "stream",
     "text": [
      "0.24609375000000003\n",
      "0.14883105044299128\n"
     ]
    }
   ],
   "source": [
    "## 4 answer\n",
    "#The binomial distribution is a discrete probability distribution that describes the number of successes in a fixed number of independent Bernoulli trials.\n",
    "#Here are some of #the properties of the binomial distribution:\n",
    "\n",
    "#The number of trials (n) is fixed.\n",
    "#Each trial has only two possible outcomes, usually denoted as \"success\" and \"failure\".\n",
    "#The trials are independent, meaning that the outcome of one trial does not affect the outcome of any other trial.\n",
    "#The probability of success (p) is constant for each trial.\n",
    "#Here are two examples of events where the binomial distribution can be applied in a Python program:\n",
    "\n",
    "## 1Flipping a coin: Suppose we flip a fair coin 10 times and want to know the probability of getting exactly 5 heads. This is an example of a binomial distribution, \n",
    "#where each #flip is a Bernoulli trial with p=0.5. We can use the scipy.stats.binom module in Python to calculate the probability mass function (PMF) of the binomial distribution:\n",
    "# example \n",
    "from scipy.stats import binom\n",
    "\n",
    "n = 10\n",
    "p = 0.5\n",
    "k = 5\n",
    "\n",
    "prob = binom.pmf(k, n, p)\n",
    "print(prob)\n",
    "## 2 Testing a drug: Suppose we are testing a new drug and want to know the probability that it cures at least 80% of patients. \n",
    "# We conduct a clinical trial with 100 patients and record whether each patient is cured or not. This is another example of a binomial distribution, \n",
    "# where each patient is a Bernoulli trial with a success probability that depends on the efficacy of the drug. We can use the scipy.stats.binom module again to \n",
    "#calculate the cumulative distribution function (CDF) of the binomial distribution and then subtract it from 1 to get the probability of at least 80% of patients being cured:\n",
    "from scipy.stats import binom\n",
    "\n",
    "n = 100\n",
    "p = 0.75\n",
    "k = int(n * 0.8)\n",
    "\n",
    "prob = 1 - binom.cdf(k-1, n, p)\n",
    "print(prob)"
   ]
  },
  {
   "cell_type": "code",
   "execution_count": 6,
   "id": "dd24b39c-f9e8-404d-905b-b90f041a7a92",
   "metadata": {},
   "outputs": [
    {
     "data": {
      "image/png": "[encoded data removed]",
      "text/plain": [
       "<Figure size 640x480 with 1 Axes>"
      ]
     },
     "metadata": {},
     "output_type": "display_data"
    }
   ],
   "source": [
    "## 5 answer\n",
    "import numpy as np\n",
    "import matplotlib.pyplot as plt\n",
    "\n",
    "# Set the seed for reproducibility\n",
    "np.random.seed(42)\n",
    "\n",
    "# Generate a random sample of size 1000 from a binomial distribution with p=0.4\n",
    "sample = np.random.binomial(n=1, p=0.4, size=1000)\n",
    "\n",
    "# Plot a histogram of the sample\n",
    "plt.hist(sample, bins=2, rwidth=0.8)\n",
    "plt.xlabel('Success or Failure')\n",
    "plt.ylabel('Frequency')\n",
    "plt.title('Histogram of Random Sample from Binomial Distribution')\n",
    "plt.show()"
   ]
  },
  {
   "cell_type": "code",
   "execution_count": 18,
   "id": "73798657-35cf-479f-9afa-084a350893ae",
   "metadata": {},
   "outputs": [],
   "source": [
    "## 6 answer\n",
    "import math\n",
    "\n",
    "def poisson_cdf(mean, k):\n",
    "    \"\"\"\n",
    "    Calculates the cumulative distribution function (CDF) of a Poisson distribution\n",
    "    with mean 'mean' at a given point 'k'.\n",
    "    \"\"\"\n",
    "    if mean < 0 or k < 0:\n",
    "        return None # undefined for negative values of mean and k\n",
    "    else:\n",
    "        cdf = 0.0\n",
    "        for i in range(k+1):\n",
    "            cdf += math.exp(-mean) * (mean**i) / math.factorial(i)\n",
    "        return cdf"
   ]
  },
  {
   "cell_type": "code",
   "execution_count": null,
   "id": "670164b9-ca25-4930-9c8b-dbf026308f39",
   "metadata": {},
   "outputs": [],
   "source": [
    "P(X = i) = e^(-mean) * (mean^i) / i!"
   ]
  },
  {
   "cell_type": "raw",
   "id": "b6e726af-676e-4145-a698-10c4fbb8ca05",
   "metadata": {},
   "source": [
    "## 7 answer\n",
    "Binomial and Poisson distributions are two common probability distributions used in statistics and probability theory, but they differ in several ways:\n",
    "\n",
    "Definition: The binomial distribution models the number of successes in a fixed number of independent trials, where each trial has the same probability of success. The Poisson distribution models the number of rare events that occur in a fixed interval of time or space, where the events occur randomly and independently of each other.\n",
    "\n",
    "Parameters: The binomial distribution is parameterized by two values: the number of trials n and the probability of success p for each trial. The Poisson distribution is parameterized by a single value λ, which represents the expected number of events in the given interval.\n",
    "\n",
    "Support: The binomial distribution is defined for discrete values of k from 0 to n, where k represents the number of successes in n trials. The Poisson distribution is defined for discrete values of k from 0 to infinity, where k represents the number of events in the given interval.\n",
    "\n",
    "Shape: The binomial distribution is typically bell-shaped, and becomes more symmetric as n increases. The Poisson distribution is typically right-skewed, and becomes more symmetric as λ increases.\n",
    "\n",
    "Assumptions: The binomial distribution assumes that the trials are independent and identically distributed (i.i.d.), meaning that the probability of success is the same for each trial and the trials are not influenced by each other. The Poisson distribution assumes that the events occur randomly and independently of each other, and that the expected number of events is proportional to the size of the interval.\n",
    "\n",
    "Approximation: In some cases, the Poisson distribution can be used as an approximation of the binomial distribution when the number of trials is large and the probability of success is small. This is known as the Poisson approximation to the binomial distribution. However, this approximation is only valid under certain conditions, and may not always be accurate."
   ]
  },
  {
   "cell_type": "code",
   "execution_count": 21,
   "id": "7189a5d4-a1f1-4d21-abd0-c32f83be500c",
   "metadata": {},
   "outputs": [
    {
     "name": "stdout",
     "output_type": "stream",
     "text": [
      "Sample Mean: 4.976\n",
      "Sample Variance: 4.7942182182182185\n"
     ]
    }
   ],
   "source": [
    "## 8 answer\n",
    "\n",
    "sample = np.random.poisson(5, size=1000)\n",
    "\n",
    "\n",
    "sample_mean = np.mean(sample)\n",
    "sample_variance = np.var(sample, ddof=1)\n",
    "\n",
    "print(\"Sample Mean:\", sample_mean)\n",
    "print(\"Sample Variance:\", sample_variance)"
   ]
  },
  {
   "cell_type": "raw",
   "id": "39e8e1eb-981e-4397-ac43-45db09a9484d",
   "metadata": {},
   "source": [
    "## 9 answer\n",
    "In both Binomial and Poisson distributions, the mean and variance are related, but in different ways:\n",
    "\n",
    "Binomial distribution:\n",
    "\n",
    "The mean of a Binomial distribution with n trials and probability of success p is given by:\n",
    "    Mean = n * p\n",
    "The variance of a Binomial distribution is given by:\n",
    "    Variance = n * p * (1 - p)\n",
    "Note that the variance of a Binomial distribution is a function of both the number of trials n and the probability of success p. The variance is at its maximum when p = 0.5 and decreases as p moves towards 0 or 1.\n",
    "\n",
    "Poisson distribution:\n",
    "\n",
    "The mean of a Poisson distribution with expected value λ is given by:\n",
    "    Mean = λ\n",
    "The variance of a Poisson distribution is also given by:\n",
    "    Variance = λ\n",
    "Note that the variance of a Poisson distribution is equal to its mean. This is a special property of the Poisson distribution, and it implies that the distribution is fully determined by its mean. In other words, if we know the mean of a Poisson distribution, we can immediately determine its variance.\n",
    "\n",
    "In summary, the mean and variance of a Binomial distribution are related to the number of trials and probability of success, while the mean and variance of a Poisson distribution are equal and determined by the expected value."
   ]
  },
  {
   "cell_type": "raw",
   "id": "43d237ae-3dba-4b74-ac41-645388c10614",
   "metadata": {},
   "source": [
    "## 10 answer\n",
    "In a normal distribution, also known as a Gaussian distribution, the least frequent data appear at the tails of the distribution, which are the regions farthest from the mean. The normal distribution is a symmetric distribution, so the least frequent data appear at both tails, which have the same shape.\n",
    "\n",
    "The tails of the normal distribution contain the extreme values that are very unlikely to occur. As we move away from the mean towards the tails, the probability density of the distribution decreases rapidly, and the frequency of the data points decreases accordingly. The tails of the normal distribution are defined by the standard deviation, which is a measure of the spread of the distribution. Specifically, about 68% of the data points lie within one standard deviation from the mean, about 95% lie within two standard deviations, and about 99.7% lie within three standard deviations.\n",
    "\n",
    "Therefore, the least frequent data points in a normal distribution appear at the tails, which are the regions that lie more than three standard deviations away from the mean. These extreme values are rare and occur with a very low probability, but they are still possible according to the normal distribution."
   ]
  }
 ],
 "metadata": {
  "kernelspec": {
   "display_name": "Python 3 (ipykernel)",
   "language": "python",
   "name": "python3"
  },
  "language_info": {
   "codemirror_mode": {
    "name": "ipython",
    "version": 3
   },
   "file_extension": ".py",
   "mimetype": "text/x-python",
   "name": "python",
   "nbconvert_exporter": "python",
   "pygments_lexer": "ipython3",
   "version": "3.10.8"
  }
 },
 "nbformat": 4,
 "nbformat_minor": 5
}
