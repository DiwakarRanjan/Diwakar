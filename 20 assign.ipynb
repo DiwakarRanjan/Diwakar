{
 "cells": [
  {
   "cell_type": "markdown",
   "id": "8ddc3ae6",
   "metadata": {},
   "source": [
    "# 1 answer\n",
    "GET Request GET requests is used to retrieve resource representation/information only – and not modify it in any way.As GET requests do not change the resource’s state, these are said to be safe methods.\n",
    "\n",
    "Additionally, GET APIs should be idempotent. Making multiple identical requests must produce the same result every time until another API (POST or PUT) has changed the state of the resource on the server.\n",
    "\n",
    "POST Request POST request is used to create new subordinate resources, e.g., a file is subordinate to a directory containing it or a row is subordinate to a database table.\n",
    "\n",
    "POST is neither safe nor idempotent, and invoking two identical POST requests will result in two different resources containing the same information (except resource ids)."
   ]
  },
  {
   "cell_type": "markdown",
   "id": "c54ff365",
   "metadata": {},
   "source": [
    "# 2 answer\n",
    "The Request, in Flask, is an object that contains all the data sent from the Client to Server. This data can be recovered using the GET/POST Methods"
   ]
  },
  {
   "cell_type": "markdown",
   "id": "9292fc13",
   "metadata": {},
   "source": [
    "# 3 answer\n",
    "Flask class has a redirect() function. When called, it returns a response object and redirects the user to another target location with specified status code. location parameter is the URL where response should be redirected."
   ]
  },
  {
   "cell_type": "markdown",
   "id": "bfc79986",
   "metadata": {},
   "source": [
    "# 4 answer \n",
    "templates are files that contain static data as well as placeholders for dynamic data. A template is rendered with specific data to produce a final document. Flask uses the Jinja template library to render templates.\n",
    "\n",
    "render_template is a Flask function from the flask.templating package. render_template is used to generate output from a template file based on the Jinja2 engine that is found in the application's templates folder."
   ]
  },
  {
   "cell_type": "code",
   "execution_count": 2,
   "id": "93aec94c",
   "metadata": {},
   "outputs": [],
   "source": [
    "# 5 answer \n",
    "from flask import Flask, request ,render_template , jsonfy\n",
    "app = Flask(__name__)\n",
    "\n",
    "@app.route('/details')\n",
    "def get_details():\n",
    "    name = request.args.get('n1')\n",
    "    print(name)\n",
    "    result = f'Hi this is {name}'\n",
    "    return jsonify(result)\n",
    "\n",
    "if __name__==\"__main__\":\n",
    "    app.run(host=\"0.0.0.0\")"
   ]
  },
  {
   "cell_type": "code",
   "execution_count": null,
   "id": "3e90ce34",
   "metadata": {},
   "outputs": [],
   "source": []
  }
 ],
 "metadata": {
  "kernelspec": {
   "display_name": "Python 3 (ipykernel)",
   "language": "python",
   "name": "python3"
  },
  "language_info": {
   "codemirror_mode": {
    "name": "ipython",
    "version": 3
   },
   "file_extension": ".py",
   "mimetype": "text/x-python",
   "name": "python",
   "nbconvert_exporter": "python",
   "pygments_lexer": "ipython3",
   "version": "3.11.4"
  }
 },
 "nbformat": 4,
 "nbformat_minor": 5
}
