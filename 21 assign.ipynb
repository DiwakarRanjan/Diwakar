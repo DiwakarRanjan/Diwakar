{
 "cells": [
  {
   "cell_type": "markdown",
   "id": "bdf478aa",
   "metadata": {},
   "source": [
    "# 1 answer\n",
    "Web scraping is an automatic method to obtain large amounts of data from websites. Most of this data is unstructured data in an HTML format which is then converted into structured data in a spreadsheet or a database so that it can be used in various applications\n",
    "\n",
    "Used for\n",
    "\n",
    "Price Monitoring\n",
    "Market Research\n",
    "News Monitoring\n",
    "Sentiment Analysis\n",
    "Email Marketing\n",
    "Shopping Sites: Some several websites and applications can help you to easily compare pricing between several retailers for the same product.\n",
    "\n",
    "Real Estate Listing: Many real estate agents use web scraping to populate their database of available properties for sale or for rent.\n",
    "\n",
    "Industry Statistics and Insights: Many companies use web scraping to build massive databases and draw industry-specific insights from these. These companies can then sell access to these insights to companies in said industries.\n",
    "\n",
    "Lead Generation One incredibly popular use of web scraping is lead generation. This use is so popular in fact, that we have written an entire guide on using web scraping for lead generation."
   ]
  },
  {
   "cell_type": "markdown",
   "id": "c900ac59",
   "metadata": {},
   "source": [
    "# 2 answer \n",
    "HTML Parsing HTML parsing involves the use of JavaScript to target a linear or nested HTML page. It is a powerful and fast method for extracting text and links (e.g. a nested link or email address), scraping screens and pulling resources.\n",
    "\n",
    "DOM Parsing The Document Object Model (DOM) defines the structure, style and content of an XML file. Scrapers typically use a DOM parser to view the structure of web pages in depth\n",
    "\n",
    "XPath XPath is short for XML Path Language, which is a query language for XML documents. XML documents have tree-like structures, so scrapers can use XPath"
   ]
  },
  {
   "cell_type": "markdown",
   "id": "129f599a",
   "metadata": {},
   "source": [
    "# 3 answer\n",
    "Beautiful Soup provides simple methods for navigating, searching, and modifying a parse tree in HTML, XML files.\n",
    "\n",
    "It transforms a complex HTML document into a tree of Python objects.\n",
    "It also automatically converts the document to Unicode, so you don’t have to think about encodings\n",
    "This tool not only helps you scrape but also to clean the data"
   ]
  },
  {
   "cell_type": "markdown",
   "id": "adf60f27",
   "metadata": {},
   "source": [
    "# 4 answer\n",
    "flask is a lightweight framework to build websites.\n",
    "These can be used to scrap data and display all data on the go."
   ]
  },
  {
   "cell_type": "markdown",
   "id": "c4c67642",
   "metadata": {},
   "source": [
    "# 5 answer \n",
    "AWS Elastic Beanstalk is an orchestration service offered by Amazon Web Services for deploying applications which orchestrates various AWS services, including EC2, S3, Simple Notification Service, CloudWatch, autoscaling, and Elastic Load\n",
    "\n",
    "AWS CodePipeline is a fully managed continuous delivery service that helps you automate your release pipelines for fast and reliable application and infrastructure updates."
   ]
  },
  {
   "cell_type": "code",
   "execution_count": null,
   "id": "6aabf3b0",
   "metadata": {},
   "outputs": [],
   "source": []
  }
 ],
 "metadata": {
  "kernelspec": {
   "display_name": "Python 3 (ipykernel)",
   "language": "python",
   "name": "python3"
  },
  "language_info": {
   "codemirror_mode": {
    "name": "ipython",
    "version": 3
   },
   "file_extension": ".py",
   "mimetype": "text/x-python",
   "name": "python",
   "nbconvert_exporter": "python",
   "pygments_lexer": "ipython3",
   "version": "3.11.4"
  }
 },
 "nbformat": 4,
 "nbformat_minor": 5
}
