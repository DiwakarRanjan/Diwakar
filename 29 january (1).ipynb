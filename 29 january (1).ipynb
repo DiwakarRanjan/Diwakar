{
 "cells": [
  {
   "cell_type": "code",
   "execution_count": null,
   "id": "9cca0461-00fd-4fb0-8982-853303e95284",
   "metadata": {},
   "outputs": [],
   "source": [
    "#1 answer\n",
    "python wad developed by Guido Van Rossum"
   ]
  },
  {
   "cell_type": "code",
   "execution_count": null,
   "id": "72885c26-b693-45d0-872c-9fb13b802009",
   "metadata": {},
   "outputs": [],
   "source": [
    "#2 answer\n",
    "# python support programings off\n",
    "a. Imperative programming\n",
    "b. object oriented programing\n",
    "c. procedural programing\n",
    "d. functional programing"
   ]
  },
  {
   "cell_type": "code",
   "execution_count": null,
   "id": "15160e68-2b0b-4571-9ffe-2f8a4af237e3",
   "metadata": {},
   "outputs": [],
   "source": [
    "#3 answer\n",
    "yes python case sensitive when dealing with identifires"
   ]
  },
  {
   "cell_type": "code",
   "execution_count": null,
   "id": "842c4b23-f735-4cff-9c8c-de186eb098de",
   "metadata": {},
   "outputs": [],
   "source": [
    "#4 answer\n",
    "# extensions of python programings are\n",
    "a. .pyc\n",
    "b. .pyd\n",
    "c. .pyo"
   ]
  },
  {
   "cell_type": "code",
   "execution_count": null,
   "id": "83a4bc44-c7a6-4434-a16b-a4bd900dcf81",
   "metadata": {},
   "outputs": [],
   "source": [
    "#5 answer\n",
    "python program is first compiled and then interpreted"
   ]
  },
  {
   "cell_type": "code",
   "execution_count": null,
   "id": "e15fccba-e889-4688-b6b9-64b9db73f5ed",
   "metadata": {},
   "outputs": [],
   "source": [
    "#6 answer\n",
    "a. key\n",
    "b. brackets\n",
    "c. indentation"
   ]
  },
  {
   "cell_type": "code",
   "execution_count": null,
   "id": "3238c893-1f11-4ae9-84f7-bb3ed0dbddd2",
   "metadata": {},
   "outputs": [],
   "source": [
    "#7 answer\n",
    "# cahrector is used to define single line comment in python"
   ]
  },
  {
   "cell_type": "code",
   "execution_count": 1,
   "id": "5f6817dd-883a-4314-9200-af114775d84c",
   "metadata": {},
   "outputs": [
    {
     "data": {
      "text/plain": [
       "'3.10.8'"
      ]
     },
     "execution_count": 1,
     "metadata": {},
     "output_type": "execute_result"
    }
   ],
   "source": [
    "#8 answer\n",
    "from platform import python_version\n",
    "python_version()"
   ]
  },
  {
   "cell_type": "code",
   "execution_count": null,
   "id": "fee01c69-7925-4417-9d2e-7960a23e14a3",
   "metadata": {},
   "outputs": [],
   "source": [
    "#9 answer\n",
    "python supports the creation of anonymous functions at runtime, using a construct called lambda"
   ]
  },
  {
   "cell_type": "code",
   "execution_count": null,
   "id": "b80a481e-98a4-4f74-a682-187d34a46d53",
   "metadata": {},
   "outputs": [],
   "source": [
    "#10 answer\n",
    "Python pip is the package manager for Python packages. We can use pip to install packages that do not come with Python. "
   ]
  },
  {
   "cell_type": "code",
   "execution_count": null,
   "id": "a18c7a16-be91-44be-81d0-01c26ffa4d95",
   "metadata": {},
   "outputs": [],
   "source": [
    "#11 answer\n",
    "print(),  bool(),type(), len()"
   ]
  },
  {
   "cell_type": "code",
   "execution_count": null,
   "id": "934c3f40-04c2-4f3d-9a6e-a06a41a0f3af",
   "metadata": {},
   "outputs": [],
   "source": [
    "#12 answer\n",
    "There is no length limit for Python identifiers. "
   ]
  },
  {
   "cell_type": "code",
   "execution_count": null,
   "id": "296a389c-3fb5-47e3-a686-798bd453b922",
   "metadata": {},
   "outputs": [],
   "source": [
    "#13 answer\n",
    "Python is a high-level, interpreted, and general-purpose dynamic programming language that focuses on code readability. It generally has small programs when compared to Java and C."
   ]
  },
  {
   "cell_type": "code",
   "execution_count": null,
   "id": "5b8068dc-6fc6-4904-af7b-b2f8b5fcc3d7",
   "metadata": {},
   "outputs": [],
   "source": [
    "#14 answer\n",
    "#Understanding Memory allocation is important to any software developer as writing efficient code means writing a memory-efficient code.\n",
    "#Memory allocation can be defined as allocating a block of space in the computer memory to a program"
   ]
  },
  {
   "cell_type": "code",
   "execution_count": null,
   "id": "0f74ee5a-2273-4d6e-8cb3-2ce9a92f01fa",
   "metadata": {},
   "outputs": [],
   "source": [
    "#15 answer\n",
    "Download python .exe file from python official website\n",
    "For path setup\n",
    "a. Find in C-Drive where python is install\n",
    "b. Copy the path\n",
    "c. Go to This PC > Properties > Advanced system settings > Environment Variables\n",
    "d. Select user/System variable and add the PATH here"
   ]
  },
  {
   "cell_type": "code",
   "execution_count": null,
   "id": "237f4c7b-afc7-4d66-b9bf-a2a3c5995daa",
   "metadata": {},
   "outputs": [],
   "source": [
    "#16 answer\n",
    "Indentation is a very important concept of Python because without proper indenting the Python code, you will end up seeing IndentationError and the code will not get compiled."
   ]
  }
 ],
 "metadata": {
  "kernelspec": {
   "display_name": "Python 3 (ipykernel)",
   "language": "python",
   "name": "python3"
  },
  "language_info": {
   "codemirror_mode": {
    "name": "ipython",
    "version": 3
   },
   "file_extension": ".py",
   "mimetype": "text/x-python",
   "name": "python",
   "nbconvert_exporter": "python",
   "pygments_lexer": "ipython3",
   "version": "3.10.8"
  }
 },
 "nbformat": 4,
 "nbformat_minor": 5
}
