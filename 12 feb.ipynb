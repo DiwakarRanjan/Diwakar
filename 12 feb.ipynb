{
 "cells": [
  {
   "cell_type": "markdown",
   "id": "57073b18",
   "metadata": {},
   "source": [
    "#1 answer\n",
    "\n",
    "In Python, an exception is an event that occurs during the execution of a program that disrupts the normal flow of instructions. When an exceptional situation arises, such as trying to divide by zero or accessing a non-existent file, an exception object is raised. This can be caught and handled by the programmer to gracefully manage errors and prevent program crashes.\n",
    "\n",
    "Cause:\n",
    "\n",
    "Exceptions: Exceptions are raised during the execution of a program when an error or exceptional situation occurs, such as division by zero, file not found, etc.\n",
    "Syntax Errors: Syntax errors occur due to incorrect grammar or structure of the code. They are detected by the Python interpreter before the program starts running.\n",
    "Detection:\n",
    "\n",
    "Exceptions: Exceptions are runtime errors that are only detected when the corresponding code is executed.\n",
    "Syntax Errors: Syntax errors are detected by the Python interpreter during the parsing phase, before the code is executed.\n",
    "Handling:\n",
    "\n",
    "Exceptions: Exceptions can be caught and handled using try-except blocks, allowing you to gracefully manage errors and prevent program crashes.\n",
    "Syntax Errors: Syntax errors cannot be caught or handled programmatically because they prevent the code from being executed in the first place."
   ]
  },
  {
   "cell_type": "markdown",
   "id": "e3166aa1",
   "metadata": {},
   "source": [
    "#2 answer\n",
    "\n",
    "When an exception is not handled, it propagates up the call stack until it either encounters a suitable exception handler or reaches the top-level of the program. If no handler is found, the program will typically terminate abruptly, and an error message or a stack trace might be displayed, depending on the programming language and environment.\n"
   ]
  },
  {
   "cell_type": "code",
   "execution_count": 3,
   "id": "6fd77d73",
   "metadata": {},
   "outputs": [
    {
     "name": "stdout",
     "output_type": "stream",
     "text": [
      "finally block\n"
     ]
    },
    {
     "ename": "ZeroDivisionError",
     "evalue": "division by zero",
     "output_type": "error",
     "traceback": [
      "\u001b[1;31m---------------------------------------------------------------------------\u001b[0m",
      "\u001b[1;31mZeroDivisionError\u001b[0m                         Traceback (most recent call last)",
      "Cell \u001b[1;32mIn[3], line 14\u001b[0m\n\u001b[0;32m     11\u001b[0m         \u001b[38;5;28mprint\u001b[39m(\u001b[38;5;124m\"\u001b[39m\u001b[38;5;124mfinally block\u001b[39m\u001b[38;5;124m\"\u001b[39m)\n\u001b[0;32m     13\u001b[0m \u001b[38;5;28;01mif\u001b[39;00m \u001b[38;5;18m__name__\u001b[39m \u001b[38;5;241m==\u001b[39m\u001b[38;5;124m\"\u001b[39m\u001b[38;5;124m__main__\u001b[39m\u001b[38;5;124m\"\u001b[39m:\n\u001b[1;32m---> 14\u001b[0m     \u001b[43mmain\u001b[49m\u001b[43m(\u001b[49m\u001b[43m)\u001b[49m\n",
      "Cell \u001b[1;32mIn[3], line 6\u001b[0m, in \u001b[0;36mmain\u001b[1;34m()\u001b[0m\n\u001b[0;32m      4\u001b[0m \u001b[38;5;28;01mdef\u001b[39;00m \u001b[38;5;21mmain\u001b[39m():\n\u001b[0;32m      5\u001b[0m     \u001b[38;5;28;01mtry\u001b[39;00m:\n\u001b[1;32m----> 6\u001b[0m         result\u001b[38;5;241m=\u001b[39m\u001b[43mdivide\u001b[49m\u001b[43m(\u001b[49m\u001b[38;5;241;43m5\u001b[39;49m\u001b[43m,\u001b[49m\u001b[38;5;241;43m0\u001b[39;49m\u001b[43m)\u001b[49m\n\u001b[0;32m      7\u001b[0m         \u001b[38;5;28mprint\u001b[39m(\u001b[38;5;124m\"\u001b[39m\u001b[38;5;124mResult:\u001b[39m\u001b[38;5;124m\"\u001b[39m,result)\n\u001b[0;32m      8\u001b[0m     \u001b[38;5;28;01mexcept\u001b[39;00m \u001b[38;5;167;01mValueError\u001b[39;00m:\n",
      "Cell \u001b[1;32mIn[3], line 3\u001b[0m, in \u001b[0;36mdivide\u001b[1;34m(a, b)\u001b[0m\n\u001b[0;32m      2\u001b[0m \u001b[38;5;28;01mdef\u001b[39;00m \u001b[38;5;21mdivide\u001b[39m(a,b):\n\u001b[1;32m----> 3\u001b[0m     \u001b[38;5;28;01mreturn\u001b[39;00m \u001b[43ma\u001b[49m\u001b[38;5;241;43m/\u001b[39;49m\u001b[43mb\u001b[49m\n",
      "\u001b[1;31mZeroDivisionError\u001b[0m: division by zero"
     ]
    }
   ],
   "source": [
    "## example of exception not handaling\n",
    "def divide(a,b):\n",
    "    return a/b\n",
    "def main():\n",
    "    try:\n",
    "        result=divide(5,0)\n",
    "        print(\"Result:\",result)\n",
    "    except ValueError:\n",
    "        print(\"caught a value error\")\n",
    "    finally:\n",
    "        print(\"finally block\")\n",
    "        \n",
    "if __name__ ==\"__main__\":\n",
    "    main()\n",
    "    \n"
   ]
  },
  {
   "cell_type": "markdown",
   "id": "9a9bfaf8",
   "metadata": {},
   "source": [
    "# 3 answer\n",
    "\n",
    "In Python, exceptions are events that occur during the execution of a program that disrupt the normal flow of the program's instructions. To catch and handle these exceptions, you can use the\n",
    "\n"
   ]
  },
  {
   "cell_type": "code",
   "execution_count": 4,
   "id": "7a2c3f96",
   "metadata": {},
   "outputs": [
    {
     "name": "stdout",
     "output_type": "stream",
     "text": [
      "enter a number:52\n",
      "Result: 0.19230769230769232\n",
      "No exception were raised.\n",
      "this block will always execute,regardless of exceptions.\n"
     ]
    }
   ],
   "source": [
    "try:\n",
    "    num= int(input(\"enter a number:\"))\n",
    "    result =10/ num\n",
    "    print(\"Result:\",result)\n",
    "except ZeroDivisionError:\n",
    "    print(\"error:division by zero\")\n",
    "except ValueError:\n",
    "    print(\"Error:Invalid input, please enter a valid number\")\n",
    "except Exception as e:\n",
    "    print(\"an error occured:\",e)\n",
    "else:\n",
    "    print(\"No exception were raised.\")\n",
    "finally:\n",
    "    print(\"this block will always execute,regardless of exceptions.\")"
   ]
  },
  {
   "cell_type": "markdown",
   "id": "97fa5b6a",
   "metadata": {},
   "source": [
    "# 4 answer\n",
    "a.  Try and Else:\n",
    "The try block is used to enclose the code that might raise an exception. The else block, which is optional, is executed if no exception is raised in the try block. This can be useful for running code that should only be executed when the preceding code runs successfully."
   ]
  },
  {
   "cell_type": "code",
   "execution_count": 5,
   "id": "ba3d45a7",
   "metadata": {},
   "outputs": [
    {
     "name": "stdout",
     "output_type": "stream",
     "text": [
      "enter a positive number:02\n",
      "you enterd a positive number 2\n"
     ]
    }
   ],
   "source": [
    "try: \n",
    "    \n",
    "    num=int(input(\"enter a positive number:\"))\n",
    "    if num<=0:\n",
    "        raise ValueError(\"Number must be positive\")\n",
    "except ValueError as ve:\n",
    "    print(\"Error:\",ve)\n",
    "else:\n",
    "    print(\"you enterd a positive number\",num)\n"
   ]
  },
  {
   "cell_type": "markdown",
   "id": "7095c428",
   "metadata": {},
   "source": [
    "b. Finally: The finally block is used to define code that should be executed regardless of whether an exception was raised or not. This block is often used for cleanup operations like closing files or releasing resources."
   ]
  },
  {
   "cell_type": "code",
   "execution_count": 7,
   "id": "a96f0c20",
   "metadata": {},
   "outputs": [
    {
     "name": "stdout",
     "output_type": "stream",
     "text": [
      "Error: File not found\n"
     ]
    },
    {
     "ename": "NameError",
     "evalue": "name 'file' is not defined",
     "output_type": "error",
     "traceback": [
      "\u001b[1;31m---------------------------------------------------------------------------\u001b[0m",
      "\u001b[1;31mNameError\u001b[0m                                 Traceback (most recent call last)",
      "Cell \u001b[1;32mIn[7], line 8\u001b[0m\n\u001b[0;32m      6\u001b[0m     \u001b[38;5;28mprint\u001b[39m(\u001b[38;5;124m\"\u001b[39m\u001b[38;5;124mError: File not found\u001b[39m\u001b[38;5;124m\"\u001b[39m)\n\u001b[0;32m      7\u001b[0m \u001b[38;5;28;01mfinally\u001b[39;00m:\n\u001b[1;32m----> 8\u001b[0m     \u001b[38;5;28;01mif\u001b[39;00m \u001b[43mfile\u001b[49m:\n\u001b[0;32m      9\u001b[0m         file\u001b[38;5;241m.\u001b[39mclose()\n\u001b[0;32m     10\u001b[0m     \u001b[38;5;28mprint\u001b[39m(\u001b[38;5;124m\"\u001b[39m\u001b[38;5;124mFile handling complete\u001b[39m\u001b[38;5;124m\"\u001b[39m)\n",
      "\u001b[1;31mNameError\u001b[0m: name 'file' is not defined"
     ]
    }
   ],
   "source": [
    "try:\n",
    "    file = open(\"example.txt\", \"r\")\n",
    "    content = file.read()\n",
    "    print(\"File content:\", content)\n",
    "except FileNotFoundError:\n",
    "    print(\"Error: File not found\")\n",
    "finally:\n",
    "    if file:\n",
    "        file.close()\n",
    "    print(\"File handling complete\")\n"
   ]
  },
  {
   "cell_type": "markdown",
   "id": "b7a825d5",
   "metadata": {},
   "source": [
    "c. Raise:\n",
    "The raise statement is used to deliberately raise an exception in your code. This can be useful when you encounter a situation where you want to handle a particular error condition by creating and raising a specific exception."
   ]
  },
  {
   "cell_type": "code",
   "execution_count": 8,
   "id": "3e6d4671",
   "metadata": {},
   "outputs": [
    {
     "name": "stdout",
     "output_type": "stream",
     "text": [
      "Enter a number: 25\n",
      "Square root: 5.0\n"
     ]
    }
   ],
   "source": [
    "def calculate_square_root(num):\n",
    "    if num < 0:\n",
    "        raise ValueError(\"Cannot calculate square root of a negative number\")\n",
    "    return num ** 0.5\n",
    "\n",
    "try:\n",
    "    number = float(input(\"Enter a number: \"))\n",
    "    result = calculate_square_root(number)\n",
    "    print(\"Square root:\", result)\n",
    "except ValueError as ve:\n",
    "    print(\"Error:\", ve)\n"
   ]
  },
  {
   "cell_type": "markdown",
   "id": "ebce0979",
   "metadata": {},
   "source": [
    "# 5 answer\n",
    "Custom exception are those which are created using \"raise\" keyword\n",
    "Some time we have to define and raise exceptions explicitly to indicate that something goes wrong ,such type of exceptions are called Custom Exceptions\n",
    "\n",
    "In the below example an exception is created if the age variable is smaller than 1"
   ]
  },
  {
   "cell_type": "code",
   "execution_count": 11,
   "id": "a6e4d360",
   "metadata": {},
   "outputs": [
    {
     "name": "stdout",
     "output_type": "stream",
     "text": [
      "Withdrawal failed: Insufficient balance (1000) for withdrawal of 1500\n"
     ]
    }
   ],
   "source": [
    "class WithdrawalError(Exception):\n",
    "    def __init__(self, balance, amount):\n",
    "        self.balance = balance\n",
    "        self.amount = amount\n",
    "        super().__init__(f\"Insufficient balance ({balance}) for withdrawal of {amount}\")\n",
    "\n",
    "def make_withdrawal(balance, amount):\n",
    "    if amount > balance:\n",
    "        raise WithdrawalError(balance, amount)\n",
    "    return balance - amount\n",
    "\n",
    "try:\n",
    "    account_balance = 1000\n",
    "    withdrawal_amount = 1500\n",
    "    new_balance = make_withdrawal(account_balance, withdrawal_amount)\n",
    "    print(\"Withdrawal successful. New balance:\", new_balance)\n",
    "except WithdrawalError as we:\n",
    "    print(\"Withdrawal failed:\", we)\n"
   ]
  },
  {
   "cell_type": "code",
   "execution_count": 12,
   "id": "ee21dfaf",
   "metadata": {},
   "outputs": [
    {
     "name": "stdout",
     "output_type": "stream",
     "text": [
      "Enter a positive number: 2\n",
      "Result: 4\n"
     ]
    }
   ],
   "source": [
    "# 6 answer\n",
    "class NegativeNumberError(Exception):\n",
    "    def __init__(self, value):\n",
    "        self.value = value\n",
    "        super().__init__(f\"Negative numbers are not allowed: {value}\")\n",
    "\n",
    "def process_number(number):\n",
    "    if number < 0:\n",
    "        raise NegativeNumberError(number)\n",
    "    return number * 2\n",
    "\n",
    "try:\n",
    "    input_number = int(input(\"Enter a positive number: \"))\n",
    "    result = process_number(input_number)\n",
    "    print(\"Result:\", result)\n",
    "except NegativeNumberError as nne:\n",
    "    print(\"Error:\", nne)\n",
    "except ValueError:\n",
    "    print(\"Error: Invalid input. Please enter a valid number.\")\n"
   ]
  },
  {
   "cell_type": "code",
   "execution_count": null,
   "id": "37ca45cf",
   "metadata": {},
   "outputs": [],
   "source": []
  }
 ],
 "metadata": {
  "kernelspec": {
   "display_name": "Python 3 (ipykernel)",
   "language": "python",
   "name": "python3"
  },
  "language_info": {
   "codemirror_mode": {
    "name": "ipython",
    "version": 3
   },
   "file_extension": ".py",
   "mimetype": "text/x-python",
   "name": "python",
   "nbconvert_exporter": "python",
   "pygments_lexer": "ipython3",
   "version": "3.11.4"
  }
 },
 "nbformat": 4,
 "nbformat_minor": 5
}
