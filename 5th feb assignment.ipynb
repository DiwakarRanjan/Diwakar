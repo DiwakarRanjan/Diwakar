{
 "cells": [
  {
   "cell_type": "markdown",
   "id": "1c33c62e",
   "metadata": {},
   "source": [
    "# 1 answer\n",
    "Certainly! In object-oriented programming (OOP), classes and objects are fundamental concepts that help you organize and structure your code in a more modular and reusable way. Python is an object-oriented programming language that heavily relies on these concepts. Let's break down what classes and objects are and provide an example in Python.\n",
    "\n",
    "Class:\n",
    "A class is a blueprint or a template for creating objects. It defines the attributes (data members) and methods (functions) that the objects of that class will have. In simpler terms, a class defines the characteristics and behaviors that its objects will exhibit.\n",
    "\n",
    "Object:\n",
    "An object is an instance of a class. It's a concrete entity created based on the blueprint provided by the class. Objects have their own unique set of attributes and can perform actions (methods) defined in the class.\n",
    "\n",
    "Here's a simple example using Python to illustrate classes and objects:"
   ]
  },
  {
   "cell_type": "code",
   "execution_count": 1,
   "id": "a8ebe4de",
   "metadata": {},
   "outputs": [
    {
     "name": "stdout",
     "output_type": "stream",
     "text": [
      "Buddy is 3 years old.\n",
      "Max is 5 years old.\n",
      "Buddy says Woof!\n",
      "Max says Woof!\n"
     ]
    }
   ],
   "source": [
    "class Dog:\n",
    "    def __init__(self, name, age):\n",
    "        self.name = name\n",
    "        self.age = age\n",
    "\n",
    "    def bark(self):\n",
    "        print(f\"{self.name} says Woof!\")\n",
    "\n",
    "\n",
    "dog1 = Dog(\"Buddy\", 3)\n",
    "dog2 = Dog(\"Max\", 5)\n",
    "\n",
    "\n",
    "print(f\"{dog1.name} is {dog1.age} years old.\")\n",
    "print(f\"{dog2.name} is {dog2.age} years old.\")\n",
    "\n",
    "\n",
    "dog1.bark()\n",
    "dog2.bark()"
   ]
  },
  {
   "cell_type": "markdown",
   "id": "0c2619bb",
   "metadata": {},
   "source": [
    "# 2 answer\n",
    " The four pillar of oops is\n",
    " \n",
    " 1.  Encaptulation:-\n",
    " 2.  inheritence :-\n",
    " 3.  abstraction :-\n",
    " 4.  polymorphism:-"
   ]
  },
  {
   "cell_type": "markdown",
   "id": "a8dd4d18",
   "metadata": {},
   "source": [
    "# 3 answer\n",
    "The __init__() function in Python is a special method used in class definitions. It is known as a constructor method and is automatically called when an instance of a class is created. The primary purpose of the __init__() function is to initialize the attributes or properties of an object when it is instantiated."
   ]
  },
  {
   "cell_type": "code",
   "execution_count": 2,
   "id": "649d5705",
   "metadata": {},
   "outputs": [
    {
     "name": "stdout",
     "output_type": "stream",
     "text": [
      "Buddy is 3 years old.\n",
      "Max is 5 years old.\n",
      "Buddy barks!\n",
      "Max barks!\n"
     ]
    }
   ],
   "source": [
    "class Dog:\n",
    "    def __init__(self, name, age):\n",
    "        self.name = name\n",
    "        self.age = age\n",
    "\n",
    "    def bark(self):\n",
    "        print(f\"{self.name} barks!\")\n",
    "\n",
    "\n",
    "dog1 = Dog(\"Buddy\", 3)\n",
    "dog2 = Dog(\"Max\", 5)\n",
    "\n",
    "\n",
    "print(f\"{dog1.name} is {dog1.age} years old.\")\n",
    "print(f\"{dog2.name} is {dog2.age} years old.\")\n",
    "\n",
    "\n",
    "dog1.bark()\n",
    "dog2.bark()\n"
   ]
  },
  {
   "cell_type": "markdown",
   "id": "d585601e",
   "metadata": {},
   "source": [
    "# 4 answer \n",
    "In object-oriented programming (OOP), the self keyword is used to refer to the instance of the class that a method or attribute belongs to. It serves as a reference to the object itself, allowing you to access and manipulate its attributes and methods. The use of self is a fundamental concept in OOP and is essential for maintaining the encapsulation and behavior of objects."
   ]
  },
  {
   "cell_type": "markdown",
   "id": "8cf8eaa0",
   "metadata": {},
   "source": [
    "# 5 answer \n",
    "Inheritance is a fundamental concept in object-oriented programming (OOP) that allows you to create a new class (subclass or derived class) based on an existing class (superclass or base class). The new class inherits attributes and behaviors (methods) from the existing class, which promotes code reuse and enables the creation of a hierarchy of classes with shared characteristics.\n",
    "\n",
    "There are several types of inheritance, including single inheritance, multiple inheritance, multilevel inheritance, and hierarchical inheritance."
   ]
  },
  {
   "cell_type": "code",
   "execution_count": 3,
   "id": "546a309d",
   "metadata": {},
   "outputs": [
    {
     "name": "stdout",
     "output_type": "stream",
     "text": [
      "Car moves on roads\n",
      "Plane flies in the sky\n",
      "Boat sails on water\n"
     ]
    }
   ],
   "source": [
    "class Vehicle:\n",
    "    def move(self):\n",
    "        pass\n",
    "\n",
    "class Car(Vehicle):\n",
    "    def move(self):\n",
    "        return \"Car moves on roads\"\n",
    "\n",
    "class Plane(Vehicle):\n",
    "    def move(self):\n",
    "        return \"Plane flies in the sky\"\n",
    "\n",
    "class Boat(Vehicle):\n",
    "    def move(self):\n",
    "        return \"Boat sails on water\"\n",
    "\n",
    "car = Car()\n",
    "print(car.move())  \n",
    "\n",
    "plane = Plane()\n",
    "print(plane.move())  \n",
    "\n",
    "boat = Boat()\n",
    "print(boat.move()) \n"
   ]
  },
  {
   "cell_type": "code",
   "execution_count": null,
   "id": "d0cb98c0",
   "metadata": {},
   "outputs": [],
   "source": []
  }
 ],
 "metadata": {
  "kernelspec": {
   "display_name": "Python 3 (ipykernel)",
   "language": "python",
   "name": "python3"
  },
  "language_info": {
   "codemirror_mode": {
    "name": "ipython",
    "version": 3
   },
   "file_extension": ".py",
   "mimetype": "text/x-python",
   "name": "python",
   "nbconvert_exporter": "python",
   "pygments_lexer": "ipython3",
   "version": "3.11.4"
  }
 },
 "nbformat": 4,
 "nbformat_minor": 5
}
