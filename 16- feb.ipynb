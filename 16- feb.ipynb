{
 "cells": [
  {
   "cell_type": "markdown",
   "id": "d466e262",
   "metadata": {},
   "source": [
    "#1 answer\n",
    "\n",
    "Database is an electronic place/system where data is stored in a way that it can be easily accessed, managed, and updated. It is also used to organize the data in the form of a table, schema, views, and reports, etc.\n",
    "\n",
    "SQL and NoSQL databases\n",
    "\n",
    "1. Relation\n",
    "SQL is a relational database management system.\n",
    "NoSQL is a non-relational or distributed database management system\n",
    "2. Model\n",
    "SQL follows the ACID model\n",
    "No-SQL follows the BASE model\n",
    "3. Database type\n",
    "SQL is in the form of tables, i.e., in the form of rows and columns.\n",
    "NoSQL is in the form of documents, key-value, and graphs.\n",
    "4. Data Type\n",
    "SQL is not the best choice for storing hierarchical data\n",
    "NoSQL database is a perfect option for storing hierarchical data\n",
    "5. Scaling\n",
    "SQL - esay vertical scaling, difficult horizantal scaling\n",
    "NoSQL - easy vertical and horizantal scaling"
   ]
  },
  {
   "cell_type": "markdown",
   "id": "9c0d7e4f",
   "metadata": {},
   "source": [
    "# 2 answer\n",
    " DDL stands for Data Definition Language\n",
    "Query statements are DDL, that define databases, tables & table structures (CREATE DATABASE, CREATE TABLE) or manage database & table (ALTER DATABASE, DROP DATABASE, ALTER TABLE, DROP TABLE)\n",
    "\n",
    "DDL basically defines the column of the table. DML is used to create database schema"
   ]
  },
  {
   "cell_type": "code",
   "execution_count": 1,
   "id": "3c23f8d3",
   "metadata": {},
   "outputs": [],
   "source": [
    "# cREATE :- generates a new table\n",
    "\n",
    "CREATE TABLE Student_info (\n",
    "    College_Id number(2),\n",
    "    College_name varchar(30),\n",
    "    Branch varchar(10)\n",
    ");"
   ]
  },
  {
   "cell_type": "code",
   "execution_count": 2,
   "id": "5bab789c",
   "metadata": {},
   "outputs": [],
   "source": [
    "# ALTER - add, delete or change columns in the existing table\n",
    "ALTER TABLE Student_info ADD CGPA number;"
   ]
  },
  {
   "cell_type": "code",
   "execution_count": 3,
   "id": "752939f7",
   "metadata": {},
   "outputs": [],
   "source": [
    "# TRUNCATE - remove all rows from the table, but the structure of the table still exists.\n",
    "TRUNCATE TABLE Student_info;\n"
   ]
  },
  {
   "cell_type": "code",
   "execution_count": 4,
   "id": "60367e63",
   "metadata": {},
   "outputs": [],
   "source": [
    "# DROP - remove an existing table along with its structure from the Database\n",
    "DROP TABLE Student_info; "
   ]
  },
  {
   "cell_type": "markdown",
   "id": "6868ac32",
   "metadata": {},
   "source": [
    "#3 answer\n",
    "\n",
    "DML stands for Data Manipulation Language\n",
    "\n",
    "Query statements that manipulate or fetch data (UPDATE, INSERT, MERGE etc.)\n",
    "\n",
    "DML add or update the row of the table. DML is used to add, retrieve or update the data.\n",
    "\n",
    "INSERT - insert data in database tables.\n",
    "->INSERT INTO Student (Stu_id, Stu_Name, Stu_Marks, Stu_Age) VALUES (104, Anmol, 89, 19);  \n",
    "UPDATE - update or modify the existing data in database tables.\n",
    "->UPDATE Product SET Product_Price = 80 WHERE Product_Id = 'P102';\n",
    "DELETE - remove single or multiple existing records from the database tables.\n",
    "->DELETE FROM Product WHERE Product_Id = 'P202' ;"
   ]
  },
  {
   "cell_type": "code",
   "execution_count": 6,
   "id": "ca33521c",
   "metadata": {},
   "outputs": [],
   "source": [
    "#4 answer\n",
    "\n",
    "SELECT - show the records of specific table\n",
    "\n",
    "select* from student;\n"
   ]
  },
  {
   "cell_type": "markdown",
   "id": "9ff462b0",
   "metadata": {},
   "source": [
    "#5 answer\n",
    "\n",
    "A column or columns is called primary key (PK) that uniquely identifies each row in the table.\n",
    "\n",
    "A foreign key is a field or a column that is used to establish a link between two tables. A foreign key in one table used to point primary key in another table."
   ]
  },
  {
   "cell_type": "markdown",
   "id": "8e14bbbe",
   "metadata": {},
   "source": [
    "# 6 answer\n",
    "\n",
    "To execute a SQL query in Python, we need to use a cursor, which abstracts away the access to database records.\n",
    "\n",
    "MySQL Connector/Python provides you with the MySQLCursor class, which instantiates objects that can execute MySQL queries in Python. An instance of the MySQLCursor class is also called a cursor.\n",
    "\n",
    "A query that needs to be executed is sent to cursor.execute() in string format."
   ]
  },
  {
   "cell_type": "code",
   "execution_count": 7,
   "id": "b3b268af",
   "metadata": {},
   "outputs": [],
   "source": [
    "import mysql.connector\n",
    "# import mysql.connector\n",
    "#create user 'user'@'%' identified by 'password'\n",
    "mydb = mysql.connector.connect(\n",
    "  host=\"localhost\",\n",
    "  user=\"abc\",\n",
    "  password=\"password\"\n",
    ")\n",
    "\n",
    "mycursor = mydb.cursor()\n",
    "\n",
    "mycursor.execute(\"select * from test1.test_table\")\n",
    "for i in mycursor.fetchall():\n",
    "    print(i)\n",
    "\n",
    "mydb.close()"
   ]
  },
  {
   "cell_type": "code",
   "execution_count": null,
   "id": "c1c07fd7",
   "metadata": {},
   "outputs": [],
   "source": [
    "# Order\tClause\tFunction\n",
    "1\tFROM\tTables are joined to get the base data.\n",
    "2\tWHERE\tThe base data is filtered.\n",
    "3\tGROUP BY\tThe filtered base data is grouped.\n",
    "4\tHAVING\tThe grouped base data is filtered.\n",
    "5\tSELECT\tThe final data is returned.\n",
    "6\tORDER BY\tThe final data is sorted.\n",
    "7\tLIMIT\tThe returned data is limited to row count."
   ]
  },
  {
   "cell_type": "code",
   "execution_count": null,
   "id": "7f4bca9f",
   "metadata": {},
   "outputs": [],
   "source": []
  }
 ],
 "metadata": {
  "kernelspec": {
   "display_name": "Python 3 (ipykernel)",
   "language": "python",
   "name": "python3"
  },
  "language_info": {
   "codemirror_mode": {
    "name": "ipython",
    "version": 3
   },
   "file_extension": ".py",
   "mimetype": "text/x-python",
   "name": "python",
   "nbconvert_exporter": "python",
   "pygments_lexer": "ipython3",
   "version": "3.11.4"
  }
 },
 "nbformat": 4,
 "nbformat_minor": 5
}
