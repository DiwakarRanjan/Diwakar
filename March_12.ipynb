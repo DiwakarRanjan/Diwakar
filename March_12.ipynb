{
  "nbformat": 4,
  "nbformat_minor": 0,
  "metadata": {
    "colab": {
      "provenance": []
    },
    "kernelspec": {
      "name": "python3",
      "display_name": "Python 3"
    },
    "language_info": {
      "name": "python"
    }
  },
  "cells": [
    {
      "cell_type": "markdown",
      "source": [
        "# 1 answer\n"
      ],
      "metadata": {
        "id": "zrY55JU3w5Fg"
      }
    },
    {
      "cell_type": "code",
      "execution_count": 3,
      "metadata": {
        "colab": {
          "base_uri": "https://localhost:8080/"
        },
        "id": "Iyo_7S28wwc6",
        "outputId": "acae476b-b6b6-4005-c102-adf7d4abb906"
      },
      "outputs": [
        {
          "output_type": "stream",
          "name": "stdout",
          "text": [
            "95%confidence Interval: (49.02001800772997, 50.97998199227003)\n"
          ]
        }
      ],
      "source": [
        "import numpy as np\n",
        "from scipy.stats import norm\n",
        "mean=50\n",
        "std_dev=5\n",
        "confidence_level=0.95\n",
        "sample_size=100\n",
        "z_score=norm.ppf(1-(1-confidence_level)/2)\n",
        "margin_of_error=z_score*(std_dev/np.sqrt(sample_size))\n",
        "lower_bound=mean-margin_of_error\n",
        "upper_bound=mean+margin_of_error\n",
        "print(\"95%confidence Interval:\",(lower_bound,upper_bound))\n"
      ]
    },
    {
      "cell_type": "markdown",
      "source": [
        "# 2 answer"
      ],
      "metadata": {
        "id": "MXshNovI0Suc"
      }
    },
    {
      "cell_type": "code",
      "source": [
        "import numpy as np\n",
        "from scipy.stats import chisquare\n",
        "observed_frequencies=np.array([25,18,20,12,10,15])\n",
        "expected_probabilities=np.array([0.20,0.20,0.20,0.10,0.10,0.20])\n",
        "total_observations=np.sum(observed_frequencies)\n",
        "expected_frequencies=expected_probabilities*total_observations\n",
        "chi2_stat,p_val=chisquare(observed_frequencies,f_exp=expected_frequencies)\n",
        "significance_level=0.05\n",
        "print(\"chisquare statistic:\",chi2_stat)\n",
        "print(\"P_value:\",p_val)\n",
        "if p_val<significance_level:\n",
        "  print(\"reject the null hypothesis:the observed distribution does not match the expected distribution\")\n",
        "else:\n",
        "  print(\"fail to reject null hypothesis:the observed distribution match the expected distribution\")"
      ],
      "metadata": {
        "colab": {
          "base_uri": "https://localhost:8080/"
        },
        "id": "tWMG4ofw0ULa",
        "outputId": "d16608e8-5b6d-4ccc-d2cc-a5df4138b954"
      },
      "execution_count": 7,
      "outputs": [
        {
          "output_type": "stream",
          "name": "stdout",
          "text": [
            "chisquare statistic: 3.1\n",
            "P_value: 0.6845720146699826\n",
            "fail to reject null hypothesis:the observed distribution match the expected distribution\n"
          ]
        }
      ]
    },
    {
      "cell_type": "markdown",
      "source": [
        "# 3 answer"
      ],
      "metadata": {
        "id": "KmRX-zXT229K"
      }
    },
    {
      "cell_type": "code",
      "source": [
        "import numpy as np\n",
        "from scipy.stats import chi2_contingency\n",
        "data=np.array([[20,15],\n",
        "               [10,25],\n",
        "               [15,20]])\n",
        "chi2_stat,p_val,dof,expected=chi2_contingency(data)\n",
        "print(\"chi-square statistics:\",chi2_stat)\n",
        "print(\"p-value:\",p_val)\n",
        "print(\"degree of freedom:\",dof)\n",
        "print(\"expected frequencies:\",expected)"
      ],
      "metadata": {
        "colab": {
          "base_uri": "https://localhost:8080/"
        },
        "id": "gydaV--827_P",
        "outputId": "f989a9ac-6b33-4c17-dae4-bb5fdd731b82"
      },
      "execution_count": 9,
      "outputs": [
        {
          "output_type": "stream",
          "name": "stdout",
          "text": [
            "chi-square statistics: 5.833333333333334\n",
            "p-value: 0.05411376622282158\n",
            "degree of freedom: 2\n",
            "expected frequencies: [[15. 20.]\n",
            " [15. 20.]\n",
            " [15. 20.]]\n"
          ]
        }
      ]
    },
    {
      "cell_type": "markdown",
      "source": [
        "# 4 answer"
      ],
      "metadata": {
        "id": "43GEi2X539JE"
      }
    },
    {
      "cell_type": "code",
      "source": [
        "import numpy as np\n",
        "from scipy.stats import norm\n",
        "\n",
        "def wilson_score_interval(sample_size, successes, confidence_level=0.95):\n",
        "    z = norm.ppf(1 - (1 - confidence_level) / 2)\n",
        "    p_hat = successes / sample_size\n",
        "    denominator = 1 + z**2 / sample_size\n",
        "    adjusted_p = (p_hat + z**2 / (2 * sample_size)) / denominator\n",
        "    margin_of_error = z * np.sqrt((p_hat * (1 - p_hat) + z**2 / (4 * sample_size)) / denominator)\n",
        "    lower_bound = adjusted_p - margin_of_error\n",
        "    upper_bound = adjusted_p + margin_of_error\n",
        "    return lower_bound, upper_bound\n",
        "sample_size = 500\n",
        "successes = 60\n",
        "confidence_level = 0.95\n",
        "lower_bound, upper_bound = wilson_score_interval(sample_size, successes, confidence_level)\n",
        "print(\"95% Confidence Interval:\", (lower_bound, upper_bound))\n"
      ],
      "metadata": {
        "colab": {
          "base_uri": "https://localhost:8080/"
        },
        "id": "r8NHb_Oi4E6M",
        "outputId": "00f89f5b-9c8c-475b-ab10-bf8c8015fcd1"
      },
      "execution_count": 10,
      "outputs": [
        {
          "output_type": "stream",
          "name": "stdout",
          "text": [
            "95% Confidence Interval: (-0.5173271830305124, 0.763121681781292)\n"
          ]
        }
      ]
    },
    {
      "cell_type": "markdown",
      "source": [
        "# 5 answer"
      ],
      "metadata": {
        "id": "02UeTfdQ4cdM"
      }
    },
    {
      "cell_type": "code",
      "source": [
        "import numpy as np\n",
        "from scipy.stats import t\n",
        "mean=75\n",
        "std_dev=12\n",
        "confidence_level=0.90\n",
        "sample_size=50\n",
        "t_score=t.ppf(1-(1-confidence_level)/2,df=sample_size-1)\n",
        "margin_of_error=t_score*(std_dev/np.sqrt(sample_size))\n",
        "lower_bound= mean-margin_of_error\n",
        "upper_bound=mean+margin_of_error\n",
        "print(\"90% confidence interval:\",(lower_bound,upper_bound))"
      ],
      "metadata": {
        "colab": {
          "base_uri": "https://localhost:8080/"
        },
        "id": "iy9ujiNd4d7a",
        "outputId": "84a649c3-d936-4a64-e4ac-8b5ae3ea97d5"
      },
      "execution_count": 11,
      "outputs": [
        {
          "output_type": "stream",
          "name": "stdout",
          "text": [
            "90% confidence interval: (72.15479878877537, 77.84520121122463)\n"
          ]
        }
      ]
    },
    {
      "cell_type": "markdown",
      "source": [
        "# 6 answer"
      ],
      "metadata": {
        "id": "oMmqwOZk6Avb"
      }
    },
    {
      "cell_type": "code",
      "source": [
        "import numpy as np\n",
        "import matplotlib.pyplot as plt\n",
        "from scipy.stats import chi2\n",
        "df=10\n",
        "x=np.linspace(0,30,1000)\n",
        "pdf=chi2.pdf(x,df)\n",
        "plt.figure(figsize=(8,5))\n",
        "plt.plot(x,pdf,label=f'Degree of Freedom={df}')\n",
        "plt.xlabel('chi-square statistic')\n",
        "plt.ylabel('probability Density Function')\n",
        "plt.title('Chi-square Distribution')\n",
        "plt.fill_between(x,pdf,where=(x>=0)&(x<=15),color='green',alpha=0.3,label='Area of statistic=15')\n",
        "plt.legend()\n",
        "plt.grid()\n",
        "plt.show()"
      ],
      "metadata": {
        "colab": {
          "base_uri": "https://localhost:8080/",
          "height": 439
        },
        "id": "zngoNKWY6CBW",
        "outputId": "0374581a-05e5-4ace-fcc7-c9782b90d17b"
      },
      "execution_count": 13,
      "outputs": [
        {
          "output_type": "display_data",
          "data": {
            "text/plain": [
              "<Figure size 800x500 with 1 Axes>"
            ],
            "image/png": "[encoded data removed]"
          },
          "metadata": {}
        }
      ]
    },
    {
      "cell_type": "markdown",
      "source": [
        "# 7 answer"
      ],
      "metadata": {
        "id": "3HuT4cv06DUA"
      }
    },
    {
      "cell_type": "code",
      "source": [
        "import numpy as np\n",
        "from scipy.stats import norm\n",
        "def wilson_score_interval(sample_size, successes, confidence_level=0.99):\n",
        "    z = norm.ppf(1 - (1 - confidence_level) / 2)\n",
        "    p_hat = successes / sample_size\n",
        "    denominator = 1 + z**2 / sample_size\n",
        "    adjusted_p = (p_hat + z**2 / (2 * sample_size)) / denominator\n",
        "    margin_of_error = z * np.sqrt((p_hat * (1 - p_hat) + z**2 / (4 * sample_size)) / denominator)\n",
        "    lower_bound = adjusted_p - margin_of_error\n",
        "    upper_bound = adjusted_p + margin_of_error\n",
        "    return lower_bound, upper_bound\n",
        "sample_size = 1000\n",
        "successes = 520\n",
        "confidence_level = 0.99\n",
        "lower_bound, upper_bound = wilson_score_interval(sample_size, successes, confidence_level)\n",
        "print(\"99% Confidence Interval:\", (lower_bound, upper_bound))"
      ],
      "metadata": {
        "colab": {
          "base_uri": "https://localhost:8080/"
        },
        "id": "fUq5Qs5J6EZa",
        "outputId": "0a887d48-802e-427e-e326-9ec77da29a74"
      },
      "execution_count": 14,
      "outputs": [
        {
          "output_type": "stream",
          "name": "stdout",
          "text": [
            "99% Confidence Interval: (-0.7670225273961048, 1.8067588807999684)\n"
          ]
        }
      ]
    },
    {
      "cell_type": "markdown",
      "source": [
        "# 8 answer"
      ],
      "metadata": {
        "id": "USi4E9306FJr"
      }
    },
    {
      "cell_type": "code",
      "source": [
        "import numpy as np\n",
        "from scipy.stats import chisquare\n",
        "observed_frequencies=np.array([45,55])\n",
        "expected_frequencies=np.array([50,50])\n",
        "significance_level=0.05\n",
        "chi2_stat, p_val = chisquare(observed_frequencies, f_exp=expected_frequencies)\n",
        "print(\"chi-square statistics:\",chi2_stat)\n",
        "print(\"P-value:\",p_val)\n",
        "if p_val < significance_level:\n",
        "  print(\"reject the null hypothesis: the coin is based\")\n",
        "else:\n",
        "  print(\"Fail to reject hypothesis:the coin is fair.\")"
      ],
      "metadata": {
        "colab": {
          "base_uri": "https://localhost:8080/"
        },
        "id": "7ABBOMYW6GSO",
        "outputId": "a07a7ad8-cc52-4a9b-dc8c-0839c4e1be52"
      },
      "execution_count": 15,
      "outputs": [
        {
          "output_type": "stream",
          "name": "stdout",
          "text": [
            "chi-square statistics: 1.0\n",
            "P-value: 0.31731050786291115\n",
            "Fail to reject hypothesis:the coin is fair.\n"
          ]
        }
      ]
    },
    {
      "cell_type": "markdown",
      "source": [
        "# 9 answer"
      ],
      "metadata": {
        "id": "-lPi293-6HAP"
      }
    },
    {
      "cell_type": "code",
      "source": [
        "import numpy as np\n",
        "from scipy.stats import chi2_contingency\n",
        "observed_data=np.array([[60,140],\n",
        "                        [30,170]])\n",
        "chi2_stat,p_val,dof,expected=chi2_contingency(observed_data)\n",
        "significance_level=0.05\n",
        "print(\"chi-square statistics:\",chi2_stat)\n",
        "print(\"p-value\",p_val)\n",
        "if p_val < significance_level:\n",
        "  print(\"reject the null hypothesis:There is a significant association between smoking status and lung cancer diagnosis\")\n",
        "else:\n",
        "  print(\"Fail to reject the null hypothesis: There is no significant association between smoking status and lung cancer diagnosis.\")"
      ],
      "metadata": {
        "colab": {
          "base_uri": "https://localhost:8080/"
        },
        "id": "23e3kbVR6I04",
        "outputId": "30f96027-5c0a-41a4-b4b6-defd099a7c7f"
      },
      "execution_count": 16,
      "outputs": [
        {
          "output_type": "stream",
          "name": "stdout",
          "text": [
            "chi-square statistics: 12.057347670250895\n",
            "p-value 0.0005158863863703744\n",
            "reject the null hypothesis:There is a significant association between smoking status and lung cancer diagnosis\n"
          ]
        }
      ]
    },
    {
      "cell_type": "markdown",
      "source": [
        "# 10 answer"
      ],
      "metadata": {
        "id": "eM2lMLXDDACm"
      }
    },
    {
      "cell_type": "code",
      "source": [
        "import numpy as np\n",
        "from scipy.stats import chi2_contingency\n",
        "observed_data = np.array([[200, 150, 150],  # U.S. Milk, Dark, White\n",
        "                          [225, 175, 100]]) # U.K. Milk, Dark, White\n",
        "chi2_stat, p_val, dof, expected = chi2_contingency(observed_data)\n",
        "significance_level = 0.05\n",
        "print(\"Chi-square statistic:\", chi2_stat)\n",
        "print(\"P-value:\", p_val)\n",
        "if p_val < significance_level:\n",
        "    print(\"Reject the null hypothesis: There is a significant association between chocolate preference and country of origin.\")\n",
        "else:\n",
        "    print(\"Fail to reject the null hypothesis: There is no significant association between chocolate preference and country of origin.\")\n"
      ],
      "metadata": {
        "colab": {
          "base_uri": "https://localhost:8080/"
        },
        "id": "dcsAE1FMDBrC",
        "outputId": "93129610-c4da-4dd7-942c-ff2692a526f4"
      },
      "execution_count": 17,
      "outputs": [
        {
          "output_type": "stream",
          "name": "stdout",
          "text": [
            "Chi-square statistic: 13.393665158371041\n",
            "P-value: 0.0012348168997745918\n",
            "Reject the null hypothesis: There is a significant association between chocolate preference and country of origin.\n"
          ]
        }
      ]
    },
    {
      "cell_type": "markdown",
      "source": [
        "# 11 answer"
      ],
      "metadata": {
        "id": "_Gjf-9mrD5y9"
      }
    },
    {
      "cell_type": "code",
      "source": [
        "import numpy as np\n",
        "from scipy.stats import t\n",
        "sample_mean = 72\n",
        "sample_std_dev = 10\n",
        "sample_size = 30\n",
        "population_mean = 70\n",
        "significance_level = 0.05\n",
        "t_statistic = (sample_mean - population_mean) / (sample_std_dev / np.sqrt(sample_size))\n",
        "degrees_of_freedom = sample_size - 1\n",
        "critical_t_value = t.ppf(1 - significance_level / 2, df=degrees_of_freedom)\n",
        "p_value = 2 * (1 - t.cdf(abs(t_statistic), df=degrees_of_freedom))\n",
        "print(\"T-statistic:\", t_statistic)\n",
        "print(\"P-value:\", p_value)\n",
        "if p_value < significance_level:\n",
        "    print(\"Reject the null hypothesis: The population mean is significantly different from 70.\")\n",
        "else:\n",
        "    print(\"Fail to reject the null hypothesis: There is no significant difference in the population mean.\")\n"
      ],
      "metadata": {
        "colab": {
          "base_uri": "https://localhost:8080/"
        },
        "id": "VI1ECQj5FCsS",
        "outputId": "633bc8be-8ccc-4a6b-fbc8-638326d0cfc9"
      },
      "execution_count": 19,
      "outputs": [
        {
          "output_type": "stream",
          "name": "stdout",
          "text": [
            "T-statistic: 1.0954451150103321\n",
            "P-value: 0.2823362372860698\n",
            "Fail to reject the null hypothesis: There is no significant difference in the population mean.\n"
          ]
        }
      ]
    }
  ]
}