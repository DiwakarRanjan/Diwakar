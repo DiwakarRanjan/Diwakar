{
 "cells": [
  {
   "cell_type": "code",
   "execution_count": 3,
   "id": "2492a02b",
   "metadata": {},
   "outputs": [
    {
     "name": "stdout",
     "output_type": "stream",
     "text": [
      "car has a max speed of 80 km/h and an average of 40 km/h.\n",
      "motorcycle has a max speed of 52 km/h and an average of 44 km/h.\n",
      "bus has a max speed of 44 km/h and an average of 86 km/h.\n"
     ]
    }
   ],
   "source": [
    "# 1 answer\n",
    "\n",
    "\n",
    "class Vehicle:\n",
    "    def __init__(self,  name_of_vehicle,max_speed,average_of_vehicle ):\n",
    "        self.name_of_vehicle = name_of_vehicle\n",
    "        self.max_speed = max_speed\n",
    "        self.average_of_vehicle=average_of_vehicle\n",
    "    \n",
    "    \n",
    "\n",
    "\n",
    "car =  Vehicle(\"car\",80,40)\n",
    "motorcycle =  Vehicle(\"motorcycle\",52,44)\n",
    "bus=Vehicle(\"bus\",44,86)\n",
    "\n",
    "print(f\"{car.name_of_vehicle} has a max speed of {car.max_speed} km/h and an average of {car.average_of_vehicle} km/h.\")\n",
    "print(f\"{motorcycle.name_of_vehicle} has a max speed of {motorcycle.max_speed} km/h and an average of {motorcycle.average_of_vehicle} km/h.\")\n",
    "print(f\"{bus.name_of_vehicle} has a max speed of {bus.max_speed} km/h and an average of {bus.average_of_vehicle} km/h.\")"
   ]
  },
  {
   "cell_type": "code",
   "execution_count": 4,
   "id": "a8bd046e",
   "metadata": {},
   "outputs": [
    {
     "name": "stdout",
     "output_type": "stream",
     "text": [
      "Thecarhas a seating capicity of 5.\n"
     ]
    }
   ],
   "source": [
    "# 2 answer\n",
    "class Vehicle:\n",
    "    def __init__(self,  name_of_vehicle,max_speed,average_of_vehicle ):\n",
    "        self.name_of_vehicle = name_of_vehicle\n",
    "        self.max_speed = max_speed\n",
    "        self.average_of_vehicle=average_of_vehicle\n",
    "        \n",
    "class car(Vehicle):\n",
    "    def __init__(self, name_of_vehicle,max_speed,average_of_vehicle):\n",
    "        super().__init__(name_of_vehicle,max_speed,average_of_vehicle)\n",
    "        \n",
    "    def seating_capicity(self,capicity):\n",
    "        return f\"The{self.name_of_vehicle}has a seating capicity of {capicity}.\"\n",
    "    \n",
    "    \n",
    "car_instance = car(\"car\",200,40)\n",
    "\n",
    "capicity = 5\n",
    "print(car_instance.seating_capicity(capicity))"
   ]
  },
  {
   "cell_type": "markdown",
   "id": "26b74e1c",
   "metadata": {},
   "source": [
    "# 3 answer\n",
    "Multiple inheritance is a feature in object-oriented programming where a class can inherit attributes and methods from more than one parent class. In other words, a class can inherit properties and behaviors from multiple classes. This allows you to create a new class that combines the features of multiple parent classes."
   ]
  },
  {
   "cell_type": "code",
   "execution_count": 9,
   "id": "f1f548c7",
   "metadata": {},
   "outputs": [
    {
     "name": "stdout",
     "output_type": "stream",
     "text": [
      "Engine started\n",
      "Motor is charging\n",
      "this is a fusionhybrid car\n"
     ]
    }
   ],
   "source": [
    "# 3 answer\n",
    "\n",
    "\n",
    "\n",
    "class Engine:\n",
    "    def start(self):\n",
    "        print(\"Engine started\")\n",
    "        \n",
    "    def stop(self):\n",
    "        print(\"Engine stop\")\n",
    "        \n",
    "class ElectricMotor:\n",
    "    def charge(self):\n",
    "        print(\"Motor is charging\")\n",
    "        \n",
    "    def discharge(self):\n",
    "        print(\"motor discharge\")\n",
    "        \n",
    "class hybridcar(Engine,ElectricMotor):\n",
    "    def __init__(self,name):\n",
    "        self.name=name\n",
    "        \n",
    "    def display_name(self):\n",
    "        print(f\"this is a {self.name}hybrid car\")\n",
    "        \n",
    "hybrid_car=hybridcar(\"fusion\")\n",
    "\n",
    "hybrid_car.start()\n",
    "hybrid_car.charge()\n",
    "hybrid_car.display_name()"
   ]
  },
  {
   "cell_type": "markdown",
   "id": "5520d030",
   "metadata": {},
   "source": [
    "# 4 answer\n",
    "n Python, getter and setter methods are used to control the access and modification of instance variables in a class. They allow you to encapsulate the internal state of an object and provide controlled ways to retrieve and modify its attributes.\n",
    "\n",
    "Getter Method: This method is used to retrieve the value of an instance variable.\n",
    "\n",
    "Setter Method: This method is used to set the value of an instance variable while providing a controlled way to modify it, which can include validation or additional logic."
   ]
  },
  {
   "cell_type": "code",
   "execution_count": 16,
   "id": "4004d250",
   "metadata": {},
   "outputs": [
    {
     "name": "stdout",
     "output_type": "stream",
     "text": [
      "Name: Alice\n",
      "Age: 30\n",
      "Updated Name: Diwakar Ranjan\n",
      "Updated Age: 22\n"
     ]
    }
   ],
   "source": [
    "# example 4 answer\n",
    "class Person:\n",
    "    def __init__(self, name, age):\n",
    "        self._name = name  \n",
    "        self._age = age\n",
    "\n",
    "    \n",
    "    def get_name(self):\n",
    "        return self._name\n",
    "\n",
    "    \n",
    "    def set_name(self, name):\n",
    "        if len(name) >= 2:\n",
    "            self._name = name\n",
    "        else:\n",
    "            print(\"Name must be at least 2 characters long.\")\n",
    "\n",
    "    \n",
    "    def get_age(self):\n",
    "        return self._age\n",
    "\n",
    "    def set_age(self, age):\n",
    "        if age >= 0:\n",
    "            self._age = age\n",
    "        else:\n",
    "            print(\"Age cannot be negative.\")\n",
    "\n",
    "\n",
    "person = Person(\"Alice\", 30)\n",
    "\n",
    "print(\"Name:\", person.get_name())\n",
    "print(\"Age:\", person.get_age())\n",
    "\n",
    "person.set_name(\"Diwakar Ranjan\")\n",
    "person.set_age(22)\n",
    "\n",
    "\n",
    "print(\"Updated Name:\", person.get_name())\n",
    "print(\"Updated Age:\", person.get_age())\n"
   ]
  },
  {
   "cell_type": "markdown",
   "id": "ce7db718",
   "metadata": {},
   "source": [
    "# 5 answer\n",
    "Method overriding is a concept in object-oriented programming where a subclass provides a specific implementation for a method that is already defined in its superclass. This allows the subclass to provide its own version of the method that might differ from the implementation in the superclass."
   ]
  },
  {
   "cell_type": "code",
   "execution_count": 19,
   "id": "b1ec9eb0",
   "metadata": {},
   "outputs": [
    {
     "name": "stdout",
     "output_type": "stream",
     "text": [
      "Dog barks\n",
      "Cat meows\n"
     ]
    }
   ],
   "source": [
    "class Animal:\n",
    "    def speak(self):\n",
    "        print(\"Animal speaks\")\n",
    "\n",
    "class Dog(Animal):\n",
    "    def speak(self):\n",
    "        print(\"Dog barks\")\n",
    "\n",
    "class Cat(Animal):\n",
    "    def speak(self):\n",
    "        print(\"Cat meows\")\n",
    "\n",
    "\n",
    "dog = Dog()\n",
    "cat = Cat()\n",
    "\n",
    "\n",
    "dog.speak()  \n",
    "cat.speak()  "
   ]
  },
  {
   "cell_type": "code",
   "execution_count": null,
   "id": "fc98bdbc",
   "metadata": {},
   "outputs": [],
   "source": []
  }
 ],
 "metadata": {
  "kernelspec": {
   "display_name": "Python 3 (ipykernel)",
   "language": "python",
   "name": "python3"
  },
  "language_info": {
   "codemirror_mode": {
    "name": "ipython",
    "version": 3
   },
   "file_extension": ".py",
   "mimetype": "text/x-python",
   "name": "python",
   "nbconvert_exporter": "python",
   "pygments_lexer": "ipython3",
   "version": "3.11.4"
  }
 },
 "nbformat": 4,
 "nbformat_minor": 5
}
