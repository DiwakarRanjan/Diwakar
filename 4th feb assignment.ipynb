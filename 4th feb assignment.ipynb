{
 "cells": [
  {
   "cell_type": "code",
   "execution_count": 1,
   "id": "4e79e627-b57a-4d6b-ac21-b05046d5c50f",
   "metadata": {},
   "outputs": [
    {
     "name": "stdout",
     "output_type": "stream",
     "text": [
      "[('Virat Kohli', 24936), ('Jack Kallis', 25534), ('Ricky Ponting', 27483), ('Sachin Tendulkar', 34357)]\n"
     ]
    }
   ],
   "source": [
    "#1 answer\n",
    "\n",
    "nlist = [('Sachin Tendulkar', 34357), ('Ricky Ponting', 27483), ('Jack Kallis', 25534), ('Virat Kohli', 24936)]\n",
    "\n",
    "nlist.sort(key = lambda x: x[1])\n",
    "print(nlist)"
   ]
  },
  {
   "cell_type": "code",
   "execution_count": 2,
   "id": "58716c26-93da-45b3-83e2-3b8de696c83e",
   "metadata": {},
   "outputs": [
    {
     "data": {
      "text/plain": [
       "[1, 4, 9, 16, 25, 36, 49, 64, 81, 100]"
      ]
     },
     "execution_count": 2,
     "metadata": {},
     "output_type": "execute_result"
    }
   ],
   "source": [
    "#2 answer\n",
    "nlist = [1, 2, 3, 4, 5, 6, 7, 8, 9, 10]\n",
    "list(map(lambda x: x*x, nlist))"
   ]
  },
  {
   "cell_type": "code",
   "execution_count": 3,
   "id": "288c66be-1703-4bb0-a0c7-db165d49de3a",
   "metadata": {},
   "outputs": [
    {
     "data": {
      "text/plain": [
       "('1', '2', '3', '4', '5', '6', '7', '8', '9', '10')"
      ]
     },
     "execution_count": 3,
     "metadata": {},
     "output_type": "execute_result"
    }
   ],
   "source": [
    "#3 answer\n",
    "nlist = [1, 2, 3, 4, 5, 6, 7, 8, 9, 10]\n",
    "tuple(map(lambda x: str(x), nlist))"
   ]
  },
  {
   "cell_type": "code",
   "execution_count": 5,
   "id": "06cebe2e-0871-42a1-8757-6c5b68a8313b",
   "metadata": {},
   "outputs": [],
   "source": [
    "#4 answer\n",
    "from functools import *"
   ]
  },
  {
   "cell_type": "code",
   "execution_count": 6,
   "id": "2acd0545-b551-498d-a4ea-0c5add3a84b8",
   "metadata": {},
   "outputs": [
    {
     "data": {
      "text/plain": [
       "620448401733239439360000"
      ]
     },
     "execution_count": 6,
     "metadata": {},
     "output_type": "execute_result"
    }
   ],
   "source": [
    "nlist = [i for i in range(1, 25)]\n",
    "reduce(lambda x, y: x*y, nlist)"
   ]
  },
  {
   "cell_type": "code",
   "execution_count": 7,
   "id": "2dc99396-bb10-41c9-933d-e80700d4dab5",
   "metadata": {},
   "outputs": [
    {
     "data": {
      "text/plain": [
       "[6, 60, 90, 120]"
      ]
     },
     "execution_count": 7,
     "metadata": {},
     "output_type": "execute_result"
    }
   ],
   "source": [
    "#5 answer\n",
    "nlist = [2, 3, 6, 9, 27, 60, 90, 120, 55, 46]\n",
    "list(filter(lambda x: x%2 == 0 and x%3 == 0, nlist))\n",
    "# [6, 60, 90, 120]"
   ]
  },
  {
   "cell_type": "code",
   "execution_count": 8,
   "id": "7c7b95e4-3304-451a-9572-553eb9b6e005",
   "metadata": {},
   "outputs": [
    {
     "data": {
      "text/plain": [
       "['php', 'aba', 'radar', 'level']"
      ]
     },
     "execution_count": 8,
     "metadata": {},
     "output_type": "execute_result"
    }
   ],
   "source": [
    "#6 answer\n",
    "nlist = ['python', 'php', 'aba', 'radar', 'level']\n",
    "list(filter(lambda x: (x == \"\".join(reversed(x))), nlist))"
   ]
  },
  {
   "cell_type": "code",
   "execution_count": null,
   "id": "a9358add-b6c2-4943-95b6-76f14c2359fa",
   "metadata": {},
   "outputs": [],
   "source": []
  }
 ],
 "metadata": {
  "kernelspec": {
   "display_name": "Python 3 (ipykernel)",
   "language": "python",
   "name": "python3"
  },
  "language_info": {
   "codemirror_mode": {
    "name": "ipython",
    "version": 3
   },
   "file_extension": ".py",
   "mimetype": "text/x-python",
   "name": "python",
   "nbconvert_exporter": "python",
   "pygments_lexer": "ipython3",
   "version": "3.10.8"
  }
 },
 "nbformat": 4,
 "nbformat_minor": 5
}
