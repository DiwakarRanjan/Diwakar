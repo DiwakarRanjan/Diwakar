{
 "cells": [
  {
   "cell_type": "code",
   "execution_count": null,
   "id": "3ed9fdfc",
   "metadata": {},
   "outputs": [],
   "source": [
    "# 1 answer\n",
    "Multithreading allows you to break down an application into multiple sub-tasks and run these tasks simultaneously.\n",
    "Multithreading is defined as the ability of a processor to execute multiple threads concurrently.\n",
    "If you use multithreading properly, your application speed, performance, and rendering can all be improved.\n",
    "\n",
    "Python provides one inbuilt module \"threading\" to provide support for developing threads.\n",
    "\n"
   ]
  },
  {
   "cell_type": "code",
   "execution_count": 2,
   "id": "dac43615",
   "metadata": {},
   "outputs": [
    {
     "name": "stdout",
     "output_type": "stream",
     "text": [
      "The Number of active Threads: 9\n",
      "The Number of active Threads: 7\n"
     ]
    }
   ],
   "source": [
    "#2 answer\n",
    "import time\n",
    "from threading import *\n",
    "def test(id) :\n",
    "    for i in range(id):\n",
    "        time.sleep(0.5)\n",
    "\n",
    "thred = [Thread(target=test , args = (i,)) for i in [10 , 2 , 5]]\n",
    "for t in thred:\n",
    "    t.start()\n",
    "print(\"The Number of active Threads:\",active_count())\n",
    "time.sleep(3)\n",
    "print(\"The Number of active Threads:\",active_count())"
   ]
  },
  {
   "cell_type": "code",
   "execution_count": 4,
   "id": "50985bc6",
   "metadata": {},
   "outputs": [
    {
     "name": "stdout",
     "output_type": "stream",
     "text": [
      "Current Executing Thread: MainThread\n"
     ]
    },
    {
     "name": "stderr",
     "output_type": "stream",
     "text": [
      "C:\\Users\\diwak\\AppData\\Local\\Temp\\ipykernel_17524\\3075965112.py:3: DeprecationWarning: getName() is deprecated, get the name attribute instead\n",
      "  print(\"Current Executing Thread:\",threading.current_thread().getName())\n"
     ]
    }
   ],
   "source": [
    " # we use the current_thread()function to get the current thread object.\n",
    "import threading\n",
    "print(\"Current Executing Thread:\",threading.current_thread().getName())"
   ]
  },
  {
   "cell_type": "code",
   "execution_count": 5,
   "id": "9fe8f7fa",
   "metadata": {},
   "outputs": [
    {
     "name": "stdout",
     "output_type": "stream",
     "text": [
      "<_MainThread(MainThread, started 24116)>\n",
      "<Thread(IOPub, started daemon 23316)>\n",
      "<Heartbeat(Heartbeat, started daemon 9984)>\n",
      "<ControlThread(Control, started daemon 10464)>\n",
      "<HistorySavingThread(IPythonHistorySavingThread, started 17300)>\n",
      "<ParentPollerWindows(Thread-4, started daemon 13724)>\n"
     ]
    }
   ],
   "source": [
    "# This function returns a list of all active threads currently running\n",
    "from threading import *\n",
    "threads =enumerate()\n",
    "for i in threads:\n",
    "    print(i)"
   ]
  },
  {
   "cell_type": "markdown",
   "id": "d71df6a8",
   "metadata": {},
   "source": [
    "# 3 answer\n",
    "1. start()\n",
    "\n",
    "When a thread instance is created, it doesn’t start executing until its start() method (which invokes the target function with the arguments you supplied) is invoked.\n",
    "\n",
    "\n",
    "2. run()\n",
    "\n",
    "The .run() method executes any target function belonging to a given thread object that is now active.\n",
    "It normally executes in the background after the start() method is invoked.\n",
    "\n",
    "\n",
    "3. isAlive()\n",
    "\n",
    "isAlive() method checks whether a thread is still executing or not.\n",
    "4. join()\n",
    "\n",
    "If a thread wants to wait until completing some other thread then we should go for join() method.\n"
   ]
  },
  {
   "cell_type": "code",
   "execution_count": 7,
   "id": "ef522381",
   "metadata": {},
   "outputs": [
    {
     "name": "stdout",
     "output_type": "stream",
     "text": [
      "This is my custom run!\n"
     ]
    }
   ],
   "source": [
    "import threading\n",
    "\n",
    "class CustomThread(threading.Thread):\n",
    "    \n",
    "    def run(self):\n",
    "        print(\"This is my custom run!\")\n",
    "\n",
    "custom_thread = CustomThread()\n",
    "custom_thread.start()"
   ]
  },
  {
   "cell_type": "code",
   "execution_count": 9,
   "id": "8e6f2066",
   "metadata": {},
   "outputs": [
    {
     "name": "stdout",
     "output_type": "stream",
     "text": [
      "[64, 36, 81]\n",
      "[512, 216, 729]\n"
     ]
    }
   ],
   "source": [
    "# 4 answer\n",
    "from threading import *\n",
    "\n",
    "def square(nlist):\n",
    "    print([i*i for i in nlist])\n",
    "\n",
    "def cube(nlist):\n",
    "    print([i*i*i for i in nlist])\n",
    "    \n",
    "nlist = [8 , 6 , 9]\n",
    "t1 = Thread(target=square , args = (nlist,))\n",
    "t2 = Thread(target=cube , args = (nlist,))\n",
    "t1.start()\n",
    "t2.start()"
   ]
  },
  {
   "cell_type": "markdown",
   "id": "bacad22b",
   "metadata": {},
   "source": [
    "# 5 answer\n",
    "1. Disadvantages of multithreading\n",
    "\n",
    "It needs more careful synchronization.\n",
    "My have Deadlocks and Race conditions\n",
    "It imposes context switching overhead.\n",
    "It can consume a large space of stocks of blocked threads.\n",
    "It needs support for thread or process.\n",
    "If a parent process has several threads for proper process functioning, the child processes should also be multithreaded because they may be required.\n",
    "\n",
    "2. Advantages of multithreading\n",
    "\n",
    "Enables efficient utilization of the resources as the threads share the data space and memory.\n",
    "Allows the concurrent and parallel exwcution of various tasks.\n",
    "Reduction in time consumption or response time, thereby increasing the performance."
   ]
  },
  {
   "cell_type": "markdown",
   "id": "5b8b59de",
   "metadata": {},
   "source": [
    "#6 answer\n",
    "\n",
    "A situation where a set of processes are blocked because each process is holding a resource and waiting for another resource acquired by some other process. This block situation is called Deadlock(DL)\n",
    "\n",
    "Race condition is an undesirable condition that usually happens due to multiple threads accessing a shared resource at the same time. Due to which shared data are not synchronized,"
   ]
  },
  {
   "cell_type": "code",
   "execution_count": null,
   "id": "ffed912b",
   "metadata": {},
   "outputs": [],
   "source": []
  }
 ],
 "metadata": {
  "kernelspec": {
   "display_name": "Python 3 (ipykernel)",
   "language": "python",
   "name": "python3"
  },
  "language_info": {
   "codemirror_mode": {
    "name": "ipython",
    "version": 3
   },
   "file_extension": ".py",
   "mimetype": "text/x-python",
   "name": "python",
   "nbconvert_exporter": "python",
   "pygments_lexer": "ipython3",
   "version": "3.11.4"
  }
 },
 "nbformat": 4,
 "nbformat_minor": 5
}
